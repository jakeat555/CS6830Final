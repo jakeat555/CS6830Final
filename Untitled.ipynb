{
 "cells": [
  {
   "cell_type": "markdown",
   "id": "bd77231c-e50c-4406-91fc-b625956d16f0",
   "metadata": {},
   "source": [
    "# Country Analysis\n",
    "    1. Explanitory variables\n",
    "        1. Population \n",
    "        https://en.wikipedia.org/wiki/List_of_countries_and_dependencies_by_population\n",
    "        1. Internet Prevelance (make sure to divide by population)\n",
    "        https://en.wikipedia.org/wiki/List_of_countries_by_number_of_Internet_users\n",
    "        1. Net Migration Rate\n",
    "        https://en.wikipedia.org/wiki/List_of_countries_by_net_migration_rate\n",
    "        1. Pop in poverty\n",
    "        https://en.wikipedia.org/wiki/List_of_sovereign_states_by_percentage_of_population_living_in_poverty\n",
    "        1. Employment Rate\n",
    "        https://en.wikipedia.org/wiki/List_of_sovereign_states_by_employment_rate\n",
    "        1. Literacy rate\n",
    "        https://en.wikipedia.org/wiki/List_of_countries_by_literacy_rate\n",
    "        \n",
    "    1. Some less regular variables\n",
    "        1. Wine production https://en.wikipedia.org/wiki/List_of_wine-producing_regions#Countries\n",
    "    \n",
    "    1. Target variable\n",
    "        1. Unemployment https://en.wikipedia.org/wiki/List_of_sovereign_states_by_unemployment_rate\n",
    "        \n",
    "    1. Plot unemployment vs homelesness\n",
    "    https://en.wikipedia.org/wiki/List_of_sovereign_states_by_homeless_population\n",
    "    \n",
    "    1. How is unemployment measured??\n",
    "    https://ilostat.ilo.org/resources/concepts-and-definitions/description-work-statistics-icls19/\n",
    "    \n",
    "    1. How is unemployment calculated?\n",
    "    https://ilostat.ilo.org/resources/concepts-and-definitions/description-work-statistics-icls19/#elementor-toc__heading-anchor-4"
   ]
  }
 ],
 "metadata": {
  "kernelspec": {
   "display_name": "Python 3 (ipykernel)",
   "language": "python",
   "name": "python3"
  },
  "language_info": {
   "codemirror_mode": {
    "name": "ipython",
    "version": 3
   },
   "file_extension": ".py",
   "mimetype": "text/x-python",
   "name": "python",
   "nbconvert_exporter": "python",
   "pygments_lexer": "ipython3",
   "version": "3.9.13"
  }
 },
 "nbformat": 4,
 "nbformat_minor": 5
}
