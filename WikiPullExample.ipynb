{
 "cells": [
  {
   "cell_type": "code",
   "execution_count": 1,
   "id": "393b6612",
   "metadata": {},
   "outputs": [],
   "source": [
    "import pandas as pd \n",
    "from matplotlib import pyplot as plt\n",
    "import requests # library to handle requests\n",
    "from bs4 import BeautifulSoup # library to parse HTML documents\n",
    "import seaborn as sns\n",
    "import numpy as np\n",
    "from scipy import stats"
   ]
  },
  {
   "cell_type": "code",
   "execution_count": 2,
   "id": "d3d1424b",
   "metadata": {},
   "outputs": [],
   "source": [
    "#function to get wikipedia table into dataframe\n",
    "# this function takes 2 inputs \n",
    "#url: url of the site we want scrape data from\n",
    "#className: class of the <table> tag\n",
    "def getdf(url,className):\n",
    "    wikiurl=url\n",
    "    table_class=\"wikitable sortable jquery-tablesorter\"\n",
    "    response=requests.get(wikiurl)\n",
    "    #print(response.status_code)\n",
    "    soup = BeautifulSoup(response.text, 'html.parser')\n",
    "    indiatable=soup.find('table',{'class':className})\n",
    "    df=pd.read_html(str(indiatable))\n",
    "    # convert list to dataframe\n",
    "    df=pd.DataFrame(df[0])\n",
    "    return df\n",
    "\n",
    "    "
   ]
  },
  {
   "cell_type": "markdown",
   "id": "24f7d222",
   "metadata": {},
   "source": [
    "# List of largest retail companies in the world"
   ]
  },
  {
   "cell_type": "code",
   "execution_count": 3,
   "id": "83a19e80",
   "metadata": {},
   "outputs": [],
   "source": [
    "#we first get all the information of list of largest retail companies.\n",
    "df_retail=getdf('https://en.wikipedia.org/wiki/List_of_largest_retail_companies','wikitable')"
   ]
  },
  {
   "cell_type": "code",
   "execution_count": 4,
   "id": "84205ef4",
   "metadata": {},
   "outputs": [
    {
     "data": {
      "text/html": [
       "<div>\n",
       "<style scoped>\n",
       "    .dataframe tbody tr th:only-of-type {\n",
       "        vertical-align: middle;\n",
       "    }\n",
       "\n",
       "    .dataframe tbody tr th {\n",
       "        vertical-align: top;\n",
       "    }\n",
       "\n",
       "    .dataframe thead th {\n",
       "        text-align: right;\n",
       "    }\n",
       "</style>\n",
       "<table border=\"1\" class=\"dataframe\">\n",
       "  <thead>\n",
       "    <tr style=\"text-align: right;\">\n",
       "      <th></th>\n",
       "      <th>Rank</th>\n",
       "      <th>Name</th>\n",
       "      <th>Dominant operational format</th>\n",
       "      <th>Retail revenue (US$ millions)</th>\n",
       "      <th>Net profit margin</th>\n",
       "      <th>Headquarters</th>\n",
       "      <th>Unnamed: 6</th>\n",
       "      <th>Unnamed: 7</th>\n",
       "      <th>Unnamed: 8</th>\n",
       "      <th>Unnamed: 9</th>\n",
       "      <th>Unnamed: 10</th>\n",
       "      <th>Unnamed: 11</th>\n",
       "    </tr>\n",
       "  </thead>\n",
       "  <tbody>\n",
       "    <tr>\n",
       "      <th>0</th>\n",
       "      <td>1</td>\n",
       "      <td>Walmart</td>\n",
       "      <td>Hypermarket/Supercenter/Superstore</td>\n",
       "      <td>559151</td>\n",
       "      <td>2.5%</td>\n",
       "      <td>United States, Bentonville</td>\n",
       "      <td>NaN</td>\n",
       "      <td>NaN</td>\n",
       "      <td>NaN</td>\n",
       "      <td>NaN</td>\n",
       "      <td>NaN</td>\n",
       "      <td>NaN</td>\n",
       "    </tr>\n",
       "    <tr>\n",
       "      <th>1</th>\n",
       "      <td>2</td>\n",
       "      <td>Amazon</td>\n",
       "      <td>Non-Store,E-commerce</td>\n",
       "      <td>213573</td>\n",
       "      <td>5.5%</td>\n",
       "      <td>United States, Seattle</td>\n",
       "      <td>NaN</td>\n",
       "      <td>NaN</td>\n",
       "      <td>NaN</td>\n",
       "      <td>NaN</td>\n",
       "      <td>NaN</td>\n",
       "      <td>NaN</td>\n",
       "    </tr>\n",
       "    <tr>\n",
       "      <th>2</th>\n",
       "      <td>3</td>\n",
       "      <td>Costco</td>\n",
       "      <td>Cash &amp; Carry/Warehouse Club</td>\n",
       "      <td>166761</td>\n",
       "      <td>2.4%</td>\n",
       "      <td>United States, Issaquah</td>\n",
       "      <td>NaN</td>\n",
       "      <td>NaN</td>\n",
       "      <td>NaN</td>\n",
       "      <td>NaN</td>\n",
       "      <td>NaN</td>\n",
       "      <td>NaN</td>\n",
       "    </tr>\n",
       "    <tr>\n",
       "      <th>3</th>\n",
       "      <td>4</td>\n",
       "      <td>Schwarz Gruppe</td>\n",
       "      <td>Discount Store</td>\n",
       "      <td>144254</td>\n",
       "      <td>...</td>\n",
       "      <td>Germany, Neckarsulm</td>\n",
       "      <td>NaN</td>\n",
       "      <td>NaN</td>\n",
       "      <td>NaN</td>\n",
       "      <td>NaN</td>\n",
       "      <td>NaN</td>\n",
       "      <td>NaN</td>\n",
       "    </tr>\n",
       "    <tr>\n",
       "      <th>4</th>\n",
       "      <td>5</td>\n",
       "      <td>The Home Depot</td>\n",
       "      <td>Home Improvement</td>\n",
       "      <td>132110</td>\n",
       "      <td>9.7%</td>\n",
       "      <td>United States, Atlanta</td>\n",
       "      <td>NaN</td>\n",
       "      <td>NaN</td>\n",
       "      <td>NaN</td>\n",
       "      <td>NaN</td>\n",
       "      <td>NaN</td>\n",
       "      <td>NaN</td>\n",
       "    </tr>\n",
       "  </tbody>\n",
       "</table>\n",
       "</div>"
      ],
      "text/plain": [
       "   Rank            Name         Dominant operational format  \\\n",
       "0     1         Walmart  Hypermarket/Supercenter/Superstore   \n",
       "1     2          Amazon                Non-Store,E-commerce   \n",
       "2     3          Costco         Cash & Carry/Warehouse Club   \n",
       "3     4  Schwarz Gruppe                      Discount Store   \n",
       "4     5  The Home Depot                    Home Improvement   \n",
       "\n",
       "   Retail revenue (US$ millions) Net profit margin  \\\n",
       "0                         559151              2.5%   \n",
       "1                         213573              5.5%   \n",
       "2                         166761              2.4%   \n",
       "3                         144254               ...   \n",
       "4                         132110              9.7%   \n",
       "\n",
       "                 Headquarters  Unnamed: 6  Unnamed: 7  Unnamed: 8  Unnamed: 9  \\\n",
       "0  United States, Bentonville         NaN         NaN         NaN         NaN   \n",
       "1      United States, Seattle         NaN         NaN         NaN         NaN   \n",
       "2     United States, Issaquah         NaN         NaN         NaN         NaN   \n",
       "3         Germany, Neckarsulm         NaN         NaN         NaN         NaN   \n",
       "4      United States, Atlanta         NaN         NaN         NaN         NaN   \n",
       "\n",
       "   Unnamed: 10  Unnamed: 11  \n",
       "0          NaN          NaN  \n",
       "1          NaN          NaN  \n",
       "2          NaN          NaN  \n",
       "3          NaN          NaN  \n",
       "4          NaN          NaN  "
      ]
     },
     "execution_count": 4,
     "metadata": {},
     "output_type": "execute_result"
    }
   ],
   "source": [
    "df_retail.head()"
   ]
  },
  {
   "cell_type": "code",
   "execution_count": 5,
   "id": "a83bd66f",
   "metadata": {},
   "outputs": [
    {
     "data": {
      "text/plain": [
       "Index(['Rank', 'Name', 'Dominant operational format',\n",
       "       'Retail revenue (US$ millions)', 'Net profit margin', 'Headquarters',\n",
       "       'Unnamed: 6', 'Unnamed: 7', 'Unnamed: 8', 'Unnamed: 9', 'Unnamed: 10',\n",
       "       'Unnamed: 11'],\n",
       "      dtype='object')"
      ]
     },
     "execution_count": 5,
     "metadata": {},
     "output_type": "execute_result"
    }
   ],
   "source": [
    "df_retail.columns"
   ]
  },
  {
   "cell_type": "code",
   "execution_count": 6,
   "id": "680da87e",
   "metadata": {},
   "outputs": [],
   "source": [
    "#drop the unnecessary columns\n",
    "df_retail=df_retail.drop(['Unnamed: 6', 'Unnamed: 7', 'Unnamed: 8', 'Unnamed: 9', 'Unnamed: 10',\n",
    "       'Unnamed: 11'],axis = 1)"
   ]
  },
  {
   "cell_type": "code",
   "execution_count": 7,
   "id": "034e24cb",
   "metadata": {},
   "outputs": [
    {
     "data": {
      "text/html": [
       "<div>\n",
       "<style scoped>\n",
       "    .dataframe tbody tr th:only-of-type {\n",
       "        vertical-align: middle;\n",
       "    }\n",
       "\n",
       "    .dataframe tbody tr th {\n",
       "        vertical-align: top;\n",
       "    }\n",
       "\n",
       "    .dataframe thead th {\n",
       "        text-align: right;\n",
       "    }\n",
       "</style>\n",
       "<table border=\"1\" class=\"dataframe\">\n",
       "  <thead>\n",
       "    <tr style=\"text-align: right;\">\n",
       "      <th></th>\n",
       "      <th>Rank</th>\n",
       "      <th>Name</th>\n",
       "      <th>Dominant operational format</th>\n",
       "      <th>Retail revenue (US$ millions)</th>\n",
       "      <th>Net profit margin</th>\n",
       "      <th>Headquarters</th>\n",
       "    </tr>\n",
       "  </thead>\n",
       "  <tbody>\n",
       "    <tr>\n",
       "      <th>0</th>\n",
       "      <td>1</td>\n",
       "      <td>Walmart</td>\n",
       "      <td>Hypermarket/Supercenter/Superstore</td>\n",
       "      <td>559151</td>\n",
       "      <td>2.5%</td>\n",
       "      <td>United States, Bentonville</td>\n",
       "    </tr>\n",
       "    <tr>\n",
       "      <th>1</th>\n",
       "      <td>2</td>\n",
       "      <td>Amazon</td>\n",
       "      <td>Non-Store,E-commerce</td>\n",
       "      <td>213573</td>\n",
       "      <td>5.5%</td>\n",
       "      <td>United States, Seattle</td>\n",
       "    </tr>\n",
       "    <tr>\n",
       "      <th>2</th>\n",
       "      <td>3</td>\n",
       "      <td>Costco</td>\n",
       "      <td>Cash &amp; Carry/Warehouse Club</td>\n",
       "      <td>166761</td>\n",
       "      <td>2.4%</td>\n",
       "      <td>United States, Issaquah</td>\n",
       "    </tr>\n",
       "    <tr>\n",
       "      <th>3</th>\n",
       "      <td>4</td>\n",
       "      <td>Schwarz Gruppe</td>\n",
       "      <td>Discount Store</td>\n",
       "      <td>144254</td>\n",
       "      <td>...</td>\n",
       "      <td>Germany, Neckarsulm</td>\n",
       "    </tr>\n",
       "    <tr>\n",
       "      <th>4</th>\n",
       "      <td>5</td>\n",
       "      <td>The Home Depot</td>\n",
       "      <td>Home Improvement</td>\n",
       "      <td>132110</td>\n",
       "      <td>9.7%</td>\n",
       "      <td>United States, Atlanta</td>\n",
       "    </tr>\n",
       "  </tbody>\n",
       "</table>\n",
       "</div>"
      ],
      "text/plain": [
       "   Rank            Name         Dominant operational format  \\\n",
       "0     1         Walmart  Hypermarket/Supercenter/Superstore   \n",
       "1     2          Amazon                Non-Store,E-commerce   \n",
       "2     3          Costco         Cash & Carry/Warehouse Club   \n",
       "3     4  Schwarz Gruppe                      Discount Store   \n",
       "4     5  The Home Depot                    Home Improvement   \n",
       "\n",
       "   Retail revenue (US$ millions) Net profit margin                Headquarters  \n",
       "0                         559151              2.5%  United States, Bentonville  \n",
       "1                         213573              5.5%      United States, Seattle  \n",
       "2                         166761              2.4%     United States, Issaquah  \n",
       "3                         144254               ...         Germany, Neckarsulm  \n",
       "4                         132110              9.7%      United States, Atlanta  "
      ]
     },
     "execution_count": 7,
     "metadata": {},
     "output_type": "execute_result"
    }
   ],
   "source": [
    "df_retail.head()"
   ]
  },
  {
   "cell_type": "code",
   "execution_count": 8,
   "id": "7017a3a3",
   "metadata": {},
   "outputs": [],
   "source": [
    "# getting the country information by seperating country and state info from Headquarters column.\n",
    "df_retail[['country','state','0']]=df_retail['Headquarters'].str.split(',',expand = True)"
   ]
  },
  {
   "cell_type": "code",
   "execution_count": 9,
   "id": "9a584a16",
   "metadata": {},
   "outputs": [
    {
     "data": {
      "text/html": [
       "<div>\n",
       "<style scoped>\n",
       "    .dataframe tbody tr th:only-of-type {\n",
       "        vertical-align: middle;\n",
       "    }\n",
       "\n",
       "    .dataframe tbody tr th {\n",
       "        vertical-align: top;\n",
       "    }\n",
       "\n",
       "    .dataframe thead th {\n",
       "        text-align: right;\n",
       "    }\n",
       "</style>\n",
       "<table border=\"1\" class=\"dataframe\">\n",
       "  <thead>\n",
       "    <tr style=\"text-align: right;\">\n",
       "      <th></th>\n",
       "      <th>Rank</th>\n",
       "      <th>Name</th>\n",
       "      <th>Dominant operational format</th>\n",
       "      <th>Retail revenue (US$ millions)</th>\n",
       "      <th>Net profit margin</th>\n",
       "      <th>Headquarters</th>\n",
       "      <th>country</th>\n",
       "      <th>state</th>\n",
       "      <th>0</th>\n",
       "    </tr>\n",
       "  </thead>\n",
       "  <tbody>\n",
       "    <tr>\n",
       "      <th>0</th>\n",
       "      <td>1</td>\n",
       "      <td>Walmart</td>\n",
       "      <td>Hypermarket/Supercenter/Superstore</td>\n",
       "      <td>559151</td>\n",
       "      <td>2.5%</td>\n",
       "      <td>United States, Bentonville</td>\n",
       "      <td>United States</td>\n",
       "      <td>Bentonville</td>\n",
       "      <td>None</td>\n",
       "    </tr>\n",
       "    <tr>\n",
       "      <th>1</th>\n",
       "      <td>2</td>\n",
       "      <td>Amazon</td>\n",
       "      <td>Non-Store,E-commerce</td>\n",
       "      <td>213573</td>\n",
       "      <td>5.5%</td>\n",
       "      <td>United States, Seattle</td>\n",
       "      <td>United States</td>\n",
       "      <td>Seattle</td>\n",
       "      <td>None</td>\n",
       "    </tr>\n",
       "    <tr>\n",
       "      <th>2</th>\n",
       "      <td>3</td>\n",
       "      <td>Costco</td>\n",
       "      <td>Cash &amp; Carry/Warehouse Club</td>\n",
       "      <td>166761</td>\n",
       "      <td>2.4%</td>\n",
       "      <td>United States, Issaquah</td>\n",
       "      <td>United States</td>\n",
       "      <td>Issaquah</td>\n",
       "      <td>None</td>\n",
       "    </tr>\n",
       "    <tr>\n",
       "      <th>3</th>\n",
       "      <td>4</td>\n",
       "      <td>Schwarz Gruppe</td>\n",
       "      <td>Discount Store</td>\n",
       "      <td>144254</td>\n",
       "      <td>...</td>\n",
       "      <td>Germany, Neckarsulm</td>\n",
       "      <td>Germany</td>\n",
       "      <td>Neckarsulm</td>\n",
       "      <td>None</td>\n",
       "    </tr>\n",
       "    <tr>\n",
       "      <th>4</th>\n",
       "      <td>5</td>\n",
       "      <td>The Home Depot</td>\n",
       "      <td>Home Improvement</td>\n",
       "      <td>132110</td>\n",
       "      <td>9.7%</td>\n",
       "      <td>United States, Atlanta</td>\n",
       "      <td>United States</td>\n",
       "      <td>Atlanta</td>\n",
       "      <td>None</td>\n",
       "    </tr>\n",
       "  </tbody>\n",
       "</table>\n",
       "</div>"
      ],
      "text/plain": [
       "   Rank            Name         Dominant operational format  \\\n",
       "0     1         Walmart  Hypermarket/Supercenter/Superstore   \n",
       "1     2          Amazon                Non-Store,E-commerce   \n",
       "2     3          Costco         Cash & Carry/Warehouse Club   \n",
       "3     4  Schwarz Gruppe                      Discount Store   \n",
       "4     5  The Home Depot                    Home Improvement   \n",
       "\n",
       "   Retail revenue (US$ millions) Net profit margin  \\\n",
       "0                         559151              2.5%   \n",
       "1                         213573              5.5%   \n",
       "2                         166761              2.4%   \n",
       "3                         144254               ...   \n",
       "4                         132110              9.7%   \n",
       "\n",
       "                 Headquarters        country         state     0  \n",
       "0  United States, Bentonville  United States   Bentonville  None  \n",
       "1      United States, Seattle  United States       Seattle  None  \n",
       "2     United States, Issaquah  United States      Issaquah  None  \n",
       "3         Germany, Neckarsulm        Germany    Neckarsulm  None  \n",
       "4      United States, Atlanta  United States       Atlanta  None  "
      ]
     },
     "execution_count": 9,
     "metadata": {},
     "output_type": "execute_result"
    }
   ],
   "source": [
    "df_retail.head()"
   ]
  },
  {
   "cell_type": "code",
   "execution_count": 10,
   "id": "c6b9488f",
   "metadata": {},
   "outputs": [
    {
     "data": {
      "text/plain": [
       "array(['United States', 'Germany', 'China', 'Netherlands', 'Japan',\n",
       "       'United Kingdom', 'France', 'Australia', 'Canada', 'Switzerland',\n",
       "       'Spain', 'Russia', 'Hong Kong', 'Portugal', 'Sweden', 'India',\n",
       "       'South Korea', 'Thailand', 'Italy', 'Mexico', 'Chile', 'Finland',\n",
       "       'South Africa'], dtype=object)"
      ]
     },
     "execution_count": 10,
     "metadata": {},
     "output_type": "execute_result"
    }
   ],
   "source": [
    "df_retail.country.unique()"
   ]
  },
  {
   "cell_type": "markdown",
   "id": "cbf92240",
   "metadata": {},
   "source": [
    "Just want to check for the top 5 countries in the above list"
   ]
  },
  {
   "cell_type": "code",
   "execution_count": 11,
   "id": "3f08dbbf",
   "metadata": {},
   "outputs": [],
   "source": [
    "\n",
    "df_retail_count=df_retail.groupby('country').agg({'Name':'count'}).reset_index()\n"
   ]
  },
  {
   "cell_type": "code",
   "execution_count": 12,
   "id": "57c582dd",
   "metadata": {},
   "outputs": [],
   "source": [
    "df_retail_count=df_retail_count.rename(columns={\"Name\":'count'})"
   ]
  },
  {
   "cell_type": "code",
   "execution_count": 13,
   "id": "6f9d4bc2",
   "metadata": {},
   "outputs": [],
   "source": [
    "df_retail_count=df_retail_count.sort_values('count',ascending=False)"
   ]
  },
  {
   "cell_type": "code",
   "execution_count": 14,
   "id": "ae31b89a",
   "metadata": {},
   "outputs": [],
   "source": [
    "top_5=df_retail_count.head(5)"
   ]
  },
  {
   "cell_type": "code",
   "execution_count": 15,
   "id": "4253cae8",
   "metadata": {},
   "outputs": [
    {
     "data": {
      "text/html": [
       "<div>\n",
       "<style scoped>\n",
       "    .dataframe tbody tr th:only-of-type {\n",
       "        vertical-align: middle;\n",
       "    }\n",
       "\n",
       "    .dataframe tbody tr th {\n",
       "        vertical-align: top;\n",
       "    }\n",
       "\n",
       "    .dataframe thead th {\n",
       "        text-align: right;\n",
       "    }\n",
       "</style>\n",
       "<table border=\"1\" class=\"dataframe\">\n",
       "  <thead>\n",
       "    <tr style=\"text-align: right;\">\n",
       "      <th></th>\n",
       "      <th>country</th>\n",
       "      <th>count</th>\n",
       "    </tr>\n",
       "  </thead>\n",
       "  <tbody>\n",
       "    <tr>\n",
       "      <th>22</th>\n",
       "      <td>United States</td>\n",
       "      <td>32</td>\n",
       "    </tr>\n",
       "    <tr>\n",
       "      <th>5</th>\n",
       "      <td>France</td>\n",
       "      <td>9</td>\n",
       "    </tr>\n",
       "    <tr>\n",
       "      <th>6</th>\n",
       "      <td>Germany</td>\n",
       "      <td>9</td>\n",
       "    </tr>\n",
       "    <tr>\n",
       "      <th>21</th>\n",
       "      <td>United Kingdom</td>\n",
       "      <td>7</td>\n",
       "    </tr>\n",
       "    <tr>\n",
       "      <th>10</th>\n",
       "      <td>Japan</td>\n",
       "      <td>5</td>\n",
       "    </tr>\n",
       "  </tbody>\n",
       "</table>\n",
       "</div>"
      ],
      "text/plain": [
       "           country  count\n",
       "22   United States     32\n",
       "5           France      9\n",
       "6          Germany      9\n",
       "21  United Kingdom      7\n",
       "10           Japan      5"
      ]
     },
     "execution_count": 15,
     "metadata": {},
     "output_type": "execute_result"
    }
   ],
   "source": [
    "top_5"
   ]
  },
  {
   "cell_type": "code",
   "execution_count": 82,
   "id": "d63d0ebe",
   "metadata": {},
   "outputs": [
    {
     "data": {
      "text/plain": [
       "Text(0, 0.5, 'Number of companies')"
      ]
     },
     "execution_count": 82,
     "metadata": {},
     "output_type": "execute_result"
    },
    {
     "data": {
      "image/png": "[encoded data removed]",
      "text/plain": [
       "<Figure size 432x288 with 1 Axes>"
      ]
     },
     "metadata": {
      "needs_background": "light"
     },
     "output_type": "display_data"
    }
   ],
   "source": [
    "sns.barplot(data=top_5.head(5),x=top_5['country'],y=top_5['count'])\n",
    "plt.title('Top 5 countries with most retail companies')\n",
    "plt.ylabel('Number of companies')"
   ]
  },
  {
   "cell_type": "markdown",
   "id": "fa5496bc",
   "metadata": {},
   "source": [
    "USA has holds top place with 32 companies from top 100 companies. So we want focus on USA retail companies."
   ]
  },
  {
   "cell_type": "markdown",
   "id": "8f62e155",
   "metadata": {},
   "source": [
    "# List of USA retail companies"
   ]
  },
  {
   "cell_type": "code",
   "execution_count": 17,
   "id": "46ff558c",
   "metadata": {},
   "outputs": [],
   "source": [
    "df_retail_usa=df_retail[df_retail['country']=='United States'].reset_index().drop('index',axis=1)"
   ]
  },
  {
   "cell_type": "code",
   "execution_count": 18,
   "id": "a9608a09",
   "metadata": {},
   "outputs": [
    {
     "data": {
      "text/html": [
       "<div>\n",
       "<style scoped>\n",
       "    .dataframe tbody tr th:only-of-type {\n",
       "        vertical-align: middle;\n",
       "    }\n",
       "\n",
       "    .dataframe tbody tr th {\n",
       "        vertical-align: top;\n",
       "    }\n",
       "\n",
       "    .dataframe thead th {\n",
       "        text-align: right;\n",
       "    }\n",
       "</style>\n",
       "<table border=\"1\" class=\"dataframe\">\n",
       "  <thead>\n",
       "    <tr style=\"text-align: right;\">\n",
       "      <th></th>\n",
       "      <th>Rank</th>\n",
       "      <th>Name</th>\n",
       "      <th>Dominant operational format</th>\n",
       "      <th>Retail revenue (US$ millions)</th>\n",
       "      <th>Net profit margin</th>\n",
       "      <th>Headquarters</th>\n",
       "      <th>country</th>\n",
       "      <th>state</th>\n",
       "      <th>0</th>\n",
       "    </tr>\n",
       "  </thead>\n",
       "  <tbody>\n",
       "    <tr>\n",
       "      <th>0</th>\n",
       "      <td>1</td>\n",
       "      <td>Walmart</td>\n",
       "      <td>Hypermarket/Supercenter/Superstore</td>\n",
       "      <td>559151</td>\n",
       "      <td>2.5%</td>\n",
       "      <td>United States, Bentonville</td>\n",
       "      <td>United States</td>\n",
       "      <td>Bentonville</td>\n",
       "      <td>None</td>\n",
       "    </tr>\n",
       "    <tr>\n",
       "      <th>1</th>\n",
       "      <td>2</td>\n",
       "      <td>Amazon</td>\n",
       "      <td>Non-Store,E-commerce</td>\n",
       "      <td>213573</td>\n",
       "      <td>5.5%</td>\n",
       "      <td>United States, Seattle</td>\n",
       "      <td>United States</td>\n",
       "      <td>Seattle</td>\n",
       "      <td>None</td>\n",
       "    </tr>\n",
       "    <tr>\n",
       "      <th>2</th>\n",
       "      <td>3</td>\n",
       "      <td>Costco</td>\n",
       "      <td>Cash &amp; Carry/Warehouse Club</td>\n",
       "      <td>166761</td>\n",
       "      <td>2.4%</td>\n",
       "      <td>United States, Issaquah</td>\n",
       "      <td>United States</td>\n",
       "      <td>Issaquah</td>\n",
       "      <td>None</td>\n",
       "    </tr>\n",
       "    <tr>\n",
       "      <th>3</th>\n",
       "      <td>5</td>\n",
       "      <td>The Home Depot</td>\n",
       "      <td>Home Improvement</td>\n",
       "      <td>132110</td>\n",
       "      <td>9.7%</td>\n",
       "      <td>United States, Atlanta</td>\n",
       "      <td>United States</td>\n",
       "      <td>Atlanta</td>\n",
       "      <td>None</td>\n",
       "    </tr>\n",
       "    <tr>\n",
       "      <th>4</th>\n",
       "      <td>6</td>\n",
       "      <td>Kroger</td>\n",
       "      <td>Supermarket</td>\n",
       "      <td>131620</td>\n",
       "      <td>2.0%</td>\n",
       "      <td>United States, Cincinnati</td>\n",
       "      <td>United States</td>\n",
       "      <td>Cincinnati</td>\n",
       "      <td>None</td>\n",
       "    </tr>\n",
       "  </tbody>\n",
       "</table>\n",
       "</div>"
      ],
      "text/plain": [
       "   Rank            Name         Dominant operational format  \\\n",
       "0     1         Walmart  Hypermarket/Supercenter/Superstore   \n",
       "1     2          Amazon                Non-Store,E-commerce   \n",
       "2     3          Costco         Cash & Carry/Warehouse Club   \n",
       "3     5  The Home Depot                    Home Improvement   \n",
       "4     6          Kroger                         Supermarket   \n",
       "\n",
       "   Retail revenue (US$ millions) Net profit margin  \\\n",
       "0                         559151              2.5%   \n",
       "1                         213573              5.5%   \n",
       "2                         166761              2.4%   \n",
       "3                         132110              9.7%   \n",
       "4                         131620              2.0%   \n",
       "\n",
       "                 Headquarters        country         state     0  \n",
       "0  United States, Bentonville  United States   Bentonville  None  \n",
       "1      United States, Seattle  United States       Seattle  None  \n",
       "2     United States, Issaquah  United States      Issaquah  None  \n",
       "3      United States, Atlanta  United States       Atlanta  None  \n",
       "4   United States, Cincinnati  United States    Cincinnati  None  "
      ]
     },
     "execution_count": 18,
     "metadata": {},
     "output_type": "execute_result"
    }
   ],
   "source": [
    "df_retail_usa.head()"
   ]
  },
  {
   "cell_type": "code",
   "execution_count": 19,
   "id": "cf5a6850",
   "metadata": {},
   "outputs": [],
   "source": [
    "df_retail_usa=df_retail_usa.rename(columns={'Rank':'Global Rank'})"
   ]
  },
  {
   "cell_type": "code",
   "execution_count": 20,
   "id": "8342605f",
   "metadata": {},
   "outputs": [],
   "source": [
    "df_retail_usa=df_retail_usa.sort_values('Global Rank')"
   ]
  },
  {
   "cell_type": "code",
   "execution_count": 21,
   "id": "6593c204",
   "metadata": {},
   "outputs": [
    {
     "data": {
      "text/plain": [
       "Index(['Global Rank', 'Name', 'Dominant operational format',\n",
       "       'Retail revenue (US$ millions)', 'Net profit margin', 'Headquarters',\n",
       "       'country', 'state', '0'],\n",
       "      dtype='object')"
      ]
     },
     "execution_count": 21,
     "metadata": {},
     "output_type": "execute_result"
    }
   ],
   "source": [
    "df_retail_usa.columns"
   ]
  },
  {
   "cell_type": "markdown",
   "id": "e8459446",
   "metadata": {},
   "source": [
    "# Bar plot for Net profit margin of all USA companies"
   ]
  },
  {
   "cell_type": "code",
   "execution_count": 22,
   "id": "eccc584a",
   "metadata": {},
   "outputs": [],
   "source": [
    "df_index=df_retail_usa[df_retail_usa['Net profit margin']=='...'].index"
   ]
  },
  {
   "cell_type": "code",
   "execution_count": 23,
   "id": "02df1812",
   "metadata": {},
   "outputs": [],
   "source": [
    "df_retail_usa=df_retail_usa.drop(index=df_index,axis=0)"
   ]
  },
  {
   "cell_type": "code",
   "execution_count": 24,
   "id": "9be8ffe6",
   "metadata": {},
   "outputs": [
    {
     "data": {
      "text/html": [
       "<div>\n",
       "<style scoped>\n",
       "    .dataframe tbody tr th:only-of-type {\n",
       "        vertical-align: middle;\n",
       "    }\n",
       "\n",
       "    .dataframe tbody tr th {\n",
       "        vertical-align: top;\n",
       "    }\n",
       "\n",
       "    .dataframe thead th {\n",
       "        text-align: right;\n",
       "    }\n",
       "</style>\n",
       "<table border=\"1\" class=\"dataframe\">\n",
       "  <thead>\n",
       "    <tr style=\"text-align: right;\">\n",
       "      <th></th>\n",
       "      <th>Global Rank</th>\n",
       "      <th>Name</th>\n",
       "      <th>Dominant operational format</th>\n",
       "      <th>Retail revenue (US$ millions)</th>\n",
       "      <th>Net profit margin</th>\n",
       "      <th>Headquarters</th>\n",
       "      <th>country</th>\n",
       "      <th>state</th>\n",
       "      <th>0</th>\n",
       "    </tr>\n",
       "  </thead>\n",
       "  <tbody>\n",
       "    <tr>\n",
       "      <th>0</th>\n",
       "      <td>1</td>\n",
       "      <td>Walmart</td>\n",
       "      <td>Hypermarket/Supercenter/Superstore</td>\n",
       "      <td>559151</td>\n",
       "      <td>2.5%</td>\n",
       "      <td>United States, Bentonville</td>\n",
       "      <td>United States</td>\n",
       "      <td>Bentonville</td>\n",
       "      <td>None</td>\n",
       "    </tr>\n",
       "    <tr>\n",
       "      <th>1</th>\n",
       "      <td>2</td>\n",
       "      <td>Amazon</td>\n",
       "      <td>Non-Store,E-commerce</td>\n",
       "      <td>213573</td>\n",
       "      <td>5.5%</td>\n",
       "      <td>United States, Seattle</td>\n",
       "      <td>United States</td>\n",
       "      <td>Seattle</td>\n",
       "      <td>None</td>\n",
       "    </tr>\n",
       "    <tr>\n",
       "      <th>2</th>\n",
       "      <td>3</td>\n",
       "      <td>Costco</td>\n",
       "      <td>Cash &amp; Carry/Warehouse Club</td>\n",
       "      <td>166761</td>\n",
       "      <td>2.4%</td>\n",
       "      <td>United States, Issaquah</td>\n",
       "      <td>United States</td>\n",
       "      <td>Issaquah</td>\n",
       "      <td>None</td>\n",
       "    </tr>\n",
       "    <tr>\n",
       "      <th>3</th>\n",
       "      <td>5</td>\n",
       "      <td>The Home Depot</td>\n",
       "      <td>Home Improvement</td>\n",
       "      <td>132110</td>\n",
       "      <td>9.7%</td>\n",
       "      <td>United States, Atlanta</td>\n",
       "      <td>United States</td>\n",
       "      <td>Atlanta</td>\n",
       "      <td>None</td>\n",
       "    </tr>\n",
       "    <tr>\n",
       "      <th>4</th>\n",
       "      <td>6</td>\n",
       "      <td>Kroger</td>\n",
       "      <td>Supermarket</td>\n",
       "      <td>131620</td>\n",
       "      <td>2.0%</td>\n",
       "      <td>United States, Cincinnati</td>\n",
       "      <td>United States</td>\n",
       "      <td>Cincinnati</td>\n",
       "      <td>None</td>\n",
       "    </tr>\n",
       "  </tbody>\n",
       "</table>\n",
       "</div>"
      ],
      "text/plain": [
       "   Global Rank            Name         Dominant operational format  \\\n",
       "0            1         Walmart  Hypermarket/Supercenter/Superstore   \n",
       "1            2          Amazon                Non-Store,E-commerce   \n",
       "2            3          Costco         Cash & Carry/Warehouse Club   \n",
       "3            5  The Home Depot                    Home Improvement   \n",
       "4            6          Kroger                         Supermarket   \n",
       "\n",
       "   Retail revenue (US$ millions) Net profit margin  \\\n",
       "0                         559151              2.5%   \n",
       "1                         213573              5.5%   \n",
       "2                         166761              2.4%   \n",
       "3                         132110              9.7%   \n",
       "4                         131620              2.0%   \n",
       "\n",
       "                 Headquarters        country         state     0  \n",
       "0  United States, Bentonville  United States   Bentonville  None  \n",
       "1      United States, Seattle  United States       Seattle  None  \n",
       "2     United States, Issaquah  United States      Issaquah  None  \n",
       "3      United States, Atlanta  United States       Atlanta  None  \n",
       "4   United States, Cincinnati  United States    Cincinnati  None  "
      ]
     },
     "execution_count": 24,
     "metadata": {},
     "output_type": "execute_result"
    }
   ],
   "source": [
    "df_retail_usa.head()"
   ]
  },
  {
   "cell_type": "code",
   "execution_count": 25,
   "id": "1e849677",
   "metadata": {},
   "outputs": [],
   "source": [
    "df_retail_usa['Net profit margin'] = df_retail_usa['Net profit margin'].str.replace('%', '').astype('float')"
   ]
  },
  {
   "cell_type": "code",
   "execution_count": 26,
   "id": "c826c6e4",
   "metadata": {},
   "outputs": [],
   "source": [
    "top_5_retail=df_retail_usa.head(5)"
   ]
  },
  {
   "cell_type": "code",
   "execution_count": 27,
   "id": "27ee0f7e",
   "metadata": {},
   "outputs": [
    {
     "data": {
      "text/plain": [
       "Text(0.5, 1.0, 'Net profit margin percentage for top retail companies in USA')"
      ]
     },
     "execution_count": 27,
     "metadata": {},
     "output_type": "execute_result"
    },
    {
     "data": {
      "image/png": "[encoded data removed]",
      "text/plain": [
       "<Figure size 800x400 with 1 Axes>"
      ]
     },
     "metadata": {
      "needs_background": "light"
     },
     "output_type": "display_data"
    }
   ],
   "source": [
    "plt.figure(figsize=(10, 5), dpi=80)\n",
    "sns.barplot(data=top_5_retail,x=top_5_retail['Name'],y=top_5_retail['Net profit margin'])\n",
    "plt.title('Net profit margin percentage for top retail companies in USA')"
   ]
  },
  {
   "cell_type": "markdown",
   "id": "2db0266a",
   "metadata": {},
   "source": [
    "Even though walmart is the top company based on revenue, Home depot has the highest net profit margin percentage."
   ]
  },
  {
   "cell_type": "markdown",
   "id": "879a7a8c",
   "metadata": {},
   "source": [
    "Top 5 retail companies in USA based on Revenue"
   ]
  },
  {
   "cell_type": "code",
   "execution_count": 28,
   "id": "5c16dfb5",
   "metadata": {},
   "outputs": [
    {
     "data": {
      "text/plain": [
       "0           Walmart\n",
       "1            Amazon\n",
       "2            Costco\n",
       "3    The Home Depot\n",
       "4            Kroger\n",
       "Name: Name, dtype: object"
      ]
     },
     "execution_count": 28,
     "metadata": {},
     "output_type": "execute_result"
    }
   ],
   "source": [
    "df_retail_usa['Name'].head(5)"
   ]
  },
  {
   "cell_type": "markdown",
   "id": "a04cdd95",
   "metadata": {},
   "source": [
    "scraping the data of each of these 5 companies."
   ]
  },
  {
   "cell_type": "markdown",
   "id": "07d44d63",
   "metadata": {},
   "source": [
    "# Walmart"
   ]
  },
  {
   "cell_type": "code",
   "execution_count": 29,
   "id": "581ac5c5",
   "metadata": {},
   "outputs": [],
   "source": [
    "# Scraping data of walmart revenue and other details from wikipedia\n",
    "df_walmart=getdf('https://en.wikipedia.org/wiki/Walmart','wikitable float-left')"
   ]
  },
  {
   "cell_type": "code",
   "execution_count": 30,
   "id": "f7343dd8",
   "metadata": {},
   "outputs": [],
   "source": [
    "df_walmart['companyName']='Walmart'"
   ]
  },
  {
   "cell_type": "code",
   "execution_count": 31,
   "id": "48aae562",
   "metadata": {},
   "outputs": [],
   "source": [
    "df_walmart.columns=['Year', 'Revenue[151]in mil. US$', 'Net incomein mil. US$',\n",
    "       'Total Assetsin mil. US$','Price perShare (US$)', 'Employees','Stores', 'companyName']"
   ]
  },
  {
   "cell_type": "code",
   "execution_count": 32,
   "id": "0a381d96",
   "metadata": {},
   "outputs": [],
   "source": [
    "df_walmart['Net income change']=df_walmart['Net incomein mil. US$'].pct_change()"
   ]
  },
  {
   "cell_type": "code",
   "execution_count": 33,
   "id": "ba4c6520",
   "metadata": {},
   "outputs": [],
   "source": [
    "# splitting the date column only to get year\n",
    "df_walmart[['Year','remove']]=df_walmart['Year'].str.split('[',expand = True)"
   ]
  },
  {
   "cell_type": "code",
   "execution_count": 34,
   "id": "fd16474e",
   "metadata": {},
   "outputs": [],
   "source": [
    "df_walmart=df_walmart.drop(columns=['remove'],axis=1)"
   ]
  },
  {
   "cell_type": "code",
   "execution_count": 35,
   "id": "d9816105",
   "metadata": {},
   "outputs": [
    {
     "data": {
      "text/html": [
       "<div>\n",
       "<style scoped>\n",
       "    .dataframe tbody tr th:only-of-type {\n",
       "        vertical-align: middle;\n",
       "    }\n",
       "\n",
       "    .dataframe tbody tr th {\n",
       "        vertical-align: top;\n",
       "    }\n",
       "\n",
       "    .dataframe thead th {\n",
       "        text-align: right;\n",
       "    }\n",
       "</style>\n",
       "<table border=\"1\" class=\"dataframe\">\n",
       "  <thead>\n",
       "    <tr style=\"text-align: right;\">\n",
       "      <th></th>\n",
       "      <th>Year</th>\n",
       "      <th>Revenue[151]in mil. US$</th>\n",
       "      <th>Net incomein mil. US$</th>\n",
       "      <th>Total Assetsin mil. US$</th>\n",
       "      <th>Price perShare (US$)</th>\n",
       "      <th>Employees</th>\n",
       "      <th>Stores</th>\n",
       "      <th>companyName</th>\n",
       "      <th>Net income change</th>\n",
       "    </tr>\n",
       "  </thead>\n",
       "  <tbody>\n",
       "    <tr>\n",
       "      <th>0</th>\n",
       "      <td>1968</td>\n",
       "      <td>12.618754</td>\n",
       "      <td>0.481754</td>\n",
       "      <td>NaN</td>\n",
       "      <td>NaN</td>\n",
       "      <td>NaN</td>\n",
       "      <td>24</td>\n",
       "      <td>Walmart</td>\n",
       "      <td>NaN</td>\n",
       "    </tr>\n",
       "    <tr>\n",
       "      <th>1</th>\n",
       "      <td>1969</td>\n",
       "      <td>21.365081</td>\n",
       "      <td>0.605211</td>\n",
       "      <td>NaN</td>\n",
       "      <td>NaN</td>\n",
       "      <td>NaN</td>\n",
       "      <td>27</td>\n",
       "      <td>Walmart</td>\n",
       "      <td>0.256266</td>\n",
       "    </tr>\n",
       "    <tr>\n",
       "      <th>2</th>\n",
       "      <td>1970</td>\n",
       "      <td>30.862659</td>\n",
       "      <td>1.187764</td>\n",
       "      <td>NaN</td>\n",
       "      <td>NaN</td>\n",
       "      <td>1000.0</td>\n",
       "      <td>32</td>\n",
       "      <td>Walmart</td>\n",
       "      <td>0.962562</td>\n",
       "    </tr>\n",
       "    <tr>\n",
       "      <th>3</th>\n",
       "      <td>1971</td>\n",
       "      <td>44.286012</td>\n",
       "      <td>1.651599</td>\n",
       "      <td>15.331</td>\n",
       "      <td>NaN</td>\n",
       "      <td>1500.0</td>\n",
       "      <td>38</td>\n",
       "      <td>Walmart</td>\n",
       "      <td>0.390511</td>\n",
       "    </tr>\n",
       "    <tr>\n",
       "      <th>4</th>\n",
       "      <td>1972</td>\n",
       "      <td>78.014164</td>\n",
       "      <td>2.907354</td>\n",
       "      <td>28.463</td>\n",
       "      <td>NaN</td>\n",
       "      <td>2300.0</td>\n",
       "      <td>51</td>\n",
       "      <td>Walmart</td>\n",
       "      <td>0.760327</td>\n",
       "    </tr>\n",
       "  </tbody>\n",
       "</table>\n",
       "</div>"
      ],
      "text/plain": [
       "   Year  Revenue[151]in mil. US$  Net incomein mil. US$  \\\n",
       "0  1968                12.618754               0.481754   \n",
       "1  1969                21.365081               0.605211   \n",
       "2  1970                30.862659               1.187764   \n",
       "3  1971                44.286012               1.651599   \n",
       "4  1972                78.014164               2.907354   \n",
       "\n",
       "   Total Assetsin mil. US$  Price perShare (US$)  Employees  Stores  \\\n",
       "0                      NaN                   NaN        NaN      24   \n",
       "1                      NaN                   NaN        NaN      27   \n",
       "2                      NaN                   NaN     1000.0      32   \n",
       "3                   15.331                   NaN     1500.0      38   \n",
       "4                   28.463                   NaN     2300.0      51   \n",
       "\n",
       "  companyName  Net income change  \n",
       "0     Walmart                NaN  \n",
       "1     Walmart           0.256266  \n",
       "2     Walmart           0.962562  \n",
       "3     Walmart           0.390511  \n",
       "4     Walmart           0.760327  "
      ]
     },
     "execution_count": 35,
     "metadata": {},
     "output_type": "execute_result"
    }
   ],
   "source": [
    "df_walmart.head()"
   ]
  },
  {
   "cell_type": "code",
   "execution_count": 36,
   "id": "c498d93c",
   "metadata": {},
   "outputs": [],
   "source": [
    "df_walmart=df_walmart.rename(columns={'Revenue[151]in mil. US$':'Revenue','Net incomein mil. US$':'NetIncome'})"
   ]
  },
  {
   "cell_type": "markdown",
   "id": "a5078b53",
   "metadata": {},
   "source": [
    "# Barplot to see how the number of employees in walmart increases over the years."
   ]
  },
  {
   "cell_type": "code",
   "execution_count": 37,
   "id": "3c5e79ce",
   "metadata": {
    "scrolled": true
   },
   "outputs": [
    {
     "data": {
      "text/plain": [
       "Text(0.5, 1.0, 'Walmart number of employees change over the years')"
      ]
     },
     "execution_count": 37,
     "metadata": {},
     "output_type": "execute_result"
    },
    {
     "data": {
      "image/png": "[encoded data removed]",
      "text/plain": [
       "<Figure size 2000x400 with 1 Axes>"
      ]
     },
     "metadata": {
      "needs_background": "light"
     },
     "output_type": "display_data"
    }
   ],
   "source": [
    "plt.figure(figsize=(25, 5), dpi=80)\n",
    "sns.barplot(data=df_walmart,x='Year',y='Employees')\n",
    "plt.title('Walmart number of employees change over the years')"
   ]
  },
  {
   "cell_type": "markdown",
   "id": "98f2669b",
   "metadata": {},
   "source": [
    "# Scatter plot to see the number of employees changes as the number of stores increases."
   ]
  },
  {
   "cell_type": "code",
   "execution_count": 38,
   "id": "36356361",
   "metadata": {},
   "outputs": [
    {
     "data": {
      "text/plain": [
       "<AxesSubplot:xlabel='Stores', ylabel='Employees'>"
      ]
     },
     "execution_count": 38,
     "metadata": {},
     "output_type": "execute_result"
    },
    {
     "data": {
      "image/png": "[encoded data removed]",
      "text/plain": [
       "<Figure size 432x288 with 1 Axes>"
      ]
     },
     "metadata": {
      "needs_background": "light"
     },
     "output_type": "display_data"
    }
   ],
   "source": [
    "sns.scatterplot(data=df_walmart,x=df_walmart['Stores'],y=df_walmart['Employees'])\n"
   ]
  },
  {
   "cell_type": "markdown",
   "id": "4f59ba57",
   "metadata": {},
   "source": [
    "It seems like there is a positive correlation between stores vs employees. \n",
    "As the number of stores increases the number of employees to work in those stores increases.\n",
    "Hence, we thought it's good to have a equation which can predict the number number of employeess given number of stores.\n",
    "We also thought curve might be a better fit then regplot for these points."
   ]
  },
  {
   "cell_type": "code",
   "execution_count": 39,
   "id": "d18b77c3",
   "metadata": {},
   "outputs": [],
   "source": [
    "df_wal_curve=df_walmart[['Stores','Employees']]"
   ]
  },
  {
   "cell_type": "code",
   "execution_count": 40,
   "id": "eabd0cd6",
   "metadata": {},
   "outputs": [],
   "source": [
    "df_wal_curve=df_wal_curve.drop(index=[0,1],axis=0).reset_index()"
   ]
  },
  {
   "cell_type": "code",
   "execution_count": 41,
   "id": "5c130cdc",
   "metadata": {},
   "outputs": [],
   "source": [
    "X=df_wal_curve['Stores']\n",
    "y=df_wal_curve['Employees']"
   ]
  },
  {
   "cell_type": "code",
   "execution_count": 42,
   "id": "88f9b10e",
   "metadata": {},
   "outputs": [
    {
     "data": {
      "text/plain": [
       "(-0.01507453412360072, 383.71407970142934, -141545.86897356095)"
      ]
     },
     "execution_count": 42,
     "metadata": {},
     "output_type": "execute_result"
    }
   ],
   "source": [
    "a,b,c=np.polyfit(X,y,2)\n",
    "a,b,c"
   ]
  },
  {
   "cell_type": "code",
   "execution_count": 43,
   "id": "31c5f5ac",
   "metadata": {},
   "outputs": [],
   "source": [
    "num_stores=np.linspace(0,12000,2000)"
   ]
  },
  {
   "cell_type": "code",
   "execution_count": 44,
   "id": "3a236161",
   "metadata": {},
   "outputs": [],
   "source": [
    "pred_employees=a*num_stores**2+b*num_stores+c"
   ]
  },
  {
   "cell_type": "code",
   "execution_count": 45,
   "id": "3843d663",
   "metadata": {},
   "outputs": [
    {
     "data": {
      "text/plain": [
       "Text(0.5, 1.0, 'Walmart stores vs employees')"
      ]
     },
     "execution_count": 45,
     "metadata": {},
     "output_type": "execute_result"
    },
    {
     "data": {
      "image/png": "[encoded data removed]",
      "text/plain": [
       "<Figure size 432x288 with 1 Axes>"
      ]
     },
     "metadata": {
      "needs_background": "light"
     },
     "output_type": "display_data"
    }
   ],
   "source": [
    "sns.scatterplot(data=df_wal_curve,x=df_wal_curve['Stores'],y=df_wal_curve['Employees'])\n",
    "plt.plot(num_stores,pred_employees,color='red')\n",
    "plt.title('Walmart stores vs employees')"
   ]
  },
  {
   "cell_type": "code",
   "execution_count": 46,
   "id": "976c886f",
   "metadata": {},
   "outputs": [
    {
     "data": {
      "text/plain": [
       "PearsonRResult(statistic=0.9701639057759264, pvalue=1.9680073633869205e-32)"
      ]
     },
     "metadata": {},
     "output_type": "display_data"
    }
   ],
   "source": [
    "display(stats.pearsonr(df_wal_curve.Stores, df_wal_curve['Employees']))"
   ]
  },
  {
   "cell_type": "markdown",
   "id": "82f50dc2",
   "metadata": {},
   "source": [
    "# Amazon"
   ]
  },
  {
   "cell_type": "code",
   "execution_count": 47,
   "id": "f36fb6f0",
   "metadata": {},
   "outputs": [],
   "source": [
    "#scrapping amazon's data from wikipedia\n",
    "df_amazon=getdf('https://en.wikipedia.org/wiki/Amazon_(company)','wikitable float-left')"
   ]
  },
  {
   "cell_type": "code",
   "execution_count": 48,
   "id": "a32c27f4",
   "metadata": {},
   "outputs": [
    {
     "data": {
      "text/plain": [
       "Index(['Year', 'Revenue[151]in mil. US$', 'Net incomein mil. US$',\n",
       "       'Total Assetsin mil. US$', 'Employees'],\n",
       "      dtype='object')"
      ]
     },
     "execution_count": 48,
     "metadata": {},
     "output_type": "execute_result"
    }
   ],
   "source": [
    "df_amazon.columns"
   ]
  },
  {
   "cell_type": "code",
   "execution_count": 49,
   "id": "aad0838f",
   "metadata": {},
   "outputs": [],
   "source": [
    "df_amazon['companyName']='Amazon'"
   ]
  },
  {
   "cell_type": "code",
   "execution_count": 50,
   "id": "a46ed2f9",
   "metadata": {},
   "outputs": [],
   "source": [
    "df_amazon=df_amazon.rename(columns={'Revenue[151]in mil. US$':'Revenue','Net incomein mil. US$':'NetIncome'})"
   ]
  },
  {
   "cell_type": "code",
   "execution_count": 51,
   "id": "730a2f75",
   "metadata": {},
   "outputs": [
    {
     "data": {
      "text/html": [
       "<div>\n",
       "<style scoped>\n",
       "    .dataframe tbody tr th:only-of-type {\n",
       "        vertical-align: middle;\n",
       "    }\n",
       "\n",
       "    .dataframe tbody tr th {\n",
       "        vertical-align: top;\n",
       "    }\n",
       "\n",
       "    .dataframe thead th {\n",
       "        text-align: right;\n",
       "    }\n",
       "</style>\n",
       "<table border=\"1\" class=\"dataframe\">\n",
       "  <thead>\n",
       "    <tr style=\"text-align: right;\">\n",
       "      <th></th>\n",
       "      <th>Year</th>\n",
       "      <th>Revenue</th>\n",
       "      <th>NetIncome</th>\n",
       "      <th>Total Assetsin mil. US$</th>\n",
       "      <th>Employees</th>\n",
       "      <th>companyName</th>\n",
       "    </tr>\n",
       "  </thead>\n",
       "  <tbody>\n",
       "    <tr>\n",
       "      <th>0</th>\n",
       "      <td>1995[152]</td>\n",
       "      <td>0.5</td>\n",
       "      <td>−0.3</td>\n",
       "      <td>1.1</td>\n",
       "      <td>NaN</td>\n",
       "      <td>Amazon</td>\n",
       "    </tr>\n",
       "    <tr>\n",
       "      <th>1</th>\n",
       "      <td>1996[152]</td>\n",
       "      <td>16.0</td>\n",
       "      <td>−6</td>\n",
       "      <td>8.0</td>\n",
       "      <td>NaN</td>\n",
       "      <td>Amazon</td>\n",
       "    </tr>\n",
       "    <tr>\n",
       "      <th>2</th>\n",
       "      <td>1997[152]</td>\n",
       "      <td>148.0</td>\n",
       "      <td>−28</td>\n",
       "      <td>149.0</td>\n",
       "      <td>614.0</td>\n",
       "      <td>Amazon</td>\n",
       "    </tr>\n",
       "    <tr>\n",
       "      <th>3</th>\n",
       "      <td>1998[153]</td>\n",
       "      <td>610.0</td>\n",
       "      <td>−124</td>\n",
       "      <td>648.0</td>\n",
       "      <td>2100.0</td>\n",
       "      <td>Amazon</td>\n",
       "    </tr>\n",
       "    <tr>\n",
       "      <th>4</th>\n",
       "      <td>1999[153]</td>\n",
       "      <td>1639.0</td>\n",
       "      <td>−720</td>\n",
       "      <td>2466.0</td>\n",
       "      <td>7600.0</td>\n",
       "      <td>Amazon</td>\n",
       "    </tr>\n",
       "  </tbody>\n",
       "</table>\n",
       "</div>"
      ],
      "text/plain": [
       "        Year  Revenue NetIncome  Total Assetsin mil. US$  Employees  \\\n",
       "0  1995[152]      0.5      −0.3                      1.1        NaN   \n",
       "1  1996[152]     16.0        −6                      8.0        NaN   \n",
       "2  1997[152]    148.0       −28                    149.0      614.0   \n",
       "3  1998[153]    610.0      −124                    648.0     2100.0   \n",
       "4  1999[153]   1639.0      −720                   2466.0     7600.0   \n",
       "\n",
       "  companyName  \n",
       "0      Amazon  \n",
       "1      Amazon  \n",
       "2      Amazon  \n",
       "3      Amazon  \n",
       "4      Amazon  "
      ]
     },
     "execution_count": 51,
     "metadata": {},
     "output_type": "execute_result"
    }
   ],
   "source": [
    "df_amazon.head()"
   ]
  },
  {
   "cell_type": "code",
   "execution_count": 52,
   "id": "266f69bf",
   "metadata": {},
   "outputs": [],
   "source": [
    "df_amazon[['Year','remove']]=df_amazon['Year'].str.split('[',expand = True)"
   ]
  },
  {
   "cell_type": "code",
   "execution_count": 53,
   "id": "517b46ab",
   "metadata": {},
   "outputs": [],
   "source": [
    "df_amazon.Year=df_amazon.Year.astype(int)"
   ]
  },
  {
   "cell_type": "code",
   "execution_count": 54,
   "id": "763addc4",
   "metadata": {},
   "outputs": [
    {
     "data": {
      "text/plain": [
       "Text(0.5, 1.0, 'Amazon number of employees change over the years')"
      ]
     },
     "execution_count": 54,
     "metadata": {},
     "output_type": "execute_result"
    },
    {
     "data": {
      "image/png": "[encoded data removed]",
      "text/plain": [
       "<Figure size 1200x400 with 1 Axes>"
      ]
     },
     "metadata": {
      "needs_background": "light"
     },
     "output_type": "display_data"
    }
   ],
   "source": [
    "plt.figure(figsize=(15, 5), dpi=80)\n",
    "sns.barplot(data=df_amazon,x='Year',y='Employees')\n",
    "plt.title('Amazon number of employees change over the years')"
   ]
  },
  {
   "cell_type": "code",
   "execution_count": 55,
   "id": "c7df53c8",
   "metadata": {},
   "outputs": [],
   "source": [
    "df_amazon=df_amazon.dropna()"
   ]
  },
  {
   "cell_type": "code",
   "execution_count": 56,
   "id": "b3e0c1f2",
   "metadata": {},
   "outputs": [
    {
     "data": {
      "text/plain": [
       "Text(0.5, 1.0, 'Amazon Revenue vs Employees')"
      ]
     },
     "execution_count": 56,
     "metadata": {},
     "output_type": "execute_result"
    },
    {
     "data": {
      "image/png": "[encoded data removed]",
      "text/plain": [
       "<Figure size 640x400 with 1 Axes>"
      ]
     },
     "metadata": {
      "needs_background": "light"
     },
     "output_type": "display_data"
    }
   ],
   "source": [
    "plt.figure(figsize=(8, 5), dpi=80)\n",
    "sns.regplot(data=df_amazon,x='Revenue',y='Employees')\n",
    "plt.title('Amazon Revenue vs Employees')"
   ]
  },
  {
   "cell_type": "code",
   "execution_count": 57,
   "id": "ab4b1599",
   "metadata": {},
   "outputs": [
    {
     "data": {
      "text/plain": [
       "PearsonRResult(statistic=0.992707112149841, pvalue=1.439994306950723e-23)"
      ]
     },
     "metadata": {},
     "output_type": "display_data"
    }
   ],
   "source": [
    "display(stats.pearsonr(df_amazon.Revenue, df_amazon['Employees']))"
   ]
  },
  {
   "cell_type": "markdown",
   "id": "28a79cb6",
   "metadata": {},
   "source": [
    "# Costco"
   ]
  },
  {
   "cell_type": "code",
   "execution_count": 58,
   "id": "4ccd1d15",
   "metadata": {},
   "outputs": [],
   "source": [
    "df_costco=getdf('https://en.wikipedia.org/wiki/Costco','wikitable float-left')"
   ]
  },
  {
   "cell_type": "code",
   "execution_count": 59,
   "id": "dee7177f",
   "metadata": {},
   "outputs": [],
   "source": [
    "df_costco['companyName']='Costco'"
   ]
  },
  {
   "cell_type": "code",
   "execution_count": 60,
   "id": "e574f17d",
   "metadata": {},
   "outputs": [],
   "source": [
    "df_costco=df_costco.rename(columns={'Revenuein mil. USD$':'Revenue','Net incomein mil. USD$':'NetIncome'})"
   ]
  },
  {
   "cell_type": "code",
   "execution_count": 61,
   "id": "d55b32b7",
   "metadata": {},
   "outputs": [],
   "source": [
    "df_costco['Net income change']=df_costco['NetIncome'].pct_change()"
   ]
  },
  {
   "cell_type": "markdown",
   "id": "8906ebab",
   "metadata": {},
   "source": [
    "# Homedepot"
   ]
  },
  {
   "cell_type": "code",
   "execution_count": 62,
   "id": "8ec522c1",
   "metadata": {},
   "outputs": [],
   "source": [
    "df_homedepot=getdf('https://en.wikipedia.org/wiki/The_Home_Depot','wikitable float-left')"
   ]
  },
  {
   "cell_type": "code",
   "execution_count": 63,
   "id": "64b220c7",
   "metadata": {},
   "outputs": [
    {
     "data": {
      "text/html": [
       "<div>\n",
       "<style scoped>\n",
       "    .dataframe tbody tr th:only-of-type {\n",
       "        vertical-align: middle;\n",
       "    }\n",
       "\n",
       "    .dataframe tbody tr th {\n",
       "        vertical-align: top;\n",
       "    }\n",
       "\n",
       "    .dataframe thead th {\n",
       "        text-align: right;\n",
       "    }\n",
       "</style>\n",
       "<table border=\"1\" class=\"dataframe\">\n",
       "  <thead>\n",
       "    <tr style=\"text-align: right;\">\n",
       "      <th></th>\n",
       "      <th>Year</th>\n",
       "      <th>Revenuein mil. USD$</th>\n",
       "      <th>Net Incomein mil. USD$</th>\n",
       "      <th>Price per Sharein US$</th>\n",
       "      <th>Employees</th>\n",
       "      <th>Stores</th>\n",
       "    </tr>\n",
       "  </thead>\n",
       "  <tbody>\n",
       "    <tr>\n",
       "      <th>0</th>\n",
       "      <td>2005</td>\n",
       "      <td>73094</td>\n",
       "      <td>5001.0</td>\n",
       "      <td>29.12</td>\n",
       "      <td>325000.0</td>\n",
       "      <td>1890.0</td>\n",
       "    </tr>\n",
       "    <tr>\n",
       "      <th>1</th>\n",
       "      <td>2006</td>\n",
       "      <td>77019</td>\n",
       "      <td>5838.0</td>\n",
       "      <td>28.12</td>\n",
       "      <td>345000.0</td>\n",
       "      <td>2042.0</td>\n",
       "    </tr>\n",
       "    <tr>\n",
       "      <th>2</th>\n",
       "      <td>2007</td>\n",
       "      <td>79022</td>\n",
       "      <td>5761.0</td>\n",
       "      <td>27.10</td>\n",
       "      <td>364000.0</td>\n",
       "      <td>2147.0</td>\n",
       "    </tr>\n",
       "    <tr>\n",
       "      <th>3</th>\n",
       "      <td>2008</td>\n",
       "      <td>77349</td>\n",
       "      <td>4395.0</td>\n",
       "      <td>19.86</td>\n",
       "      <td>331000.0</td>\n",
       "      <td>2234.0</td>\n",
       "    </tr>\n",
       "    <tr>\n",
       "      <th>4</th>\n",
       "      <td>2009</td>\n",
       "      <td>71288</td>\n",
       "      <td>2260.0</td>\n",
       "      <td>20.14</td>\n",
       "      <td>322000.0</td>\n",
       "      <td>2233.0</td>\n",
       "    </tr>\n",
       "  </tbody>\n",
       "</table>\n",
       "</div>"
      ],
      "text/plain": [
       "   Year  Revenuein mil. USD$  Net Incomein mil. USD$  Price per Sharein US$  \\\n",
       "0  2005                73094                  5001.0                  29.12   \n",
       "1  2006                77019                  5838.0                  28.12   \n",
       "2  2007                79022                  5761.0                  27.10   \n",
       "3  2008                77349                  4395.0                  19.86   \n",
       "4  2009                71288                  2260.0                  20.14   \n",
       "\n",
       "   Employees  Stores  \n",
       "0   325000.0  1890.0  \n",
       "1   345000.0  2042.0  \n",
       "2   364000.0  2147.0  \n",
       "3   331000.0  2234.0  \n",
       "4   322000.0  2233.0  "
      ]
     },
     "execution_count": 63,
     "metadata": {},
     "output_type": "execute_result"
    }
   ],
   "source": [
    "df_homedepot.head()"
   ]
  },
  {
   "cell_type": "code",
   "execution_count": 64,
   "id": "f52d7b5a",
   "metadata": {},
   "outputs": [],
   "source": [
    "df_homedepot=df_homedepot.rename(columns={'Revenuein mil. USD$':'Revenue','Net Incomein mil. USD$':'NetIncome'})"
   ]
  },
  {
   "cell_type": "code",
   "execution_count": 65,
   "id": "c125747d",
   "metadata": {},
   "outputs": [],
   "source": [
    "df_homedepot['companyName']='HomeDepot'"
   ]
  },
  {
   "cell_type": "code",
   "execution_count": 66,
   "id": "891370c4",
   "metadata": {},
   "outputs": [],
   "source": [
    "df_homedepot['Net income change']=df_homedepot['NetIncome'].pct_change()"
   ]
  },
  {
   "cell_type": "markdown",
   "id": "43aa2ffc",
   "metadata": {},
   "source": [
    "# Kroger"
   ]
  },
  {
   "cell_type": "code",
   "execution_count": 67,
   "id": "a009a5e3",
   "metadata": {},
   "outputs": [],
   "source": [
    "df_kroger=getdf('https://en.wikipedia.org/wiki/Kroger','wikitable float-left')"
   ]
  },
  {
   "cell_type": "code",
   "execution_count": 68,
   "id": "866690f4",
   "metadata": {},
   "outputs": [
    {
     "data": {
      "text/html": [
       "<div>\n",
       "<style scoped>\n",
       "    .dataframe tbody tr th:only-of-type {\n",
       "        vertical-align: middle;\n",
       "    }\n",
       "\n",
       "    .dataframe tbody tr th {\n",
       "        vertical-align: top;\n",
       "    }\n",
       "\n",
       "    .dataframe thead th {\n",
       "        text-align: right;\n",
       "    }\n",
       "</style>\n",
       "<table border=\"1\" class=\"dataframe\">\n",
       "  <thead>\n",
       "    <tr style=\"text-align: right;\">\n",
       "      <th></th>\n",
       "      <th>Year</th>\n",
       "      <th>Revenuein mil. US$</th>\n",
       "      <th>Net incomein mil. US$</th>\n",
       "      <th>Total Assetsin mil. US$</th>\n",
       "      <th>Price per Sharein US$</th>\n",
       "      <th>Employees</th>\n",
       "      <th>Supermarkets</th>\n",
       "      <th>C-stores</th>\n",
       "      <th>Jewelers</th>\n",
       "      <th>Total stores</th>\n",
       "    </tr>\n",
       "  </thead>\n",
       "  <tbody>\n",
       "    <tr>\n",
       "      <th>0</th>\n",
       "      <td>2006</td>\n",
       "      <td>60553</td>\n",
       "      <td>958</td>\n",
       "      <td>20482</td>\n",
       "      <td>10.64</td>\n",
       "      <td>290000</td>\n",
       "      <td>2507</td>\n",
       "      <td>791.0</td>\n",
       "      <td>428</td>\n",
       "      <td>3726</td>\n",
       "    </tr>\n",
       "    <tr>\n",
       "      <th>1</th>\n",
       "      <td>2007</td>\n",
       "      <td>66111</td>\n",
       "      <td>1115</td>\n",
       "      <td>21215</td>\n",
       "      <td>13.79</td>\n",
       "      <td>310000</td>\n",
       "      <td>2468</td>\n",
       "      <td>779.0</td>\n",
       "      <td>412</td>\n",
       "      <td>3659</td>\n",
       "    </tr>\n",
       "    <tr>\n",
       "      <th>2</th>\n",
       "      <td>2008</td>\n",
       "      <td>70336</td>\n",
       "      <td>1209</td>\n",
       "      <td>22293</td>\n",
       "      <td>13.36</td>\n",
       "      <td>323000</td>\n",
       "      <td>2486</td>\n",
       "      <td>782.0</td>\n",
       "      <td>394</td>\n",
       "      <td>3662</td>\n",
       "    </tr>\n",
       "    <tr>\n",
       "      <th>3</th>\n",
       "      <td>2009</td>\n",
       "      <td>76148</td>\n",
       "      <td>1249</td>\n",
       "      <td>23257</td>\n",
       "      <td>10.98</td>\n",
       "      <td>326000</td>\n",
       "      <td>2481</td>\n",
       "      <td>771.0</td>\n",
       "      <td>385</td>\n",
       "      <td>3637</td>\n",
       "    </tr>\n",
       "    <tr>\n",
       "      <th>4</th>\n",
       "      <td>2010</td>\n",
       "      <td>76609</td>\n",
       "      <td>70</td>\n",
       "      <td>23126</td>\n",
       "      <td>10.77</td>\n",
       "      <td>334000</td>\n",
       "      <td>2468</td>\n",
       "      <td>777.0</td>\n",
       "      <td>374</td>\n",
       "      <td>3619</td>\n",
       "    </tr>\n",
       "    <tr>\n",
       "      <th>5</th>\n",
       "      <td>2011</td>\n",
       "      <td>82049</td>\n",
       "      <td>1116</td>\n",
       "      <td>23505</td>\n",
       "      <td>11.69</td>\n",
       "      <td>338000</td>\n",
       "      <td>2460</td>\n",
       "      <td>784.0</td>\n",
       "      <td>361</td>\n",
       "      <td>3605</td>\n",
       "    </tr>\n",
       "    <tr>\n",
       "      <th>6</th>\n",
       "      <td>2012</td>\n",
       "      <td>90269</td>\n",
       "      <td>602</td>\n",
       "      <td>23476</td>\n",
       "      <td>11.82</td>\n",
       "      <td>339000</td>\n",
       "      <td>2435</td>\n",
       "      <td>791.0</td>\n",
       "      <td>348</td>\n",
       "      <td>3574</td>\n",
       "    </tr>\n",
       "    <tr>\n",
       "      <th>7</th>\n",
       "      <td>2013</td>\n",
       "      <td>96619</td>\n",
       "      <td>1497</td>\n",
       "      <td>24634</td>\n",
       "      <td>17.88</td>\n",
       "      <td>343000</td>\n",
       "      <td>2424</td>\n",
       "      <td>786.0</td>\n",
       "      <td>328</td>\n",
       "      <td>3538</td>\n",
       "    </tr>\n",
       "    <tr>\n",
       "      <th>8</th>\n",
       "      <td>2014</td>\n",
       "      <td>98375</td>\n",
       "      <td>1519</td>\n",
       "      <td>29281</td>\n",
       "      <td>24.41</td>\n",
       "      <td>375000</td>\n",
       "      <td>2640</td>\n",
       "      <td>786.0</td>\n",
       "      <td>320</td>\n",
       "      <td>3746</td>\n",
       "    </tr>\n",
       "    <tr>\n",
       "      <th>9</th>\n",
       "      <td>2015</td>\n",
       "      <td>108465</td>\n",
       "      <td>1728</td>\n",
       "      <td>30497</td>\n",
       "      <td>36.99</td>\n",
       "      <td>400000</td>\n",
       "      <td>2625</td>\n",
       "      <td>782.0</td>\n",
       "      <td>326</td>\n",
       "      <td>3733</td>\n",
       "    </tr>\n",
       "    <tr>\n",
       "      <th>10</th>\n",
       "      <td>2016</td>\n",
       "      <td>109830</td>\n",
       "      <td>2039</td>\n",
       "      <td>33897</td>\n",
       "      <td>35.08</td>\n",
       "      <td>431000</td>\n",
       "      <td>2778</td>\n",
       "      <td>784.0</td>\n",
       "      <td>323</td>\n",
       "      <td>3885</td>\n",
       "    </tr>\n",
       "    <tr>\n",
       "      <th>11</th>\n",
       "      <td>2017</td>\n",
       "      <td>115337</td>\n",
       "      <td>1975</td>\n",
       "      <td>36505</td>\n",
       "      <td>26.51</td>\n",
       "      <td>443000</td>\n",
       "      <td>2796</td>\n",
       "      <td>784.0</td>\n",
       "      <td>319</td>\n",
       "      <td>3899</td>\n",
       "    </tr>\n",
       "    <tr>\n",
       "      <th>12</th>\n",
       "      <td>2018</td>\n",
       "      <td>122662</td>\n",
       "      <td>1907</td>\n",
       "      <td>37197</td>\n",
       "      <td>27.76</td>\n",
       "      <td>449000</td>\n",
       "      <td>2782</td>\n",
       "      <td>782.0</td>\n",
       "      <td>274</td>\n",
       "      <td>3838</td>\n",
       "    </tr>\n",
       "    <tr>\n",
       "      <th>13</th>\n",
       "      <td>2019</td>\n",
       "      <td>121852</td>\n",
       "      <td>3110</td>\n",
       "      <td>38118</td>\n",
       "      <td>25.35</td>\n",
       "      <td>453000</td>\n",
       "      <td>2764</td>\n",
       "      <td>NaN</td>\n",
       "      <td>253</td>\n",
       "      <td>3017</td>\n",
       "    </tr>\n",
       "    <tr>\n",
       "      <th>14</th>\n",
       "      <td>2020</td>\n",
       "      <td>122286</td>\n",
       "      <td>1659</td>\n",
       "      <td>45256</td>\n",
       "      <td>NaN</td>\n",
       "      <td>435000</td>\n",
       "      <td>2757</td>\n",
       "      <td>NaN</td>\n",
       "      <td>242</td>\n",
       "      <td>2999</td>\n",
       "    </tr>\n",
       "  </tbody>\n",
       "</table>\n",
       "</div>"
      ],
      "text/plain": [
       "    Year  Revenuein mil. US$  Net incomein mil. US$  Total Assetsin mil. US$  \\\n",
       "0   2006               60553                    958                    20482   \n",
       "1   2007               66111                   1115                    21215   \n",
       "2   2008               70336                   1209                    22293   \n",
       "3   2009               76148                   1249                    23257   \n",
       "4   2010               76609                     70                    23126   \n",
       "5   2011               82049                   1116                    23505   \n",
       "6   2012               90269                    602                    23476   \n",
       "7   2013               96619                   1497                    24634   \n",
       "8   2014               98375                   1519                    29281   \n",
       "9   2015              108465                   1728                    30497   \n",
       "10  2016              109830                   2039                    33897   \n",
       "11  2017              115337                   1975                    36505   \n",
       "12  2018              122662                   1907                    37197   \n",
       "13  2019              121852                   3110                    38118   \n",
       "14  2020              122286                   1659                    45256   \n",
       "\n",
       "    Price per Sharein US$  Employees  Supermarkets  C-stores  Jewelers  \\\n",
       "0                   10.64     290000          2507     791.0       428   \n",
       "1                   13.79     310000          2468     779.0       412   \n",
       "2                   13.36     323000          2486     782.0       394   \n",
       "3                   10.98     326000          2481     771.0       385   \n",
       "4                   10.77     334000          2468     777.0       374   \n",
       "5                   11.69     338000          2460     784.0       361   \n",
       "6                   11.82     339000          2435     791.0       348   \n",
       "7                   17.88     343000          2424     786.0       328   \n",
       "8                   24.41     375000          2640     786.0       320   \n",
       "9                   36.99     400000          2625     782.0       326   \n",
       "10                  35.08     431000          2778     784.0       323   \n",
       "11                  26.51     443000          2796     784.0       319   \n",
       "12                  27.76     449000          2782     782.0       274   \n",
       "13                  25.35     453000          2764       NaN       253   \n",
       "14                    NaN     435000          2757       NaN       242   \n",
       "\n",
       "    Total stores  \n",
       "0           3726  \n",
       "1           3659  \n",
       "2           3662  \n",
       "3           3637  \n",
       "4           3619  \n",
       "5           3605  \n",
       "6           3574  \n",
       "7           3538  \n",
       "8           3746  \n",
       "9           3733  \n",
       "10          3885  \n",
       "11          3899  \n",
       "12          3838  \n",
       "13          3017  \n",
       "14          2999  "
      ]
     },
     "execution_count": 68,
     "metadata": {},
     "output_type": "execute_result"
    }
   ],
   "source": [
    "df_kroger"
   ]
  },
  {
   "cell_type": "code",
   "execution_count": 69,
   "id": "288e6870",
   "metadata": {},
   "outputs": [],
   "source": [
    "df_kroger['companyName']='Kroger'"
   ]
  },
  {
   "cell_type": "code",
   "execution_count": 70,
   "id": "957e2cf8",
   "metadata": {},
   "outputs": [],
   "source": [
    "df_kroger=df_kroger.rename(columns={'Revenuein mil. US$':'Revenue','Net incomein mil. US$':'NetIncome'})"
   ]
  },
  {
   "cell_type": "code",
   "execution_count": 71,
   "id": "632fd842",
   "metadata": {},
   "outputs": [
    {
     "data": {
      "text/html": [
       "<div>\n",
       "<style scoped>\n",
       "    .dataframe tbody tr th:only-of-type {\n",
       "        vertical-align: middle;\n",
       "    }\n",
       "\n",
       "    .dataframe tbody tr th {\n",
       "        vertical-align: top;\n",
       "    }\n",
       "\n",
       "    .dataframe thead th {\n",
       "        text-align: right;\n",
       "    }\n",
       "</style>\n",
       "<table border=\"1\" class=\"dataframe\">\n",
       "  <thead>\n",
       "    <tr style=\"text-align: right;\">\n",
       "      <th></th>\n",
       "      <th>Year</th>\n",
       "      <th>Revenue</th>\n",
       "      <th>NetIncome</th>\n",
       "      <th>Total Assetsin mil. US$</th>\n",
       "      <th>Price per Sharein US$</th>\n",
       "      <th>Employees</th>\n",
       "      <th>Supermarkets</th>\n",
       "      <th>C-stores</th>\n",
       "      <th>Jewelers</th>\n",
       "      <th>Total stores</th>\n",
       "      <th>companyName</th>\n",
       "    </tr>\n",
       "  </thead>\n",
       "  <tbody>\n",
       "    <tr>\n",
       "      <th>0</th>\n",
       "      <td>2006</td>\n",
       "      <td>60553</td>\n",
       "      <td>958</td>\n",
       "      <td>20482</td>\n",
       "      <td>10.64</td>\n",
       "      <td>290000</td>\n",
       "      <td>2507</td>\n",
       "      <td>791.0</td>\n",
       "      <td>428</td>\n",
       "      <td>3726</td>\n",
       "      <td>Kroger</td>\n",
       "    </tr>\n",
       "    <tr>\n",
       "      <th>1</th>\n",
       "      <td>2007</td>\n",
       "      <td>66111</td>\n",
       "      <td>1115</td>\n",
       "      <td>21215</td>\n",
       "      <td>13.79</td>\n",
       "      <td>310000</td>\n",
       "      <td>2468</td>\n",
       "      <td>779.0</td>\n",
       "      <td>412</td>\n",
       "      <td>3659</td>\n",
       "      <td>Kroger</td>\n",
       "    </tr>\n",
       "    <tr>\n",
       "      <th>2</th>\n",
       "      <td>2008</td>\n",
       "      <td>70336</td>\n",
       "      <td>1209</td>\n",
       "      <td>22293</td>\n",
       "      <td>13.36</td>\n",
       "      <td>323000</td>\n",
       "      <td>2486</td>\n",
       "      <td>782.0</td>\n",
       "      <td>394</td>\n",
       "      <td>3662</td>\n",
       "      <td>Kroger</td>\n",
       "    </tr>\n",
       "    <tr>\n",
       "      <th>3</th>\n",
       "      <td>2009</td>\n",
       "      <td>76148</td>\n",
       "      <td>1249</td>\n",
       "      <td>23257</td>\n",
       "      <td>10.98</td>\n",
       "      <td>326000</td>\n",
       "      <td>2481</td>\n",
       "      <td>771.0</td>\n",
       "      <td>385</td>\n",
       "      <td>3637</td>\n",
       "      <td>Kroger</td>\n",
       "    </tr>\n",
       "    <tr>\n",
       "      <th>4</th>\n",
       "      <td>2010</td>\n",
       "      <td>76609</td>\n",
       "      <td>70</td>\n",
       "      <td>23126</td>\n",
       "      <td>10.77</td>\n",
       "      <td>334000</td>\n",
       "      <td>2468</td>\n",
       "      <td>777.0</td>\n",
       "      <td>374</td>\n",
       "      <td>3619</td>\n",
       "      <td>Kroger</td>\n",
       "    </tr>\n",
       "  </tbody>\n",
       "</table>\n",
       "</div>"
      ],
      "text/plain": [
       "   Year  Revenue  NetIncome  Total Assetsin mil. US$  Price per Sharein US$  \\\n",
       "0  2006    60553        958                    20482                  10.64   \n",
       "1  2007    66111       1115                    21215                  13.79   \n",
       "2  2008    70336       1209                    22293                  13.36   \n",
       "3  2009    76148       1249                    23257                  10.98   \n",
       "4  2010    76609         70                    23126                  10.77   \n",
       "\n",
       "   Employees  Supermarkets  C-stores  Jewelers  Total stores companyName  \n",
       "0     290000          2507     791.0       428          3726      Kroger  \n",
       "1     310000          2468     779.0       412          3659      Kroger  \n",
       "2     323000          2486     782.0       394          3662      Kroger  \n",
       "3     326000          2481     771.0       385          3637      Kroger  \n",
       "4     334000          2468     777.0       374          3619      Kroger  "
      ]
     },
     "execution_count": 71,
     "metadata": {},
     "output_type": "execute_result"
    }
   ],
   "source": [
    "df_kroger.head()"
   ]
  },
  {
   "cell_type": "code",
   "execution_count": 72,
   "id": "0dfa2b5d",
   "metadata": {},
   "outputs": [],
   "source": [
    "df_kroger['Net income change']=df_kroger['NetIncome'].pct_change()"
   ]
  },
  {
   "cell_type": "markdown",
   "id": "c8000136",
   "metadata": {},
   "source": [
    "# Comparing net income percentage change for Costco and HomeDepot:"
   ]
  },
  {
   "cell_type": "code",
   "execution_count": 73,
   "id": "ff77fe55",
   "metadata": {},
   "outputs": [],
   "source": [
    "df_concat_3=pd.concat([df_costco[['Year', 'Revenue', 'Net income change','companyName']],df_homedepot[['Year', 'Revenue', 'Net income change','companyName']],\n",
    "                   df_kroger[['Year', 'Revenue', 'Net income change','companyName']]]).reset_index()"
   ]
  },
  {
   "cell_type": "code",
   "execution_count": 74,
   "id": "e27d9901",
   "metadata": {},
   "outputs": [
    {
     "data": {
      "text/html": [
       "<div>\n",
       "<style scoped>\n",
       "    .dataframe tbody tr th:only-of-type {\n",
       "        vertical-align: middle;\n",
       "    }\n",
       "\n",
       "    .dataframe tbody tr th {\n",
       "        vertical-align: top;\n",
       "    }\n",
       "\n",
       "    .dataframe thead th {\n",
       "        text-align: right;\n",
       "    }\n",
       "</style>\n",
       "<table border=\"1\" class=\"dataframe\">\n",
       "  <thead>\n",
       "    <tr style=\"text-align: right;\">\n",
       "      <th></th>\n",
       "      <th>index</th>\n",
       "      <th>Year</th>\n",
       "      <th>Revenue</th>\n",
       "      <th>Net income change</th>\n",
       "      <th>companyName</th>\n",
       "    </tr>\n",
       "  </thead>\n",
       "  <tbody>\n",
       "    <tr>\n",
       "      <th>0</th>\n",
       "      <td>0</td>\n",
       "      <td>2005</td>\n",
       "      <td>52935</td>\n",
       "      <td>NaN</td>\n",
       "      <td>Costco</td>\n",
       "    </tr>\n",
       "    <tr>\n",
       "      <th>1</th>\n",
       "      <td>1</td>\n",
       "      <td>2006</td>\n",
       "      <td>60151</td>\n",
       "      <td>0.037629</td>\n",
       "      <td>Costco</td>\n",
       "    </tr>\n",
       "    <tr>\n",
       "      <th>2</th>\n",
       "      <td>2</td>\n",
       "      <td>2007</td>\n",
       "      <td>64400</td>\n",
       "      <td>-0.018132</td>\n",
       "      <td>Costco</td>\n",
       "    </tr>\n",
       "    <tr>\n",
       "      <th>3</th>\n",
       "      <td>3</td>\n",
       "      <td>2008</td>\n",
       "      <td>72483</td>\n",
       "      <td>0.184672</td>\n",
       "      <td>Costco</td>\n",
       "    </tr>\n",
       "    <tr>\n",
       "      <th>4</th>\n",
       "      <td>4</td>\n",
       "      <td>2009</td>\n",
       "      <td>71422</td>\n",
       "      <td>-0.153546</td>\n",
       "      <td>Costco</td>\n",
       "    </tr>\n",
       "  </tbody>\n",
       "</table>\n",
       "</div>"
      ],
      "text/plain": [
       "   index  Year  Revenue  Net income change companyName\n",
       "0      0  2005    52935                NaN      Costco\n",
       "1      1  2006    60151           0.037629      Costco\n",
       "2      2  2007    64400          -0.018132      Costco\n",
       "3      3  2008    72483           0.184672      Costco\n",
       "4      4  2009    71422          -0.153546      Costco"
      ]
     },
     "execution_count": 74,
     "metadata": {},
     "output_type": "execute_result"
    }
   ],
   "source": [
    "df_concat_3.head()"
   ]
  },
  {
   "cell_type": "code",
   "execution_count": 75,
   "id": "f5c4d908",
   "metadata": {},
   "outputs": [],
   "source": [
    "df_concat_3=df_concat_3.dropna()"
   ]
  },
  {
   "cell_type": "code",
   "execution_count": 76,
   "id": "f191367c",
   "metadata": {},
   "outputs": [
    {
     "data": {
      "text/plain": [
       "'Costco mean: 0.11040352802898808'"
      ]
     },
     "metadata": {},
     "output_type": "display_data"
    },
    {
     "data": {
      "text/plain": [
       "'HomeDepot mean: 0.05896706343192117'"
      ]
     },
     "metadata": {},
     "output_type": "display_data"
    },
    {
     "data": {
      "text/plain": [
       "'Costco sd: 0.10410450905199398'"
      ]
     },
     "metadata": {},
     "output_type": "display_data"
    },
    {
     "data": {
      "text/plain": [
       "'HomeDepot sd: 0.19320690825908698'"
      ]
     },
     "metadata": {},
     "output_type": "display_data"
    },
    {
     "data": {
      "text/plain": [
       "Ttest_indResult(statistic=0.9532778472938894, pvalue=0.348067599369711)"
      ]
     },
     "metadata": {},
     "output_type": "display_data"
    },
    {
     "data": {
      "image/png": "[encoded data removed]",
      "text/plain": [
       "<Figure size 455.25x360 with 1 Axes>"
      ]
     },
     "metadata": {
      "needs_background": "light"
     },
     "output_type": "display_data"
    }
   ],
   "source": [
    "sns.displot(data=df_concat_3[df_concat_3.companyName.isin(['Costco','HomeDepot'])], x='Net income change', hue='companyName', kind='kde',common_norm=False)\n",
    "\n",
    "display(f\"Costco mean: {df_concat_3[df_concat_3.companyName == 'Costco']['Net income change'].mean()}\")\n",
    "display(f\"HomeDepot mean: {df_concat_3[df_concat_3.companyName=='HomeDepot']['Net income change'].mean()}\")\n",
    "display(f\"Costco sd: {df_concat_3[df_concat_3.companyName=='Costco']['Net income change'].std()}\")\n",
    "display(f\"HomeDepot sd: {df_concat_3[df_concat_3.companyName=='HomeDepot']['Net income change'].std()}\")\n",
    "\n",
    "display(stats.ttest_ind(df_concat_3[df_concat_3.companyName == 'Costco']['Net income change'], df_concat_3[df_concat_3.companyName == 'HomeDepot']['Net income change']))"
   ]
  },
  {
   "cell_type": "markdown",
   "id": "afabc66d",
   "metadata": {},
   "source": [
    "Cost has the higher net income change percentage than Home depot.\n",
    "It means that the home depot net income is more subtle when compared to Costco.\n",
    "we got the p value >0.05, which not statistically significant"
   ]
  },
  {
   "cell_type": "markdown",
   "id": "c1427848",
   "metadata": {},
   "source": [
    "# Comparing revenue Over the years for 5 companies"
   ]
  },
  {
   "cell_type": "code",
   "execution_count": 77,
   "id": "dcb3fae7",
   "metadata": {},
   "outputs": [],
   "source": [
    "df_concat=pd.concat([df_walmart[['Year', 'Revenue', 'NetIncome','companyName']],df_amazon[['Year', 'Revenue', 'NetIncome','companyName']],\n",
    "                   df_costco[['Year', 'Revenue', 'NetIncome','companyName']],df_homedepot[['Year', 'Revenue', 'NetIncome','companyName']],\n",
    "                   df_kroger[['Year', 'Revenue', 'NetIncome','companyName']]]).reset_index()"
   ]
  },
  {
   "cell_type": "code",
   "execution_count": 78,
   "id": "da16fd41",
   "metadata": {},
   "outputs": [],
   "source": [
    "df_concat['Year']=df_concat['Year'].astype(int)"
   ]
  },
  {
   "cell_type": "code",
   "execution_count": 79,
   "id": "638c3761",
   "metadata": {},
   "outputs": [
    {
     "data": {
      "text/plain": [
       "Text(0.5, 1.0, 'Revenue change over the years for top 5 companies')"
      ]
     },
     "execution_count": 79,
     "metadata": {},
     "output_type": "execute_result"
    },
    {
     "data": {
      "image/png": "[encoded data removed]",
      "text/plain": [
       "<Figure size 432x288 with 1 Axes>"
      ]
     },
     "metadata": {
      "needs_background": "light"
     },
     "output_type": "display_data"
    }
   ],
   "source": [
    "sns.lineplot(data=df_concat,x='Year',y='Revenue',hue='companyName')\n",
    "plt.title('Revenue change over the years for top 5 companies')"
   ]
  },
  {
   "cell_type": "code",
   "execution_count": 80,
   "id": "0915a85a",
   "metadata": {},
   "outputs": [
    {
     "data": {
      "text/plain": [
       "Text(0.5, 1.0, 'Revenue change for top 5 companies(2005-2022)')"
      ]
     },
     "execution_count": 80,
     "metadata": {},
     "output_type": "execute_result"
    },
    {
     "data": {
      "image/png": "[encoded data removed]",
      "text/plain": [
       "<Figure size 432x288 with 1 Axes>"
      ]
     },
     "metadata": {
      "needs_background": "light"
     },
     "output_type": "display_data"
    }
   ],
   "source": [
    "sns.lineplot(data=df_concat,x='Year',y='Revenue',hue='companyName')\n",
    "plt.xlim([2005,2022])\n",
    "plt.title('Revenue change for top 5 companies(2005-2022)')"
   ]
  },
  {
   "cell_type": "markdown",
   "id": "a4c1288b",
   "metadata": {},
   "source": [
    "When we consider the revenues of top 5 retail companies from 2005 to 2022, Walmart has the highest increasing revenue over the years.\n",
    "Amazon revenue has increased over the years and it's significantly increased from 2019 to 2021 due to COVID-19 pandemic and people used to do more online shopping than in-store."
   ]
  },
  {
   "cell_type": "markdown",
   "id": "885de31d",
   "metadata": {},
   "source": [
    "# Netincome over the years"
   ]
  },
  {
   "cell_type": "code",
   "execution_count": 84,
   "id": "1869bf32",
   "metadata": {},
   "outputs": [],
   "source": [
    "df_concat=df_concat[df_concat.companyName.isin(['Costco','HomeDepot','Walmart','Kroger'])]"
   ]
  },
  {
   "cell_type": "code",
   "execution_count": 85,
   "id": "4b6a5e39",
   "metadata": {},
   "outputs": [
    {
     "data": {
      "text/html": [
       "<div>\n",
       "<style scoped>\n",
       "    .dataframe tbody tr th:only-of-type {\n",
       "        vertical-align: middle;\n",
       "    }\n",
       "\n",
       "    .dataframe tbody tr th {\n",
       "        vertical-align: top;\n",
       "    }\n",
       "\n",
       "    .dataframe thead th {\n",
       "        text-align: right;\n",
       "    }\n",
       "</style>\n",
       "<table border=\"1\" class=\"dataframe\">\n",
       "  <thead>\n",
       "    <tr style=\"text-align: right;\">\n",
       "      <th></th>\n",
       "      <th>index</th>\n",
       "      <th>Year</th>\n",
       "      <th>Revenue</th>\n",
       "      <th>NetIncome</th>\n",
       "      <th>companyName</th>\n",
       "    </tr>\n",
       "  </thead>\n",
       "  <tbody>\n",
       "    <tr>\n",
       "      <th>0</th>\n",
       "      <td>0</td>\n",
       "      <td>1968</td>\n",
       "      <td>12.618754</td>\n",
       "      <td>0.481754</td>\n",
       "      <td>Walmart</td>\n",
       "    </tr>\n",
       "    <tr>\n",
       "      <th>1</th>\n",
       "      <td>1</td>\n",
       "      <td>1969</td>\n",
       "      <td>21.365081</td>\n",
       "      <td>0.605211</td>\n",
       "      <td>Walmart</td>\n",
       "    </tr>\n",
       "    <tr>\n",
       "      <th>2</th>\n",
       "      <td>2</td>\n",
       "      <td>1970</td>\n",
       "      <td>30.862659</td>\n",
       "      <td>1.187764</td>\n",
       "      <td>Walmart</td>\n",
       "    </tr>\n",
       "    <tr>\n",
       "      <th>3</th>\n",
       "      <td>3</td>\n",
       "      <td>1971</td>\n",
       "      <td>44.286012</td>\n",
       "      <td>1.651599</td>\n",
       "      <td>Walmart</td>\n",
       "    </tr>\n",
       "    <tr>\n",
       "      <th>4</th>\n",
       "      <td>4</td>\n",
       "      <td>1972</td>\n",
       "      <td>78.014164</td>\n",
       "      <td>2.907354</td>\n",
       "      <td>Walmart</td>\n",
       "    </tr>\n",
       "    <tr>\n",
       "      <th>...</th>\n",
       "      <td>...</td>\n",
       "      <td>...</td>\n",
       "      <td>...</td>\n",
       "      <td>...</td>\n",
       "      <td>...</td>\n",
       "    </tr>\n",
       "    <tr>\n",
       "      <th>124</th>\n",
       "      <td>10</td>\n",
       "      <td>2016</td>\n",
       "      <td>109830.000000</td>\n",
       "      <td>2039</td>\n",
       "      <td>Kroger</td>\n",
       "    </tr>\n",
       "    <tr>\n",
       "      <th>125</th>\n",
       "      <td>11</td>\n",
       "      <td>2017</td>\n",
       "      <td>115337.000000</td>\n",
       "      <td>1975</td>\n",
       "      <td>Kroger</td>\n",
       "    </tr>\n",
       "    <tr>\n",
       "      <th>126</th>\n",
       "      <td>12</td>\n",
       "      <td>2018</td>\n",
       "      <td>122662.000000</td>\n",
       "      <td>1907</td>\n",
       "      <td>Kroger</td>\n",
       "    </tr>\n",
       "    <tr>\n",
       "      <th>127</th>\n",
       "      <td>13</td>\n",
       "      <td>2019</td>\n",
       "      <td>121852.000000</td>\n",
       "      <td>3110</td>\n",
       "      <td>Kroger</td>\n",
       "    </tr>\n",
       "    <tr>\n",
       "      <th>128</th>\n",
       "      <td>14</td>\n",
       "      <td>2020</td>\n",
       "      <td>122286.000000</td>\n",
       "      <td>1659</td>\n",
       "      <td>Kroger</td>\n",
       "    </tr>\n",
       "  </tbody>\n",
       "</table>\n",
       "<p>103 rows × 5 columns</p>\n",
       "</div>"
      ],
      "text/plain": [
       "     index  Year        Revenue NetIncome companyName\n",
       "0        0  1968      12.618754  0.481754     Walmart\n",
       "1        1  1969      21.365081  0.605211     Walmart\n",
       "2        2  1970      30.862659  1.187764     Walmart\n",
       "3        3  1971      44.286012  1.651599     Walmart\n",
       "4        4  1972      78.014164  2.907354     Walmart\n",
       "..     ...   ...            ...       ...         ...\n",
       "124     10  2016  109830.000000      2039      Kroger\n",
       "125     11  2017  115337.000000      1975      Kroger\n",
       "126     12  2018  122662.000000      1907      Kroger\n",
       "127     13  2019  121852.000000      3110      Kroger\n",
       "128     14  2020  122286.000000      1659      Kroger\n",
       "\n",
       "[103 rows x 5 columns]"
      ]
     },
     "execution_count": 85,
     "metadata": {},
     "output_type": "execute_result"
    }
   ],
   "source": [
    "df_concat"
   ]
  },
  {
   "cell_type": "code",
   "execution_count": 87,
   "id": "43f3c2b7",
   "metadata": {},
   "outputs": [
    {
     "data": {
      "text/plain": [
       "(2005.0, 2022.0)"
      ]
     },
     "execution_count": 87,
     "metadata": {},
     "output_type": "execute_result"
    },
    {
     "data": {
      "image/png": "[encoded data removed]",
      "text/plain": [
       "<Figure size 432x288 with 1 Axes>"
      ]
     },
     "metadata": {
      "needs_background": "light"
     },
     "output_type": "display_data"
    }
   ],
   "source": [
    "sns.lineplot(data=df_concat,x='Year',y='NetIncome',hue='companyName')\n",
    "plt.xlim([2005,2022])"
   ]
  },
  {
   "cell_type": "markdown",
   "id": "7cac2d73",
   "metadata": {},
   "source": [
    "Due to data formatting issues, we were unable to include Amazon in our plotted data. However, we observed a significant decrease in net income for Walmart in 2019. Additionally, Home Depot had a continuous increase in net income from 2009 and was the top company in terms of net profit margin. Not including this in the report due to length issues."
   ]
  }
 ],
 "metadata": {
  "kernelspec": {
   "display_name": "Python 3 (ipykernel)",
   "language": "python",
   "name": "python3"
  },
  "language_info": {
   "codemirror_mode": {
    "name": "ipython",
    "version": 3
   },
   "file_extension": ".py",
   "mimetype": "text/x-python",
   "name": "python",
   "nbconvert_exporter": "python",
   "pygments_lexer": "ipython3",
   "version": "3.9.7"
  }
 },
 "nbformat": 4,
 "nbformat_minor": 5
}
