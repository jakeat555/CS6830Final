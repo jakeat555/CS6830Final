{
  "cells": [
    {
      "cell_type": "markdown",
      "id": "bd77231c-e50c-4406-91fc-b625956d16f0",
      "metadata": {
        "id": "bd77231c-e50c-4406-91fc-b625956d16f0"
      },
      "source": [
        "# Country Analysis\n",
        "    1. Explanitory variables\n",
        "        1. Population \n",
        "        https://en.wikipedia.org/wiki/List_of_countries_and_dependencies_by_population\n",
        "        1. Internet Prevelance (make sure to divide by population)\n",
        "        https://en.wikipedia.org/wiki/List_of_countries_by_number_of_Internet_users\n",
        "        1. Net Migration Rate\n",
        "        https://en.wikipedia.org/wiki/List_of_countries_by_net_migration_rate\n",
        "        1. Pop in poverty\n",
        "        https://en.wikipedia.org/wiki/List_of_sovereign_states_by_percentage_of_population_living_in_poverty\n",
        "        1. Employment Rate\n",
        "        https://en.wikipedia.org/wiki/List_of_sovereign_states_by_employment_rate\n",
        "        1. Literacy rate\n",
        "        https://en.wikipedia.org/wiki/List_of_countries_by_literacy_rate\n",
        "        \n",
        "    1. Some less regular variables\n",
        "        1. Wine production https://en.wikipedia.org/wiki/List_of_wine-producing_regions#Countries\n",
        "    \n",
        "    1. Target variable\n",
        "        1. Unemployment https://en.wikipedia.org/wiki/List_of_sovereign_states_by_unemployment_rate\n",
        "        \n",
        "    1. Plot unemployment vs homelesness\n",
        "    https://en.wikipedia.org/wiki/List_of_sovereign_states_by_homeless_population\n",
        "    \n",
        "    1. How is unemployment measured??\n",
        "    https://ilostat.ilo.org/resources/concepts-and-definitions/description-work-statistics-icls19/\n",
        "    \n",
        "    1. How is unemployment calculated?\n",
        "    https://ilostat.ilo.org/resources/concepts-and-definitions/description-work-statistics-icls19/#elementor-toc__heading-anchor-4"
      ]
    },
    {
      "cell_type": "markdown",
      "id": "d517af09",
      "metadata": {
        "id": "d517af09"
      },
      "source": [
        "# Import libraries"
      ]
    },
    {
      "cell_type": "code",
      "execution_count": 1,
      "id": "e3004c41",
      "metadata": {
        "id": "e3004c41"
      },
      "outputs": [],
      "source": [
        "import pandas as pd \n",
        "from matplotlib import pyplot as plt\n",
        "import requests # library to handle requests\n",
        "from bs4 import BeautifulSoup # library to parse HTML documents\n",
        "import seaborn as sns\n",
        "import numpy as np\n",
        "from scipy import stats\n",
        "from sklearn.linear_model import LinearRegression\n",
        "from sklearn.model_selection import train_test_split\n",
        "from sklearn.ensemble import RandomForestRegressor\n",
        "from sklearn.model_selection import train_test_split\n",
        "from sklearn.metrics import mean_squared_error, r2_score\n",
        "from sklearn.model_selection import cross_val_score\n",
        "from sklearn.tree import DecisionTreeRegressor\n",
        "# from sklearn.metrics import r2_score\n",
        "# from sklearn.ensemble import RandomForestRegressor\n",
        "# from sklearn.model_selection import train_test_split\n",
        "# from sklearn.metrics import mean_squared_error"
      ]
    },
    {
      "cell_type": "code",
      "execution_count": 2,
      "id": "e770ecb7",
      "metadata": {
        "id": "e770ecb7"
      },
      "outputs": [],
      "source": [
        "#tableIndex-number of the table in wiki\n",
        "def get_table(url,tableIndex):\n",
        "    response = requests.get(url)\n",
        "    soup = BeautifulSoup(response.text, \"html.parser\")\n",
        "    # find all table elements on the page with class name \"wikitable\"\n",
        "    tables = soup.find_all(\"table\", {\"class\": \"wikitable\"})\n",
        "    second_table = tables[tableIndex]\n",
        "    # read the table data into a pandas dataframe\n",
        "    df = pd.read_html(str(second_table))[0]\n",
        "\n",
        "    return df\n",
        "\n"
      ]
    },
    {
      "cell_type": "markdown",
      "id": "4d9052e7",
      "metadata": {
        "id": "4d9052e7"
      },
      "source": [
        "# Population"
      ]
    },
    {
      "cell_type": "code",
      "execution_count": 3,
      "id": "ea67285f",
      "metadata": {
        "id": "ea67285f"
      },
      "outputs": [],
      "source": [
        "df_population=get_table('https://en.wikipedia.org/wiki/List_of_countries_and_dependencies_by_population',0)"
      ]
    },
    {
      "cell_type": "code",
      "execution_count": 4,
      "id": "9793249f",
      "metadata": {
        "colab": {
          "base_uri": "https://localhost:8080/",
          "height": 455
        },
        "id": "9793249f",
        "outputId": "ad01d372-48e8-43b9-8104-2e9aa10e885d"
      },
      "outputs": [
        {
          "output_type": "execute_result",
          "data": {
            "text/plain": [
              "    Rank                 Country / Dependency  Population                 \\\n",
              "    Rank                 Country / Dependency     Numbers % of the world   \n",
              "0      –                                World  8026452000           100%   \n",
              "1      1                                China  1411750000            NaN   \n",
              "2      2                                India  1392329000            NaN   \n",
              "3      3                        United States   334635000            NaN   \n",
              "4      4                            Indonesia   275773800            NaN   \n",
              "..   ...                                  ...         ...            ...   \n",
              "237    –                Tokelau (New Zealand)        1647            NaN   \n",
              "238    –                                 Niue        1549            NaN   \n",
              "239  195                         Vatican City         825            NaN   \n",
              "240    –  Cocos (Keeling) Islands (Australia)         593            NaN   \n",
              "241    –    Pitcairn Islands (United Kingdom)          47            NaN   \n",
              "\n",
              "            Date Source (official or from the United Nations)      Notes  \n",
              "            Date Source (official or from the United Nations)      Notes  \n",
              "0    17 Apr 2023                             UN projection[3]        NaN  \n",
              "1    31 Dec 2022                         Official estimate[4]        [b]  \n",
              "2     1 Mar 2023                       Official projection[5]  [c] [[1]]  \n",
              "3    17 Apr 2023                 National population clock[6]        [d]  \n",
              "4     1 Jul 2022                         Official estimate[7]        NaN  \n",
              "..           ...                                          ...        ...  \n",
              "237   1 Jan 2019                            2019 Census [205]        NaN  \n",
              "238   1 Jul 2021               National annual projection[94]        NaN  \n",
              "239   1 Feb 2019               Monthly national estimate[206]       [ag]  \n",
              "240  30 Jun 2020                             2021 Census[207]        NaN  \n",
              "241   1 Jul 2021                       Official estimate[208]        NaN  \n",
              "\n",
              "[242 rows x 7 columns]"
            ],
            "text/html": [
              "\n",
              "  <div id=\"df-0b3966ce-cd13-4bd6-938a-e322f3020290\">\n",
              "    <div class=\"colab-df-container\">\n",
              "      <div>\n",
              "<style scoped>\n",
              "    .dataframe tbody tr th:only-of-type {\n",
              "        vertical-align: middle;\n",
              "    }\n",
              "\n",
              "    .dataframe tbody tr th {\n",
              "        vertical-align: top;\n",
              "    }\n",
              "\n",
              "    .dataframe thead tr th {\n",
              "        text-align: left;\n",
              "    }\n",
              "</style>\n",
              "<table border=\"1\" class=\"dataframe\">\n",
              "  <thead>\n",
              "    <tr>\n",
              "      <th></th>\n",
              "      <th>Rank</th>\n",
              "      <th>Country / Dependency</th>\n",
              "      <th colspan=\"2\" halign=\"left\">Population</th>\n",
              "      <th>Date</th>\n",
              "      <th>Source (official or from the United Nations)</th>\n",
              "      <th>Notes</th>\n",
              "    </tr>\n",
              "    <tr>\n",
              "      <th></th>\n",
              "      <th>Rank</th>\n",
              "      <th>Country / Dependency</th>\n",
              "      <th>Numbers</th>\n",
              "      <th>% of the world</th>\n",
              "      <th>Date</th>\n",
              "      <th>Source (official or from the United Nations)</th>\n",
              "      <th>Notes</th>\n",
              "    </tr>\n",
              "  </thead>\n",
              "  <tbody>\n",
              "    <tr>\n",
              "      <th>0</th>\n",
              "      <td>–</td>\n",
              "      <td>World</td>\n",
              "      <td>8026452000</td>\n",
              "      <td>100%</td>\n",
              "      <td>17 Apr 2023</td>\n",
              "      <td>UN projection[3]</td>\n",
              "      <td>NaN</td>\n",
              "    </tr>\n",
              "    <tr>\n",
              "      <th>1</th>\n",
              "      <td>1</td>\n",
              "      <td>China</td>\n",
              "      <td>1411750000</td>\n",
              "      <td>NaN</td>\n",
              "      <td>31 Dec 2022</td>\n",
              "      <td>Official estimate[4]</td>\n",
              "      <td>[b]</td>\n",
              "    </tr>\n",
              "    <tr>\n",
              "      <th>2</th>\n",
              "      <td>2</td>\n",
              "      <td>India</td>\n",
              "      <td>1392329000</td>\n",
              "      <td>NaN</td>\n",
              "      <td>1 Mar 2023</td>\n",
              "      <td>Official projection[5]</td>\n",
              "      <td>[c] [[1]]</td>\n",
              "    </tr>\n",
              "    <tr>\n",
              "      <th>3</th>\n",
              "      <td>3</td>\n",
              "      <td>United States</td>\n",
              "      <td>334635000</td>\n",
              "      <td>NaN</td>\n",
              "      <td>17 Apr 2023</td>\n",
              "      <td>National population clock[6]</td>\n",
              "      <td>[d]</td>\n",
              "    </tr>\n",
              "    <tr>\n",
              "      <th>4</th>\n",
              "      <td>4</td>\n",
              "      <td>Indonesia</td>\n",
              "      <td>275773800</td>\n",
              "      <td>NaN</td>\n",
              "      <td>1 Jul 2022</td>\n",
              "      <td>Official estimate[7]</td>\n",
              "      <td>NaN</td>\n",
              "    </tr>\n",
              "    <tr>\n",
              "      <th>...</th>\n",
              "      <td>...</td>\n",
              "      <td>...</td>\n",
              "      <td>...</td>\n",
              "      <td>...</td>\n",
              "      <td>...</td>\n",
              "      <td>...</td>\n",
              "      <td>...</td>\n",
              "    </tr>\n",
              "    <tr>\n",
              "      <th>237</th>\n",
              "      <td>–</td>\n",
              "      <td>Tokelau (New Zealand)</td>\n",
              "      <td>1647</td>\n",
              "      <td>NaN</td>\n",
              "      <td>1 Jan 2019</td>\n",
              "      <td>2019 Census [205]</td>\n",
              "      <td>NaN</td>\n",
              "    </tr>\n",
              "    <tr>\n",
              "      <th>238</th>\n",
              "      <td>–</td>\n",
              "      <td>Niue</td>\n",
              "      <td>1549</td>\n",
              "      <td>NaN</td>\n",
              "      <td>1 Jul 2021</td>\n",
              "      <td>National annual projection[94]</td>\n",
              "      <td>NaN</td>\n",
              "    </tr>\n",
              "    <tr>\n",
              "      <th>239</th>\n",
              "      <td>195</td>\n",
              "      <td>Vatican City</td>\n",
              "      <td>825</td>\n",
              "      <td>NaN</td>\n",
              "      <td>1 Feb 2019</td>\n",
              "      <td>Monthly national estimate[206]</td>\n",
              "      <td>[ag]</td>\n",
              "    </tr>\n",
              "    <tr>\n",
              "      <th>240</th>\n",
              "      <td>–</td>\n",
              "      <td>Cocos (Keeling) Islands (Australia)</td>\n",
              "      <td>593</td>\n",
              "      <td>NaN</td>\n",
              "      <td>30 Jun 2020</td>\n",
              "      <td>2021 Census[207]</td>\n",
              "      <td>NaN</td>\n",
              "    </tr>\n",
              "    <tr>\n",
              "      <th>241</th>\n",
              "      <td>–</td>\n",
              "      <td>Pitcairn Islands (United Kingdom)</td>\n",
              "      <td>47</td>\n",
              "      <td>NaN</td>\n",
              "      <td>1 Jul 2021</td>\n",
              "      <td>Official estimate[208]</td>\n",
              "      <td>NaN</td>\n",
              "    </tr>\n",
              "  </tbody>\n",
              "</table>\n",
              "<p>242 rows × 7 columns</p>\n",
              "</div>\n",
              "      <button class=\"colab-df-convert\" onclick=\"convertToInteractive('df-0b3966ce-cd13-4bd6-938a-e322f3020290')\"\n",
              "              title=\"Convert this dataframe to an interactive table.\"\n",
              "              style=\"display:none;\">\n",
              "        \n",
              "  <svg xmlns=\"http://www.w3.org/2000/svg\" height=\"24px\"viewBox=\"0 0 24 24\"\n",
              "       width=\"24px\">\n",
              "    <path d=\"M0 0h24v24H0V0z\" fill=\"none\"/>\n",
              "    <path d=\"M18.56 5.44l.94 2.06.94-2.06 2.06-.94-2.06-.94-.94-2.06-.94 2.06-2.06.94zm-11 1L8.5 8.5l.94-2.06 2.06-.94-2.06-.94L8.5 2.5l-.94 2.06-2.06.94zm10 10l.94 2.06.94-2.06 2.06-.94-2.06-.94-.94-2.06-.94 2.06-2.06.94z\"/><path d=\"M17.41 7.96l-1.37-1.37c-.4-.4-.92-.59-1.43-.59-.52 0-1.04.2-1.43.59L10.3 9.45l-7.72 7.72c-.78.78-.78 2.05 0 2.83L4 21.41c.39.39.9.59 1.41.59.51 0 1.02-.2 1.41-.59l7.78-7.78 2.81-2.81c.8-.78.8-2.07 0-2.86zM5.41 20L4 18.59l7.72-7.72 1.47 1.35L5.41 20z\"/>\n",
              "  </svg>\n",
              "      </button>\n",
              "      \n",
              "  <style>\n",
              "    .colab-df-container {\n",
              "      display:flex;\n",
              "      flex-wrap:wrap;\n",
              "      gap: 12px;\n",
              "    }\n",
              "\n",
              "    .colab-df-convert {\n",
              "      background-color: #E8F0FE;\n",
              "      border: none;\n",
              "      border-radius: 50%;\n",
              "      cursor: pointer;\n",
              "      display: none;\n",
              "      fill: #1967D2;\n",
              "      height: 32px;\n",
              "      padding: 0 0 0 0;\n",
              "      width: 32px;\n",
              "    }\n",
              "\n",
              "    .colab-df-convert:hover {\n",
              "      background-color: #E2EBFA;\n",
              "      box-shadow: 0px 1px 2px rgba(60, 64, 67, 0.3), 0px 1px 3px 1px rgba(60, 64, 67, 0.15);\n",
              "      fill: #174EA6;\n",
              "    }\n",
              "\n",
              "    [theme=dark] .colab-df-convert {\n",
              "      background-color: #3B4455;\n",
              "      fill: #D2E3FC;\n",
              "    }\n",
              "\n",
              "    [theme=dark] .colab-df-convert:hover {\n",
              "      background-color: #434B5C;\n",
              "      box-shadow: 0px 1px 3px 1px rgba(0, 0, 0, 0.15);\n",
              "      filter: drop-shadow(0px 1px 2px rgba(0, 0, 0, 0.3));\n",
              "      fill: #FFFFFF;\n",
              "    }\n",
              "  </style>\n",
              "\n",
              "      <script>\n",
              "        const buttonEl =\n",
              "          document.querySelector('#df-0b3966ce-cd13-4bd6-938a-e322f3020290 button.colab-df-convert');\n",
              "        buttonEl.style.display =\n",
              "          google.colab.kernel.accessAllowed ? 'block' : 'none';\n",
              "\n",
              "        async function convertToInteractive(key) {\n",
              "          const element = document.querySelector('#df-0b3966ce-cd13-4bd6-938a-e322f3020290');\n",
              "          const dataTable =\n",
              "            await google.colab.kernel.invokeFunction('convertToInteractive',\n",
              "                                                     [key], {});\n",
              "          if (!dataTable) return;\n",
              "\n",
              "          const docLinkHtml = 'Like what you see? Visit the ' +\n",
              "            '<a target=\"_blank\" href=https://colab.research.google.com/notebooks/data_table.ipynb>data table notebook</a>'\n",
              "            + ' to learn more about interactive tables.';\n",
              "          element.innerHTML = '';\n",
              "          dataTable['output_type'] = 'display_data';\n",
              "          await google.colab.output.renderOutput(dataTable, element);\n",
              "          const docLink = document.createElement('div');\n",
              "          docLink.innerHTML = docLinkHtml;\n",
              "          element.appendChild(docLink);\n",
              "        }\n",
              "      </script>\n",
              "    </div>\n",
              "  </div>\n",
              "  "
            ]
          },
          "metadata": {},
          "execution_count": 4
        }
      ],
      "source": [
        "df_population"
      ]
    },
    {
      "cell_type": "code",
      "execution_count": 5,
      "id": "721408f9",
      "metadata": {
        "id": "721408f9"
      },
      "outputs": [],
      "source": [
        "df_population.columns= df_population.columns.map('_'.join)"
      ]
    },
    {
      "cell_type": "code",
      "execution_count": 6,
      "id": "0872914f",
      "metadata": {
        "colab": {
          "base_uri": "https://localhost:8080/"
        },
        "id": "0872914f",
        "outputId": "b1f82bc8-1041-4e1f-d583-5c2fd7c82a6b"
      },
      "outputs": [
        {
          "output_type": "execute_result",
          "data": {
            "text/plain": [
              "Index(['Rank_Rank', 'Country / Dependency_Country / Dependency',\n",
              "       'Population_Numbers', 'Population_% of the world', 'Date_Date',\n",
              "       'Source (official or from the United Nations)_Source (official or from the United Nations)',\n",
              "       'Notes_Notes'],\n",
              "      dtype='object')"
            ]
          },
          "metadata": {},
          "execution_count": 6
        }
      ],
      "source": [
        "df_population.columns"
      ]
    },
    {
      "cell_type": "code",
      "execution_count": 7,
      "id": "1025f196",
      "metadata": {
        "id": "1025f196"
      },
      "outputs": [],
      "source": [
        "df_population=df_population[['Country / Dependency_Country / Dependency',\n",
        "       'Population_Numbers']]"
      ]
    },
    {
      "cell_type": "code",
      "execution_count": 8,
      "id": "9ffb22cd",
      "metadata": {
        "id": "9ffb22cd"
      },
      "outputs": [],
      "source": [
        "df_population.columns=['Country','Population']"
      ]
    },
    {
      "cell_type": "code",
      "execution_count": 9,
      "id": "3a50616e",
      "metadata": {
        "colab": {
          "base_uri": "https://localhost:8080/",
          "height": 206
        },
        "id": "3a50616e",
        "outputId": "29695a56-1367-4bd1-9b58-5d424004b3ce"
      },
      "outputs": [
        {
          "output_type": "execute_result",
          "data": {
            "text/plain": [
              "         Country  Population\n",
              "0          World  8026452000\n",
              "1          China  1411750000\n",
              "2          India  1392329000\n",
              "3  United States   334635000\n",
              "4      Indonesia   275773800"
            ],
            "text/html": [
              "\n",
              "  <div id=\"df-745b60c4-2ab6-4578-a239-b3b1c02f4153\">\n",
              "    <div class=\"colab-df-container\">\n",
              "      <div>\n",
              "<style scoped>\n",
              "    .dataframe tbody tr th:only-of-type {\n",
              "        vertical-align: middle;\n",
              "    }\n",
              "\n",
              "    .dataframe tbody tr th {\n",
              "        vertical-align: top;\n",
              "    }\n",
              "\n",
              "    .dataframe thead th {\n",
              "        text-align: right;\n",
              "    }\n",
              "</style>\n",
              "<table border=\"1\" class=\"dataframe\">\n",
              "  <thead>\n",
              "    <tr style=\"text-align: right;\">\n",
              "      <th></th>\n",
              "      <th>Country</th>\n",
              "      <th>Population</th>\n",
              "    </tr>\n",
              "  </thead>\n",
              "  <tbody>\n",
              "    <tr>\n",
              "      <th>0</th>\n",
              "      <td>World</td>\n",
              "      <td>8026452000</td>\n",
              "    </tr>\n",
              "    <tr>\n",
              "      <th>1</th>\n",
              "      <td>China</td>\n",
              "      <td>1411750000</td>\n",
              "    </tr>\n",
              "    <tr>\n",
              "      <th>2</th>\n",
              "      <td>India</td>\n",
              "      <td>1392329000</td>\n",
              "    </tr>\n",
              "    <tr>\n",
              "      <th>3</th>\n",
              "      <td>United States</td>\n",
              "      <td>334635000</td>\n",
              "    </tr>\n",
              "    <tr>\n",
              "      <th>4</th>\n",
              "      <td>Indonesia</td>\n",
              "      <td>275773800</td>\n",
              "    </tr>\n",
              "  </tbody>\n",
              "</table>\n",
              "</div>\n",
              "      <button class=\"colab-df-convert\" onclick=\"convertToInteractive('df-745b60c4-2ab6-4578-a239-b3b1c02f4153')\"\n",
              "              title=\"Convert this dataframe to an interactive table.\"\n",
              "              style=\"display:none;\">\n",
              "        \n",
              "  <svg xmlns=\"http://www.w3.org/2000/svg\" height=\"24px\"viewBox=\"0 0 24 24\"\n",
              "       width=\"24px\">\n",
              "    <path d=\"M0 0h24v24H0V0z\" fill=\"none\"/>\n",
              "    <path d=\"M18.56 5.44l.94 2.06.94-2.06 2.06-.94-2.06-.94-.94-2.06-.94 2.06-2.06.94zm-11 1L8.5 8.5l.94-2.06 2.06-.94-2.06-.94L8.5 2.5l-.94 2.06-2.06.94zm10 10l.94 2.06.94-2.06 2.06-.94-2.06-.94-.94-2.06-.94 2.06-2.06.94z\"/><path d=\"M17.41 7.96l-1.37-1.37c-.4-.4-.92-.59-1.43-.59-.52 0-1.04.2-1.43.59L10.3 9.45l-7.72 7.72c-.78.78-.78 2.05 0 2.83L4 21.41c.39.39.9.59 1.41.59.51 0 1.02-.2 1.41-.59l7.78-7.78 2.81-2.81c.8-.78.8-2.07 0-2.86zM5.41 20L4 18.59l7.72-7.72 1.47 1.35L5.41 20z\"/>\n",
              "  </svg>\n",
              "      </button>\n",
              "      \n",
              "  <style>\n",
              "    .colab-df-container {\n",
              "      display:flex;\n",
              "      flex-wrap:wrap;\n",
              "      gap: 12px;\n",
              "    }\n",
              "\n",
              "    .colab-df-convert {\n",
              "      background-color: #E8F0FE;\n",
              "      border: none;\n",
              "      border-radius: 50%;\n",
              "      cursor: pointer;\n",
              "      display: none;\n",
              "      fill: #1967D2;\n",
              "      height: 32px;\n",
              "      padding: 0 0 0 0;\n",
              "      width: 32px;\n",
              "    }\n",
              "\n",
              "    .colab-df-convert:hover {\n",
              "      background-color: #E2EBFA;\n",
              "      box-shadow: 0px 1px 2px rgba(60, 64, 67, 0.3), 0px 1px 3px 1px rgba(60, 64, 67, 0.15);\n",
              "      fill: #174EA6;\n",
              "    }\n",
              "\n",
              "    [theme=dark] .colab-df-convert {\n",
              "      background-color: #3B4455;\n",
              "      fill: #D2E3FC;\n",
              "    }\n",
              "\n",
              "    [theme=dark] .colab-df-convert:hover {\n",
              "      background-color: #434B5C;\n",
              "      box-shadow: 0px 1px 3px 1px rgba(0, 0, 0, 0.15);\n",
              "      filter: drop-shadow(0px 1px 2px rgba(0, 0, 0, 0.3));\n",
              "      fill: #FFFFFF;\n",
              "    }\n",
              "  </style>\n",
              "\n",
              "      <script>\n",
              "        const buttonEl =\n",
              "          document.querySelector('#df-745b60c4-2ab6-4578-a239-b3b1c02f4153 button.colab-df-convert');\n",
              "        buttonEl.style.display =\n",
              "          google.colab.kernel.accessAllowed ? 'block' : 'none';\n",
              "\n",
              "        async function convertToInteractive(key) {\n",
              "          const element = document.querySelector('#df-745b60c4-2ab6-4578-a239-b3b1c02f4153');\n",
              "          const dataTable =\n",
              "            await google.colab.kernel.invokeFunction('convertToInteractive',\n",
              "                                                     [key], {});\n",
              "          if (!dataTable) return;\n",
              "\n",
              "          const docLinkHtml = 'Like what you see? Visit the ' +\n",
              "            '<a target=\"_blank\" href=https://colab.research.google.com/notebooks/data_table.ipynb>data table notebook</a>'\n",
              "            + ' to learn more about interactive tables.';\n",
              "          element.innerHTML = '';\n",
              "          dataTable['output_type'] = 'display_data';\n",
              "          await google.colab.output.renderOutput(dataTable, element);\n",
              "          const docLink = document.createElement('div');\n",
              "          docLink.innerHTML = docLinkHtml;\n",
              "          element.appendChild(docLink);\n",
              "        }\n",
              "      </script>\n",
              "    </div>\n",
              "  </div>\n",
              "  "
            ]
          },
          "metadata": {},
          "execution_count": 9
        }
      ],
      "source": [
        "df_population.head()"
      ]
    },
    {
      "cell_type": "markdown",
      "id": "5560dccf",
      "metadata": {
        "id": "5560dccf"
      },
      "source": [
        "# Unemployeement"
      ]
    },
    {
      "cell_type": "code",
      "execution_count": 10,
      "id": "d8894a45",
      "metadata": {
        "colab": {
          "base_uri": "https://localhost:8080/",
          "height": 869
        },
        "id": "d8894a45",
        "outputId": "cab68070-ddc4-4086-dec0-a9420e4dbe91"
      },
      "outputs": [
        {
          "output_type": "execute_result",
          "data": {
            "text/plain": [
              "                    Country Name Country Code  \\\n",
              "0                          Aruba          ABW   \n",
              "1    Africa Eastern and Southern          AFE   \n",
              "2                    Afghanistan          AFG   \n",
              "3     Africa Western and Central          AFW   \n",
              "4                         Angola          AGO   \n",
              "..                           ...          ...   \n",
              "261                       Kosovo          XKX   \n",
              "262                  Yemen, Rep.          YEM   \n",
              "263                 South Africa          ZAF   \n",
              "264                       Zambia          ZMB   \n",
              "265                     Zimbabwe          ZWE   \n",
              "\n",
              "                                        Indicator Name  Indicator Code  1960  \\\n",
              "0    Unemployment, total (% of total labor force) (...  SL.UEM.TOTL.ZS   NaN   \n",
              "1    Unemployment, total (% of total labor force) (...  SL.UEM.TOTL.ZS   NaN   \n",
              "2    Unemployment, total (% of total labor force) (...  SL.UEM.TOTL.ZS   NaN   \n",
              "3    Unemployment, total (% of total labor force) (...  SL.UEM.TOTL.ZS   NaN   \n",
              "4    Unemployment, total (% of total labor force) (...  SL.UEM.TOTL.ZS   NaN   \n",
              "..                                                 ...             ...   ...   \n",
              "261  Unemployment, total (% of total labor force) (...  SL.UEM.TOTL.ZS   NaN   \n",
              "262  Unemployment, total (% of total labor force) (...  SL.UEM.TOTL.ZS   NaN   \n",
              "263  Unemployment, total (% of total labor force) (...  SL.UEM.TOTL.ZS   NaN   \n",
              "264  Unemployment, total (% of total labor force) (...  SL.UEM.TOTL.ZS   NaN   \n",
              "265  Unemployment, total (% of total labor force) (...  SL.UEM.TOTL.ZS   NaN   \n",
              "\n",
              "     1961  1962  1963  1964  1965  ...       2013       2014       2015  \\\n",
              "0     NaN   NaN   NaN   NaN   NaN  ...        NaN        NaN        NaN   \n",
              "1     NaN   NaN   NaN   NaN   NaN  ...   6.512784   6.555645   6.707142   \n",
              "2     NaN   NaN   NaN   NaN   NaN  ...   7.949000   7.910000   8.989000   \n",
              "3     NaN   NaN   NaN   NaN   NaN  ...   3.804448   3.985878   4.241136   \n",
              "4     NaN   NaN   NaN   NaN   NaN  ...   8.834000   9.580000   9.584000   \n",
              "..    ...   ...   ...   ...   ...  ...        ...        ...        ...   \n",
              "261   NaN   NaN   NaN   NaN   NaN  ...        NaN        NaN        NaN   \n",
              "262   NaN   NaN   NaN   NaN   NaN  ...  13.264000  13.470000  13.783000   \n",
              "263   NaN   NaN   NaN   NaN   NaN  ...  22.040001  22.610001  22.870001   \n",
              "264   NaN   NaN   NaN   NaN   NaN  ...   8.005000   8.133000   8.280000   \n",
              "265   NaN   NaN   NaN   NaN   NaN  ...   4.994000   4.770000   5.282000   \n",
              "\n",
              "          2016       2017       2018       2019       2020       2021  \\\n",
              "0          NaN        NaN        NaN        NaN        NaN        NaN   \n",
              "1     6.855589   6.940365   6.913046   7.121664   7.631303   7.920219   \n",
              "2    10.086000  11.180000  11.110000  11.085000  11.710000        NaN   \n",
              "3     4.112958   4.140484   4.201599   4.261414   4.914143   4.873635   \n",
              "4     9.586000   9.535000   9.522000   9.481000  10.350000  10.384000   \n",
              "..         ...        ...        ...        ...        ...        ...   \n",
              "261        NaN        NaN        NaN        NaN        NaN        NaN   \n",
              "262  13.407000  13.250000  13.076000  12.978000  13.575000  13.887000   \n",
              "263  24.020000  23.990000  24.219999  25.540001  24.340000  28.770000   \n",
              "264   8.393000   8.520000   5.030000   5.540000   6.030000   6.220000   \n",
              "265   5.796000   6.279000   6.784000   7.370000   7.898000   8.067000   \n",
              "\n",
              "     Unnamed: 66  \n",
              "0            NaN  \n",
              "1            NaN  \n",
              "2            NaN  \n",
              "3            NaN  \n",
              "4            NaN  \n",
              "..           ...  \n",
              "261          NaN  \n",
              "262          NaN  \n",
              "263          NaN  \n",
              "264          NaN  \n",
              "265          NaN  \n",
              "\n",
              "[266 rows x 67 columns]"
            ],
            "text/html": [
              "\n",
              "  <div id=\"df-0a50e5a5-7b0a-43d6-9adf-b6d6f230f777\">\n",
              "    <div class=\"colab-df-container\">\n",
              "      <div>\n",
              "<style scoped>\n",
              "    .dataframe tbody tr th:only-of-type {\n",
              "        vertical-align: middle;\n",
              "    }\n",
              "\n",
              "    .dataframe tbody tr th {\n",
              "        vertical-align: top;\n",
              "    }\n",
              "\n",
              "    .dataframe thead th {\n",
              "        text-align: right;\n",
              "    }\n",
              "</style>\n",
              "<table border=\"1\" class=\"dataframe\">\n",
              "  <thead>\n",
              "    <tr style=\"text-align: right;\">\n",
              "      <th></th>\n",
              "      <th>Country Name</th>\n",
              "      <th>Country Code</th>\n",
              "      <th>Indicator Name</th>\n",
              "      <th>Indicator Code</th>\n",
              "      <th>1960</th>\n",
              "      <th>1961</th>\n",
              "      <th>1962</th>\n",
              "      <th>1963</th>\n",
              "      <th>1964</th>\n",
              "      <th>1965</th>\n",
              "      <th>...</th>\n",
              "      <th>2013</th>\n",
              "      <th>2014</th>\n",
              "      <th>2015</th>\n",
              "      <th>2016</th>\n",
              "      <th>2017</th>\n",
              "      <th>2018</th>\n",
              "      <th>2019</th>\n",
              "      <th>2020</th>\n",
              "      <th>2021</th>\n",
              "      <th>Unnamed: 66</th>\n",
              "    </tr>\n",
              "  </thead>\n",
              "  <tbody>\n",
              "    <tr>\n",
              "      <th>0</th>\n",
              "      <td>Aruba</td>\n",
              "      <td>ABW</td>\n",
              "      <td>Unemployment, total (% of total labor force) (...</td>\n",
              "      <td>SL.UEM.TOTL.ZS</td>\n",
              "      <td>NaN</td>\n",
              "      <td>NaN</td>\n",
              "      <td>NaN</td>\n",
              "      <td>NaN</td>\n",
              "      <td>NaN</td>\n",
              "      <td>NaN</td>\n",
              "      <td>...</td>\n",
              "      <td>NaN</td>\n",
              "      <td>NaN</td>\n",
              "      <td>NaN</td>\n",
              "      <td>NaN</td>\n",
              "      <td>NaN</td>\n",
              "      <td>NaN</td>\n",
              "      <td>NaN</td>\n",
              "      <td>NaN</td>\n",
              "      <td>NaN</td>\n",
              "      <td>NaN</td>\n",
              "    </tr>\n",
              "    <tr>\n",
              "      <th>1</th>\n",
              "      <td>Africa Eastern and Southern</td>\n",
              "      <td>AFE</td>\n",
              "      <td>Unemployment, total (% of total labor force) (...</td>\n",
              "      <td>SL.UEM.TOTL.ZS</td>\n",
              "      <td>NaN</td>\n",
              "      <td>NaN</td>\n",
              "      <td>NaN</td>\n",
              "      <td>NaN</td>\n",
              "      <td>NaN</td>\n",
              "      <td>NaN</td>\n",
              "      <td>...</td>\n",
              "      <td>6.512784</td>\n",
              "      <td>6.555645</td>\n",
              "      <td>6.707142</td>\n",
              "      <td>6.855589</td>\n",
              "      <td>6.940365</td>\n",
              "      <td>6.913046</td>\n",
              "      <td>7.121664</td>\n",
              "      <td>7.631303</td>\n",
              "      <td>7.920219</td>\n",
              "      <td>NaN</td>\n",
              "    </tr>\n",
              "    <tr>\n",
              "      <th>2</th>\n",
              "      <td>Afghanistan</td>\n",
              "      <td>AFG</td>\n",
              "      <td>Unemployment, total (% of total labor force) (...</td>\n",
              "      <td>SL.UEM.TOTL.ZS</td>\n",
              "      <td>NaN</td>\n",
              "      <td>NaN</td>\n",
              "      <td>NaN</td>\n",
              "      <td>NaN</td>\n",
              "      <td>NaN</td>\n",
              "      <td>NaN</td>\n",
              "      <td>...</td>\n",
              "      <td>7.949000</td>\n",
              "      <td>7.910000</td>\n",
              "      <td>8.989000</td>\n",
              "      <td>10.086000</td>\n",
              "      <td>11.180000</td>\n",
              "      <td>11.110000</td>\n",
              "      <td>11.085000</td>\n",
              "      <td>11.710000</td>\n",
              "      <td>NaN</td>\n",
              "      <td>NaN</td>\n",
              "    </tr>\n",
              "    <tr>\n",
              "      <th>3</th>\n",
              "      <td>Africa Western and Central</td>\n",
              "      <td>AFW</td>\n",
              "      <td>Unemployment, total (% of total labor force) (...</td>\n",
              "      <td>SL.UEM.TOTL.ZS</td>\n",
              "      <td>NaN</td>\n",
              "      <td>NaN</td>\n",
              "      <td>NaN</td>\n",
              "      <td>NaN</td>\n",
              "      <td>NaN</td>\n",
              "      <td>NaN</td>\n",
              "      <td>...</td>\n",
              "      <td>3.804448</td>\n",
              "      <td>3.985878</td>\n",
              "      <td>4.241136</td>\n",
              "      <td>4.112958</td>\n",
              "      <td>4.140484</td>\n",
              "      <td>4.201599</td>\n",
              "      <td>4.261414</td>\n",
              "      <td>4.914143</td>\n",
              "      <td>4.873635</td>\n",
              "      <td>NaN</td>\n",
              "    </tr>\n",
              "    <tr>\n",
              "      <th>4</th>\n",
              "      <td>Angola</td>\n",
              "      <td>AGO</td>\n",
              "      <td>Unemployment, total (% of total labor force) (...</td>\n",
              "      <td>SL.UEM.TOTL.ZS</td>\n",
              "      <td>NaN</td>\n",
              "      <td>NaN</td>\n",
              "      <td>NaN</td>\n",
              "      <td>NaN</td>\n",
              "      <td>NaN</td>\n",
              "      <td>NaN</td>\n",
              "      <td>...</td>\n",
              "      <td>8.834000</td>\n",
              "      <td>9.580000</td>\n",
              "      <td>9.584000</td>\n",
              "      <td>9.586000</td>\n",
              "      <td>9.535000</td>\n",
              "      <td>9.522000</td>\n",
              "      <td>9.481000</td>\n",
              "      <td>10.350000</td>\n",
              "      <td>10.384000</td>\n",
              "      <td>NaN</td>\n",
              "    </tr>\n",
              "    <tr>\n",
              "      <th>...</th>\n",
              "      <td>...</td>\n",
              "      <td>...</td>\n",
              "      <td>...</td>\n",
              "      <td>...</td>\n",
              "      <td>...</td>\n",
              "      <td>...</td>\n",
              "      <td>...</td>\n",
              "      <td>...</td>\n",
              "      <td>...</td>\n",
              "      <td>...</td>\n",
              "      <td>...</td>\n",
              "      <td>...</td>\n",
              "      <td>...</td>\n",
              "      <td>...</td>\n",
              "      <td>...</td>\n",
              "      <td>...</td>\n",
              "      <td>...</td>\n",
              "      <td>...</td>\n",
              "      <td>...</td>\n",
              "      <td>...</td>\n",
              "      <td>...</td>\n",
              "    </tr>\n",
              "    <tr>\n",
              "      <th>261</th>\n",
              "      <td>Kosovo</td>\n",
              "      <td>XKX</td>\n",
              "      <td>Unemployment, total (% of total labor force) (...</td>\n",
              "      <td>SL.UEM.TOTL.ZS</td>\n",
              "      <td>NaN</td>\n",
              "      <td>NaN</td>\n",
              "      <td>NaN</td>\n",
              "      <td>NaN</td>\n",
              "      <td>NaN</td>\n",
              "      <td>NaN</td>\n",
              "      <td>...</td>\n",
              "      <td>NaN</td>\n",
              "      <td>NaN</td>\n",
              "      <td>NaN</td>\n",
              "      <td>NaN</td>\n",
              "      <td>NaN</td>\n",
              "      <td>NaN</td>\n",
              "      <td>NaN</td>\n",
              "      <td>NaN</td>\n",
              "      <td>NaN</td>\n",
              "      <td>NaN</td>\n",
              "    </tr>\n",
              "    <tr>\n",
              "      <th>262</th>\n",
              "      <td>Yemen, Rep.</td>\n",
              "      <td>YEM</td>\n",
              "      <td>Unemployment, total (% of total labor force) (...</td>\n",
              "      <td>SL.UEM.TOTL.ZS</td>\n",
              "      <td>NaN</td>\n",
              "      <td>NaN</td>\n",
              "      <td>NaN</td>\n",
              "      <td>NaN</td>\n",
              "      <td>NaN</td>\n",
              "      <td>NaN</td>\n",
              "      <td>...</td>\n",
              "      <td>13.264000</td>\n",
              "      <td>13.470000</td>\n",
              "      <td>13.783000</td>\n",
              "      <td>13.407000</td>\n",
              "      <td>13.250000</td>\n",
              "      <td>13.076000</td>\n",
              "      <td>12.978000</td>\n",
              "      <td>13.575000</td>\n",
              "      <td>13.887000</td>\n",
              "      <td>NaN</td>\n",
              "    </tr>\n",
              "    <tr>\n",
              "      <th>263</th>\n",
              "      <td>South Africa</td>\n",
              "      <td>ZAF</td>\n",
              "      <td>Unemployment, total (% of total labor force) (...</td>\n",
              "      <td>SL.UEM.TOTL.ZS</td>\n",
              "      <td>NaN</td>\n",
              "      <td>NaN</td>\n",
              "      <td>NaN</td>\n",
              "      <td>NaN</td>\n",
              "      <td>NaN</td>\n",
              "      <td>NaN</td>\n",
              "      <td>...</td>\n",
              "      <td>22.040001</td>\n",
              "      <td>22.610001</td>\n",
              "      <td>22.870001</td>\n",
              "      <td>24.020000</td>\n",
              "      <td>23.990000</td>\n",
              "      <td>24.219999</td>\n",
              "      <td>25.540001</td>\n",
              "      <td>24.340000</td>\n",
              "      <td>28.770000</td>\n",
              "      <td>NaN</td>\n",
              "    </tr>\n",
              "    <tr>\n",
              "      <th>264</th>\n",
              "      <td>Zambia</td>\n",
              "      <td>ZMB</td>\n",
              "      <td>Unemployment, total (% of total labor force) (...</td>\n",
              "      <td>SL.UEM.TOTL.ZS</td>\n",
              "      <td>NaN</td>\n",
              "      <td>NaN</td>\n",
              "      <td>NaN</td>\n",
              "      <td>NaN</td>\n",
              "      <td>NaN</td>\n",
              "      <td>NaN</td>\n",
              "      <td>...</td>\n",
              "      <td>8.005000</td>\n",
              "      <td>8.133000</td>\n",
              "      <td>8.280000</td>\n",
              "      <td>8.393000</td>\n",
              "      <td>8.520000</td>\n",
              "      <td>5.030000</td>\n",
              "      <td>5.540000</td>\n",
              "      <td>6.030000</td>\n",
              "      <td>6.220000</td>\n",
              "      <td>NaN</td>\n",
              "    </tr>\n",
              "    <tr>\n",
              "      <th>265</th>\n",
              "      <td>Zimbabwe</td>\n",
              "      <td>ZWE</td>\n",
              "      <td>Unemployment, total (% of total labor force) (...</td>\n",
              "      <td>SL.UEM.TOTL.ZS</td>\n",
              "      <td>NaN</td>\n",
              "      <td>NaN</td>\n",
              "      <td>NaN</td>\n",
              "      <td>NaN</td>\n",
              "      <td>NaN</td>\n",
              "      <td>NaN</td>\n",
              "      <td>...</td>\n",
              "      <td>4.994000</td>\n",
              "      <td>4.770000</td>\n",
              "      <td>5.282000</td>\n",
              "      <td>5.796000</td>\n",
              "      <td>6.279000</td>\n",
              "      <td>6.784000</td>\n",
              "      <td>7.370000</td>\n",
              "      <td>7.898000</td>\n",
              "      <td>8.067000</td>\n",
              "      <td>NaN</td>\n",
              "    </tr>\n",
              "  </tbody>\n",
              "</table>\n",
              "<p>266 rows × 67 columns</p>\n",
              "</div>\n",
              "      <button class=\"colab-df-convert\" onclick=\"convertToInteractive('df-0a50e5a5-7b0a-43d6-9adf-b6d6f230f777')\"\n",
              "              title=\"Convert this dataframe to an interactive table.\"\n",
              "              style=\"display:none;\">\n",
              "        \n",
              "  <svg xmlns=\"http://www.w3.org/2000/svg\" height=\"24px\"viewBox=\"0 0 24 24\"\n",
              "       width=\"24px\">\n",
              "    <path d=\"M0 0h24v24H0V0z\" fill=\"none\"/>\n",
              "    <path d=\"M18.56 5.44l.94 2.06.94-2.06 2.06-.94-2.06-.94-.94-2.06-.94 2.06-2.06.94zm-11 1L8.5 8.5l.94-2.06 2.06-.94-2.06-.94L8.5 2.5l-.94 2.06-2.06.94zm10 10l.94 2.06.94-2.06 2.06-.94-2.06-.94-.94-2.06-.94 2.06-2.06.94z\"/><path d=\"M17.41 7.96l-1.37-1.37c-.4-.4-.92-.59-1.43-.59-.52 0-1.04.2-1.43.59L10.3 9.45l-7.72 7.72c-.78.78-.78 2.05 0 2.83L4 21.41c.39.39.9.59 1.41.59.51 0 1.02-.2 1.41-.59l7.78-7.78 2.81-2.81c.8-.78.8-2.07 0-2.86zM5.41 20L4 18.59l7.72-7.72 1.47 1.35L5.41 20z\"/>\n",
              "  </svg>\n",
              "      </button>\n",
              "      \n",
              "  <style>\n",
              "    .colab-df-container {\n",
              "      display:flex;\n",
              "      flex-wrap:wrap;\n",
              "      gap: 12px;\n",
              "    }\n",
              "\n",
              "    .colab-df-convert {\n",
              "      background-color: #E8F0FE;\n",
              "      border: none;\n",
              "      border-radius: 50%;\n",
              "      cursor: pointer;\n",
              "      display: none;\n",
              "      fill: #1967D2;\n",
              "      height: 32px;\n",
              "      padding: 0 0 0 0;\n",
              "      width: 32px;\n",
              "    }\n",
              "\n",
              "    .colab-df-convert:hover {\n",
              "      background-color: #E2EBFA;\n",
              "      box-shadow: 0px 1px 2px rgba(60, 64, 67, 0.3), 0px 1px 3px 1px rgba(60, 64, 67, 0.15);\n",
              "      fill: #174EA6;\n",
              "    }\n",
              "\n",
              "    [theme=dark] .colab-df-convert {\n",
              "      background-color: #3B4455;\n",
              "      fill: #D2E3FC;\n",
              "    }\n",
              "\n",
              "    [theme=dark] .colab-df-convert:hover {\n",
              "      background-color: #434B5C;\n",
              "      box-shadow: 0px 1px 3px 1px rgba(0, 0, 0, 0.15);\n",
              "      filter: drop-shadow(0px 1px 2px rgba(0, 0, 0, 0.3));\n",
              "      fill: #FFFFFF;\n",
              "    }\n",
              "  </style>\n",
              "\n",
              "      <script>\n",
              "        const buttonEl =\n",
              "          document.querySelector('#df-0a50e5a5-7b0a-43d6-9adf-b6d6f230f777 button.colab-df-convert');\n",
              "        buttonEl.style.display =\n",
              "          google.colab.kernel.accessAllowed ? 'block' : 'none';\n",
              "\n",
              "        async function convertToInteractive(key) {\n",
              "          const element = document.querySelector('#df-0a50e5a5-7b0a-43d6-9adf-b6d6f230f777');\n",
              "          const dataTable =\n",
              "            await google.colab.kernel.invokeFunction('convertToInteractive',\n",
              "                                                     [key], {});\n",
              "          if (!dataTable) return;\n",
              "\n",
              "          const docLinkHtml = 'Like what you see? Visit the ' +\n",
              "            '<a target=\"_blank\" href=https://colab.research.google.com/notebooks/data_table.ipynb>data table notebook</a>'\n",
              "            + ' to learn more about interactive tables.';\n",
              "          element.innerHTML = '';\n",
              "          dataTable['output_type'] = 'display_data';\n",
              "          await google.colab.output.renderOutput(dataTable, element);\n",
              "          const docLink = document.createElement('div');\n",
              "          docLink.innerHTML = docLinkHtml;\n",
              "          element.appendChild(docLink);\n",
              "        }\n",
              "      </script>\n",
              "    </div>\n",
              "  </div>\n",
              "  "
            ]
          },
          "metadata": {},
          "execution_count": 10
        }
      ],
      "source": [
        "df_unemployeement=pd.read_csv('UnemployeementRate.csv')\n",
        "df_unemployeement"
      ]
    },
    {
      "cell_type": "code",
      "execution_count": 11,
      "id": "42bb6d59",
      "metadata": {
        "id": "42bb6d59"
      },
      "outputs": [],
      "source": [
        "df_unemployeement=df_unemployeement[['Country Name','2021']]"
      ]
    },
    {
      "cell_type": "code",
      "execution_count": 12,
      "id": "eaddf95a",
      "metadata": {
        "id": "eaddf95a"
      },
      "outputs": [],
      "source": [
        "df_final=pd.merge(df_unemployeement, df_population, left_on='Country Name', right_on='Country', how='inner')"
      ]
    },
    {
      "cell_type": "code",
      "execution_count": 13,
      "id": "678d3086",
      "metadata": {
        "colab": {
          "base_uri": "https://localhost:8080/",
          "height": 423
        },
        "id": "678d3086",
        "outputId": "10e3e99a-e056-44da-9d08-8c37ae8f7ae2"
      },
      "outputs": [
        {
          "output_type": "execute_result",
          "data": {
            "text/plain": [
              "             Country Name    2021               Country  Population\n",
              "0             Afghanistan     NaN           Afghanistan    32890171\n",
              "1                  Angola  10.384                Angola    33086278\n",
              "2                 Albania  12.683               Albania     2793592\n",
              "3                 Andorra     NaN               Andorra       81057\n",
              "4    United Arab Emirates   3.110  United Arab Emirates     9282410\n",
              "..                    ...     ...                   ...         ...\n",
              "164                 Samoa   9.910                 Samoa      199853\n",
              "165                Kosovo     NaN                Kosovo     1798188\n",
              "166          South Africa  28.770          South Africa    60604992\n",
              "167                Zambia   6.220                Zambia    19610769\n",
              "168              Zimbabwe   8.067              Zimbabwe    15178979\n",
              "\n",
              "[169 rows x 4 columns]"
            ],
            "text/html": [
              "\n",
              "  <div id=\"df-7e71e767-43fa-4a2a-a3bf-18247b4739df\">\n",
              "    <div class=\"colab-df-container\">\n",
              "      <div>\n",
              "<style scoped>\n",
              "    .dataframe tbody tr th:only-of-type {\n",
              "        vertical-align: middle;\n",
              "    }\n",
              "\n",
              "    .dataframe tbody tr th {\n",
              "        vertical-align: top;\n",
              "    }\n",
              "\n",
              "    .dataframe thead th {\n",
              "        text-align: right;\n",
              "    }\n",
              "</style>\n",
              "<table border=\"1\" class=\"dataframe\">\n",
              "  <thead>\n",
              "    <tr style=\"text-align: right;\">\n",
              "      <th></th>\n",
              "      <th>Country Name</th>\n",
              "      <th>2021</th>\n",
              "      <th>Country</th>\n",
              "      <th>Population</th>\n",
              "    </tr>\n",
              "  </thead>\n",
              "  <tbody>\n",
              "    <tr>\n",
              "      <th>0</th>\n",
              "      <td>Afghanistan</td>\n",
              "      <td>NaN</td>\n",
              "      <td>Afghanistan</td>\n",
              "      <td>32890171</td>\n",
              "    </tr>\n",
              "    <tr>\n",
              "      <th>1</th>\n",
              "      <td>Angola</td>\n",
              "      <td>10.384</td>\n",
              "      <td>Angola</td>\n",
              "      <td>33086278</td>\n",
              "    </tr>\n",
              "    <tr>\n",
              "      <th>2</th>\n",
              "      <td>Albania</td>\n",
              "      <td>12.683</td>\n",
              "      <td>Albania</td>\n",
              "      <td>2793592</td>\n",
              "    </tr>\n",
              "    <tr>\n",
              "      <th>3</th>\n",
              "      <td>Andorra</td>\n",
              "      <td>NaN</td>\n",
              "      <td>Andorra</td>\n",
              "      <td>81057</td>\n",
              "    </tr>\n",
              "    <tr>\n",
              "      <th>4</th>\n",
              "      <td>United Arab Emirates</td>\n",
              "      <td>3.110</td>\n",
              "      <td>United Arab Emirates</td>\n",
              "      <td>9282410</td>\n",
              "    </tr>\n",
              "    <tr>\n",
              "      <th>...</th>\n",
              "      <td>...</td>\n",
              "      <td>...</td>\n",
              "      <td>...</td>\n",
              "      <td>...</td>\n",
              "    </tr>\n",
              "    <tr>\n",
              "      <th>164</th>\n",
              "      <td>Samoa</td>\n",
              "      <td>9.910</td>\n",
              "      <td>Samoa</td>\n",
              "      <td>199853</td>\n",
              "    </tr>\n",
              "    <tr>\n",
              "      <th>165</th>\n",
              "      <td>Kosovo</td>\n",
              "      <td>NaN</td>\n",
              "      <td>Kosovo</td>\n",
              "      <td>1798188</td>\n",
              "    </tr>\n",
              "    <tr>\n",
              "      <th>166</th>\n",
              "      <td>South Africa</td>\n",
              "      <td>28.770</td>\n",
              "      <td>South Africa</td>\n",
              "      <td>60604992</td>\n",
              "    </tr>\n",
              "    <tr>\n",
              "      <th>167</th>\n",
              "      <td>Zambia</td>\n",
              "      <td>6.220</td>\n",
              "      <td>Zambia</td>\n",
              "      <td>19610769</td>\n",
              "    </tr>\n",
              "    <tr>\n",
              "      <th>168</th>\n",
              "      <td>Zimbabwe</td>\n",
              "      <td>8.067</td>\n",
              "      <td>Zimbabwe</td>\n",
              "      <td>15178979</td>\n",
              "    </tr>\n",
              "  </tbody>\n",
              "</table>\n",
              "<p>169 rows × 4 columns</p>\n",
              "</div>\n",
              "      <button class=\"colab-df-convert\" onclick=\"convertToInteractive('df-7e71e767-43fa-4a2a-a3bf-18247b4739df')\"\n",
              "              title=\"Convert this dataframe to an interactive table.\"\n",
              "              style=\"display:none;\">\n",
              "        \n",
              "  <svg xmlns=\"http://www.w3.org/2000/svg\" height=\"24px\"viewBox=\"0 0 24 24\"\n",
              "       width=\"24px\">\n",
              "    <path d=\"M0 0h24v24H0V0z\" fill=\"none\"/>\n",
              "    <path d=\"M18.56 5.44l.94 2.06.94-2.06 2.06-.94-2.06-.94-.94-2.06-.94 2.06-2.06.94zm-11 1L8.5 8.5l.94-2.06 2.06-.94-2.06-.94L8.5 2.5l-.94 2.06-2.06.94zm10 10l.94 2.06.94-2.06 2.06-.94-2.06-.94-.94-2.06-.94 2.06-2.06.94z\"/><path d=\"M17.41 7.96l-1.37-1.37c-.4-.4-.92-.59-1.43-.59-.52 0-1.04.2-1.43.59L10.3 9.45l-7.72 7.72c-.78.78-.78 2.05 0 2.83L4 21.41c.39.39.9.59 1.41.59.51 0 1.02-.2 1.41-.59l7.78-7.78 2.81-2.81c.8-.78.8-2.07 0-2.86zM5.41 20L4 18.59l7.72-7.72 1.47 1.35L5.41 20z\"/>\n",
              "  </svg>\n",
              "      </button>\n",
              "      \n",
              "  <style>\n",
              "    .colab-df-container {\n",
              "      display:flex;\n",
              "      flex-wrap:wrap;\n",
              "      gap: 12px;\n",
              "    }\n",
              "\n",
              "    .colab-df-convert {\n",
              "      background-color: #E8F0FE;\n",
              "      border: none;\n",
              "      border-radius: 50%;\n",
              "      cursor: pointer;\n",
              "      display: none;\n",
              "      fill: #1967D2;\n",
              "      height: 32px;\n",
              "      padding: 0 0 0 0;\n",
              "      width: 32px;\n",
              "    }\n",
              "\n",
              "    .colab-df-convert:hover {\n",
              "      background-color: #E2EBFA;\n",
              "      box-shadow: 0px 1px 2px rgba(60, 64, 67, 0.3), 0px 1px 3px 1px rgba(60, 64, 67, 0.15);\n",
              "      fill: #174EA6;\n",
              "    }\n",
              "\n",
              "    [theme=dark] .colab-df-convert {\n",
              "      background-color: #3B4455;\n",
              "      fill: #D2E3FC;\n",
              "    }\n",
              "\n",
              "    [theme=dark] .colab-df-convert:hover {\n",
              "      background-color: #434B5C;\n",
              "      box-shadow: 0px 1px 3px 1px rgba(0, 0, 0, 0.15);\n",
              "      filter: drop-shadow(0px 1px 2px rgba(0, 0, 0, 0.3));\n",
              "      fill: #FFFFFF;\n",
              "    }\n",
              "  </style>\n",
              "\n",
              "      <script>\n",
              "        const buttonEl =\n",
              "          document.querySelector('#df-7e71e767-43fa-4a2a-a3bf-18247b4739df button.colab-df-convert');\n",
              "        buttonEl.style.display =\n",
              "          google.colab.kernel.accessAllowed ? 'block' : 'none';\n",
              "\n",
              "        async function convertToInteractive(key) {\n",
              "          const element = document.querySelector('#df-7e71e767-43fa-4a2a-a3bf-18247b4739df');\n",
              "          const dataTable =\n",
              "            await google.colab.kernel.invokeFunction('convertToInteractive',\n",
              "                                                     [key], {});\n",
              "          if (!dataTable) return;\n",
              "\n",
              "          const docLinkHtml = 'Like what you see? Visit the ' +\n",
              "            '<a target=\"_blank\" href=https://colab.research.google.com/notebooks/data_table.ipynb>data table notebook</a>'\n",
              "            + ' to learn more about interactive tables.';\n",
              "          element.innerHTML = '';\n",
              "          dataTable['output_type'] = 'display_data';\n",
              "          await google.colab.output.renderOutput(dataTable, element);\n",
              "          const docLink = document.createElement('div');\n",
              "          docLink.innerHTML = docLinkHtml;\n",
              "          element.appendChild(docLink);\n",
              "        }\n",
              "      </script>\n",
              "    </div>\n",
              "  </div>\n",
              "  "
            ]
          },
          "metadata": {},
          "execution_count": 13
        }
      ],
      "source": [
        "df_final"
      ]
    },
    {
      "cell_type": "markdown",
      "id": "62357cf4",
      "metadata": {
        "id": "62357cf4"
      },
      "source": [
        "# Internet users"
      ]
    },
    {
      "cell_type": "code",
      "execution_count": 14,
      "id": "00037c81",
      "metadata": {
        "id": "00037c81"
      },
      "outputs": [],
      "source": [
        "# example usage: extract the second table from \"List of countries by number of Internet users\" page\n",
        "df_internetUsers = get_table(\"https://en.wikipedia.org/wiki/List_of_countries_by_number_of_Internet_users\",2)"
      ]
    },
    {
      "cell_type": "code",
      "execution_count": 15,
      "id": "dd469fa8",
      "metadata": {
        "id": "dd469fa8"
      },
      "outputs": [],
      "source": [
        "df_internetUsers=df_internetUsers[['Country or area', 'Internet users']]"
      ]
    },
    {
      "cell_type": "code",
      "execution_count": 16,
      "id": "84cacc1f",
      "metadata": {
        "colab": {
          "base_uri": "https://localhost:8080/",
          "height": 206
        },
        "id": "84cacc1f",
        "outputId": "39b5e128-2866-4c78-b69b-1e917d5b5538"
      },
      "outputs": [
        {
          "output_type": "execute_result",
          "data": {
            "text/plain": [
              "  Country or area  Internet users\n",
              "0           China      1051140000\n",
              "1           India       836860000\n",
              "2   United States       307200000\n",
              "3       Indonesia       196000000\n",
              "4          Brazil       165300000"
            ],
            "text/html": [
              "\n",
              "  <div id=\"df-c5bcb622-c5e0-4c15-9267-9f1e01c63823\">\n",
              "    <div class=\"colab-df-container\">\n",
              "      <div>\n",
              "<style scoped>\n",
              "    .dataframe tbody tr th:only-of-type {\n",
              "        vertical-align: middle;\n",
              "    }\n",
              "\n",
              "    .dataframe tbody tr th {\n",
              "        vertical-align: top;\n",
              "    }\n",
              "\n",
              "    .dataframe thead th {\n",
              "        text-align: right;\n",
              "    }\n",
              "</style>\n",
              "<table border=\"1\" class=\"dataframe\">\n",
              "  <thead>\n",
              "    <tr style=\"text-align: right;\">\n",
              "      <th></th>\n",
              "      <th>Country or area</th>\n",
              "      <th>Internet users</th>\n",
              "    </tr>\n",
              "  </thead>\n",
              "  <tbody>\n",
              "    <tr>\n",
              "      <th>0</th>\n",
              "      <td>China</td>\n",
              "      <td>1051140000</td>\n",
              "    </tr>\n",
              "    <tr>\n",
              "      <th>1</th>\n",
              "      <td>India</td>\n",
              "      <td>836860000</td>\n",
              "    </tr>\n",
              "    <tr>\n",
              "      <th>2</th>\n",
              "      <td>United States</td>\n",
              "      <td>307200000</td>\n",
              "    </tr>\n",
              "    <tr>\n",
              "      <th>3</th>\n",
              "      <td>Indonesia</td>\n",
              "      <td>196000000</td>\n",
              "    </tr>\n",
              "    <tr>\n",
              "      <th>4</th>\n",
              "      <td>Brazil</td>\n",
              "      <td>165300000</td>\n",
              "    </tr>\n",
              "  </tbody>\n",
              "</table>\n",
              "</div>\n",
              "      <button class=\"colab-df-convert\" onclick=\"convertToInteractive('df-c5bcb622-c5e0-4c15-9267-9f1e01c63823')\"\n",
              "              title=\"Convert this dataframe to an interactive table.\"\n",
              "              style=\"display:none;\">\n",
              "        \n",
              "  <svg xmlns=\"http://www.w3.org/2000/svg\" height=\"24px\"viewBox=\"0 0 24 24\"\n",
              "       width=\"24px\">\n",
              "    <path d=\"M0 0h24v24H0V0z\" fill=\"none\"/>\n",
              "    <path d=\"M18.56 5.44l.94 2.06.94-2.06 2.06-.94-2.06-.94-.94-2.06-.94 2.06-2.06.94zm-11 1L8.5 8.5l.94-2.06 2.06-.94-2.06-.94L8.5 2.5l-.94 2.06-2.06.94zm10 10l.94 2.06.94-2.06 2.06-.94-2.06-.94-.94-2.06-.94 2.06-2.06.94z\"/><path d=\"M17.41 7.96l-1.37-1.37c-.4-.4-.92-.59-1.43-.59-.52 0-1.04.2-1.43.59L10.3 9.45l-7.72 7.72c-.78.78-.78 2.05 0 2.83L4 21.41c.39.39.9.59 1.41.59.51 0 1.02-.2 1.41-.59l7.78-7.78 2.81-2.81c.8-.78.8-2.07 0-2.86zM5.41 20L4 18.59l7.72-7.72 1.47 1.35L5.41 20z\"/>\n",
              "  </svg>\n",
              "      </button>\n",
              "      \n",
              "  <style>\n",
              "    .colab-df-container {\n",
              "      display:flex;\n",
              "      flex-wrap:wrap;\n",
              "      gap: 12px;\n",
              "    }\n",
              "\n",
              "    .colab-df-convert {\n",
              "      background-color: #E8F0FE;\n",
              "      border: none;\n",
              "      border-radius: 50%;\n",
              "      cursor: pointer;\n",
              "      display: none;\n",
              "      fill: #1967D2;\n",
              "      height: 32px;\n",
              "      padding: 0 0 0 0;\n",
              "      width: 32px;\n",
              "    }\n",
              "\n",
              "    .colab-df-convert:hover {\n",
              "      background-color: #E2EBFA;\n",
              "      box-shadow: 0px 1px 2px rgba(60, 64, 67, 0.3), 0px 1px 3px 1px rgba(60, 64, 67, 0.15);\n",
              "      fill: #174EA6;\n",
              "    }\n",
              "\n",
              "    [theme=dark] .colab-df-convert {\n",
              "      background-color: #3B4455;\n",
              "      fill: #D2E3FC;\n",
              "    }\n",
              "\n",
              "    [theme=dark] .colab-df-convert:hover {\n",
              "      background-color: #434B5C;\n",
              "      box-shadow: 0px 1px 3px 1px rgba(0, 0, 0, 0.15);\n",
              "      filter: drop-shadow(0px 1px 2px rgba(0, 0, 0, 0.3));\n",
              "      fill: #FFFFFF;\n",
              "    }\n",
              "  </style>\n",
              "\n",
              "      <script>\n",
              "        const buttonEl =\n",
              "          document.querySelector('#df-c5bcb622-c5e0-4c15-9267-9f1e01c63823 button.colab-df-convert');\n",
              "        buttonEl.style.display =\n",
              "          google.colab.kernel.accessAllowed ? 'block' : 'none';\n",
              "\n",
              "        async function convertToInteractive(key) {\n",
              "          const element = document.querySelector('#df-c5bcb622-c5e0-4c15-9267-9f1e01c63823');\n",
              "          const dataTable =\n",
              "            await google.colab.kernel.invokeFunction('convertToInteractive',\n",
              "                                                     [key], {});\n",
              "          if (!dataTable) return;\n",
              "\n",
              "          const docLinkHtml = 'Like what you see? Visit the ' +\n",
              "            '<a target=\"_blank\" href=https://colab.research.google.com/notebooks/data_table.ipynb>data table notebook</a>'\n",
              "            + ' to learn more about interactive tables.';\n",
              "          element.innerHTML = '';\n",
              "          dataTable['output_type'] = 'display_data';\n",
              "          await google.colab.output.renderOutput(dataTable, element);\n",
              "          const docLink = document.createElement('div');\n",
              "          docLink.innerHTML = docLinkHtml;\n",
              "          element.appendChild(docLink);\n",
              "        }\n",
              "      </script>\n",
              "    </div>\n",
              "  </div>\n",
              "  "
            ]
          },
          "metadata": {},
          "execution_count": 16
        }
      ],
      "source": [
        "df_internetUsers.head()"
      ]
    },
    {
      "cell_type": "markdown",
      "id": "a80074ca",
      "metadata": {
        "id": "a80074ca"
      },
      "source": [
        "# internetUsers vs Unemployment"
      ]
    },
    {
      "cell_type": "code",
      "execution_count": 17,
      "id": "d1177e58",
      "metadata": {
        "id": "d1177e58"
      },
      "outputs": [],
      "source": [
        "# df_internetUsers=pd.merge(df_internetUsers, df_population, left_on='Country or area', right_on='Country', how='inner')"
      ]
    },
    {
      "cell_type": "code",
      "execution_count": 18,
      "id": "c4027912",
      "metadata": {
        "id": "c4027912"
      },
      "outputs": [],
      "source": [
        "# df_internetUsers['%of internetusers']=df_internetUsers['Internet users']/df_internetUsers['Population']"
      ]
    },
    {
      "cell_type": "code",
      "execution_count": 19,
      "id": "1fd398a2",
      "metadata": {
        "id": "1fd398a2"
      },
      "outputs": [],
      "source": [
        "df_final=pd.merge(df_internetUsers, df_final, left_on='Country or area', right_on='Country Name', how='inner')"
      ]
    },
    {
      "cell_type": "code",
      "execution_count": 20,
      "id": "1509fc6a",
      "metadata": {
        "colab": {
          "base_uri": "https://localhost:8080/",
          "height": 423
        },
        "id": "1509fc6a",
        "outputId": "b2ef3dac-ee28-4db2-f502-ba85495f0eec"
      },
      "outputs": [
        {
          "output_type": "execute_result",
          "data": {
            "text/plain": [
              "      Country or area  Internet users      Country Name    2021  \\\n",
              "0               China      1051140000             China   4.550   \n",
              "1               India       836860000             India   7.713   \n",
              "2       United States       307200000     United States   5.350   \n",
              "3           Indonesia       196000000         Indonesia   3.830   \n",
              "4              Brazil       165300000            Brazil  13.340   \n",
              "..                ...             ...               ...     ...   \n",
              "161  Marshall Islands           20560  Marshall Islands     NaN   \n",
              "162        San Marino           20100        San Marino     NaN   \n",
              "163          Kiribati           16971          Kiribati     NaN   \n",
              "164             Nauru            6475             Nauru     NaN   \n",
              "165            Tuvalu            5520            Tuvalu     NaN   \n",
              "\n",
              "              Country  Population  \n",
              "0               China  1411750000  \n",
              "1               India  1392329000  \n",
              "2       United States   334635000  \n",
              "3           Indonesia   275773800  \n",
              "4              Brazil   216028684  \n",
              "..                ...         ...  \n",
              "161  Marshall Islands       39262  \n",
              "162        San Marino       33785  \n",
              "163          Kiribati      120740  \n",
              "164             Nauru       11832  \n",
              "165            Tuvalu       10679  \n",
              "\n",
              "[166 rows x 6 columns]"
            ],
            "text/html": [
              "\n",
              "  <div id=\"df-a738e7d9-84f0-4ca6-aabc-43bd2ed6ac01\">\n",
              "    <div class=\"colab-df-container\">\n",
              "      <div>\n",
              "<style scoped>\n",
              "    .dataframe tbody tr th:only-of-type {\n",
              "        vertical-align: middle;\n",
              "    }\n",
              "\n",
              "    .dataframe tbody tr th {\n",
              "        vertical-align: top;\n",
              "    }\n",
              "\n",
              "    .dataframe thead th {\n",
              "        text-align: right;\n",
              "    }\n",
              "</style>\n",
              "<table border=\"1\" class=\"dataframe\">\n",
              "  <thead>\n",
              "    <tr style=\"text-align: right;\">\n",
              "      <th></th>\n",
              "      <th>Country or area</th>\n",
              "      <th>Internet users</th>\n",
              "      <th>Country Name</th>\n",
              "      <th>2021</th>\n",
              "      <th>Country</th>\n",
              "      <th>Population</th>\n",
              "    </tr>\n",
              "  </thead>\n",
              "  <tbody>\n",
              "    <tr>\n",
              "      <th>0</th>\n",
              "      <td>China</td>\n",
              "      <td>1051140000</td>\n",
              "      <td>China</td>\n",
              "      <td>4.550</td>\n",
              "      <td>China</td>\n",
              "      <td>1411750000</td>\n",
              "    </tr>\n",
              "    <tr>\n",
              "      <th>1</th>\n",
              "      <td>India</td>\n",
              "      <td>836860000</td>\n",
              "      <td>India</td>\n",
              "      <td>7.713</td>\n",
              "      <td>India</td>\n",
              "      <td>1392329000</td>\n",
              "    </tr>\n",
              "    <tr>\n",
              "      <th>2</th>\n",
              "      <td>United States</td>\n",
              "      <td>307200000</td>\n",
              "      <td>United States</td>\n",
              "      <td>5.350</td>\n",
              "      <td>United States</td>\n",
              "      <td>334635000</td>\n",
              "    </tr>\n",
              "    <tr>\n",
              "      <th>3</th>\n",
              "      <td>Indonesia</td>\n",
              "      <td>196000000</td>\n",
              "      <td>Indonesia</td>\n",
              "      <td>3.830</td>\n",
              "      <td>Indonesia</td>\n",
              "      <td>275773800</td>\n",
              "    </tr>\n",
              "    <tr>\n",
              "      <th>4</th>\n",
              "      <td>Brazil</td>\n",
              "      <td>165300000</td>\n",
              "      <td>Brazil</td>\n",
              "      <td>13.340</td>\n",
              "      <td>Brazil</td>\n",
              "      <td>216028684</td>\n",
              "    </tr>\n",
              "    <tr>\n",
              "      <th>...</th>\n",
              "      <td>...</td>\n",
              "      <td>...</td>\n",
              "      <td>...</td>\n",
              "      <td>...</td>\n",
              "      <td>...</td>\n",
              "      <td>...</td>\n",
              "    </tr>\n",
              "    <tr>\n",
              "      <th>161</th>\n",
              "      <td>Marshall Islands</td>\n",
              "      <td>20560</td>\n",
              "      <td>Marshall Islands</td>\n",
              "      <td>NaN</td>\n",
              "      <td>Marshall Islands</td>\n",
              "      <td>39262</td>\n",
              "    </tr>\n",
              "    <tr>\n",
              "      <th>162</th>\n",
              "      <td>San Marino</td>\n",
              "      <td>20100</td>\n",
              "      <td>San Marino</td>\n",
              "      <td>NaN</td>\n",
              "      <td>San Marino</td>\n",
              "      <td>33785</td>\n",
              "    </tr>\n",
              "    <tr>\n",
              "      <th>163</th>\n",
              "      <td>Kiribati</td>\n",
              "      <td>16971</td>\n",
              "      <td>Kiribati</td>\n",
              "      <td>NaN</td>\n",
              "      <td>Kiribati</td>\n",
              "      <td>120740</td>\n",
              "    </tr>\n",
              "    <tr>\n",
              "      <th>164</th>\n",
              "      <td>Nauru</td>\n",
              "      <td>6475</td>\n",
              "      <td>Nauru</td>\n",
              "      <td>NaN</td>\n",
              "      <td>Nauru</td>\n",
              "      <td>11832</td>\n",
              "    </tr>\n",
              "    <tr>\n",
              "      <th>165</th>\n",
              "      <td>Tuvalu</td>\n",
              "      <td>5520</td>\n",
              "      <td>Tuvalu</td>\n",
              "      <td>NaN</td>\n",
              "      <td>Tuvalu</td>\n",
              "      <td>10679</td>\n",
              "    </tr>\n",
              "  </tbody>\n",
              "</table>\n",
              "<p>166 rows × 6 columns</p>\n",
              "</div>\n",
              "      <button class=\"colab-df-convert\" onclick=\"convertToInteractive('df-a738e7d9-84f0-4ca6-aabc-43bd2ed6ac01')\"\n",
              "              title=\"Convert this dataframe to an interactive table.\"\n",
              "              style=\"display:none;\">\n",
              "        \n",
              "  <svg xmlns=\"http://www.w3.org/2000/svg\" height=\"24px\"viewBox=\"0 0 24 24\"\n",
              "       width=\"24px\">\n",
              "    <path d=\"M0 0h24v24H0V0z\" fill=\"none\"/>\n",
              "    <path d=\"M18.56 5.44l.94 2.06.94-2.06 2.06-.94-2.06-.94-.94-2.06-.94 2.06-2.06.94zm-11 1L8.5 8.5l.94-2.06 2.06-.94-2.06-.94L8.5 2.5l-.94 2.06-2.06.94zm10 10l.94 2.06.94-2.06 2.06-.94-2.06-.94-.94-2.06-.94 2.06-2.06.94z\"/><path d=\"M17.41 7.96l-1.37-1.37c-.4-.4-.92-.59-1.43-.59-.52 0-1.04.2-1.43.59L10.3 9.45l-7.72 7.72c-.78.78-.78 2.05 0 2.83L4 21.41c.39.39.9.59 1.41.59.51 0 1.02-.2 1.41-.59l7.78-7.78 2.81-2.81c.8-.78.8-2.07 0-2.86zM5.41 20L4 18.59l7.72-7.72 1.47 1.35L5.41 20z\"/>\n",
              "  </svg>\n",
              "      </button>\n",
              "      \n",
              "  <style>\n",
              "    .colab-df-container {\n",
              "      display:flex;\n",
              "      flex-wrap:wrap;\n",
              "      gap: 12px;\n",
              "    }\n",
              "\n",
              "    .colab-df-convert {\n",
              "      background-color: #E8F0FE;\n",
              "      border: none;\n",
              "      border-radius: 50%;\n",
              "      cursor: pointer;\n",
              "      display: none;\n",
              "      fill: #1967D2;\n",
              "      height: 32px;\n",
              "      padding: 0 0 0 0;\n",
              "      width: 32px;\n",
              "    }\n",
              "\n",
              "    .colab-df-convert:hover {\n",
              "      background-color: #E2EBFA;\n",
              "      box-shadow: 0px 1px 2px rgba(60, 64, 67, 0.3), 0px 1px 3px 1px rgba(60, 64, 67, 0.15);\n",
              "      fill: #174EA6;\n",
              "    }\n",
              "\n",
              "    [theme=dark] .colab-df-convert {\n",
              "      background-color: #3B4455;\n",
              "      fill: #D2E3FC;\n",
              "    }\n",
              "\n",
              "    [theme=dark] .colab-df-convert:hover {\n",
              "      background-color: #434B5C;\n",
              "      box-shadow: 0px 1px 3px 1px rgba(0, 0, 0, 0.15);\n",
              "      filter: drop-shadow(0px 1px 2px rgba(0, 0, 0, 0.3));\n",
              "      fill: #FFFFFF;\n",
              "    }\n",
              "  </style>\n",
              "\n",
              "      <script>\n",
              "        const buttonEl =\n",
              "          document.querySelector('#df-a738e7d9-84f0-4ca6-aabc-43bd2ed6ac01 button.colab-df-convert');\n",
              "        buttonEl.style.display =\n",
              "          google.colab.kernel.accessAllowed ? 'block' : 'none';\n",
              "\n",
              "        async function convertToInteractive(key) {\n",
              "          const element = document.querySelector('#df-a738e7d9-84f0-4ca6-aabc-43bd2ed6ac01');\n",
              "          const dataTable =\n",
              "            await google.colab.kernel.invokeFunction('convertToInteractive',\n",
              "                                                     [key], {});\n",
              "          if (!dataTable) return;\n",
              "\n",
              "          const docLinkHtml = 'Like what you see? Visit the ' +\n",
              "            '<a target=\"_blank\" href=https://colab.research.google.com/notebooks/data_table.ipynb>data table notebook</a>'\n",
              "            + ' to learn more about interactive tables.';\n",
              "          element.innerHTML = '';\n",
              "          dataTable['output_type'] = 'display_data';\n",
              "          await google.colab.output.renderOutput(dataTable, element);\n",
              "          const docLink = document.createElement('div');\n",
              "          docLink.innerHTML = docLinkHtml;\n",
              "          element.appendChild(docLink);\n",
              "        }\n",
              "      </script>\n",
              "    </div>\n",
              "  </div>\n",
              "  "
            ]
          },
          "metadata": {},
          "execution_count": 20
        }
      ],
      "source": [
        "df_final"
      ]
    },
    {
      "cell_type": "code",
      "execution_count": 20,
      "id": "f6b214d2",
      "metadata": {
        "id": "f6b214d2"
      },
      "outputs": [],
      "source": []
    },
    {
      "cell_type": "markdown",
      "id": "fa129d97",
      "metadata": {
        "id": "fa129d97"
      },
      "source": [
        "# Migration"
      ]
    },
    {
      "cell_type": "code",
      "execution_count": 21,
      "id": "5791cb58",
      "metadata": {
        "id": "5791cb58"
      },
      "outputs": [],
      "source": [
        "df_migration=get_table('https://en.wikipedia.org/wiki/List_of_countries_by_net_migration_rate',3)"
      ]
    },
    {
      "cell_type": "code",
      "execution_count": 22,
      "id": "f18f0e88",
      "metadata": {
        "colab": {
          "base_uri": "https://localhost:8080/",
          "height": 423
        },
        "id": "f18f0e88",
        "outputId": "9b2e7516-2a40-4469-faee-1af667e7f014"
      },
      "outputs": [
        {
          "output_type": "execute_result",
          "data": {
            "text/plain": [
              "                             Country Migrants per 1,000 population\n",
              "0                        South Sudan                          21.1\n",
              "1             British Virgin Islands                          13.6\n",
              "2                         Luxembourg                          12.0\n",
              "3                Cayman Islands (UK)                          12.6\n",
              "4                              Qatar                           2.5\n",
              "..                               ...                           ...\n",
              "215                 Puerto Rico (US)                         −11.9\n",
              "216                            Tonga                         −18.0\n",
              "217                          Lebanon                          −0.1\n",
              "218  Micronesia, Federated States of                         −20.9\n",
              "219                   American Samoa                         −29.8\n",
              "\n",
              "[220 rows x 2 columns]"
            ],
            "text/html": [
              "\n",
              "  <div id=\"df-1ee5808d-c146-4af6-a33d-63264556c529\">\n",
              "    <div class=\"colab-df-container\">\n",
              "      <div>\n",
              "<style scoped>\n",
              "    .dataframe tbody tr th:only-of-type {\n",
              "        vertical-align: middle;\n",
              "    }\n",
              "\n",
              "    .dataframe tbody tr th {\n",
              "        vertical-align: top;\n",
              "    }\n",
              "\n",
              "    .dataframe thead th {\n",
              "        text-align: right;\n",
              "    }\n",
              "</style>\n",
              "<table border=\"1\" class=\"dataframe\">\n",
              "  <thead>\n",
              "    <tr style=\"text-align: right;\">\n",
              "      <th></th>\n",
              "      <th>Country</th>\n",
              "      <th>Migrants per 1,000 population</th>\n",
              "    </tr>\n",
              "  </thead>\n",
              "  <tbody>\n",
              "    <tr>\n",
              "      <th>0</th>\n",
              "      <td>South Sudan</td>\n",
              "      <td>21.1</td>\n",
              "    </tr>\n",
              "    <tr>\n",
              "      <th>1</th>\n",
              "      <td>British Virgin Islands</td>\n",
              "      <td>13.6</td>\n",
              "    </tr>\n",
              "    <tr>\n",
              "      <th>2</th>\n",
              "      <td>Luxembourg</td>\n",
              "      <td>12.0</td>\n",
              "    </tr>\n",
              "    <tr>\n",
              "      <th>3</th>\n",
              "      <td>Cayman Islands (UK)</td>\n",
              "      <td>12.6</td>\n",
              "    </tr>\n",
              "    <tr>\n",
              "      <th>4</th>\n",
              "      <td>Qatar</td>\n",
              "      <td>2.5</td>\n",
              "    </tr>\n",
              "    <tr>\n",
              "      <th>...</th>\n",
              "      <td>...</td>\n",
              "      <td>...</td>\n",
              "    </tr>\n",
              "    <tr>\n",
              "      <th>215</th>\n",
              "      <td>Puerto Rico (US)</td>\n",
              "      <td>−11.9</td>\n",
              "    </tr>\n",
              "    <tr>\n",
              "      <th>216</th>\n",
              "      <td>Tonga</td>\n",
              "      <td>−18.0</td>\n",
              "    </tr>\n",
              "    <tr>\n",
              "      <th>217</th>\n",
              "      <td>Lebanon</td>\n",
              "      <td>−0.1</td>\n",
              "    </tr>\n",
              "    <tr>\n",
              "      <th>218</th>\n",
              "      <td>Micronesia, Federated States of</td>\n",
              "      <td>−20.9</td>\n",
              "    </tr>\n",
              "    <tr>\n",
              "      <th>219</th>\n",
              "      <td>American Samoa</td>\n",
              "      <td>−29.8</td>\n",
              "    </tr>\n",
              "  </tbody>\n",
              "</table>\n",
              "<p>220 rows × 2 columns</p>\n",
              "</div>\n",
              "      <button class=\"colab-df-convert\" onclick=\"convertToInteractive('df-1ee5808d-c146-4af6-a33d-63264556c529')\"\n",
              "              title=\"Convert this dataframe to an interactive table.\"\n",
              "              style=\"display:none;\">\n",
              "        \n",
              "  <svg xmlns=\"http://www.w3.org/2000/svg\" height=\"24px\"viewBox=\"0 0 24 24\"\n",
              "       width=\"24px\">\n",
              "    <path d=\"M0 0h24v24H0V0z\" fill=\"none\"/>\n",
              "    <path d=\"M18.56 5.44l.94 2.06.94-2.06 2.06-.94-2.06-.94-.94-2.06-.94 2.06-2.06.94zm-11 1L8.5 8.5l.94-2.06 2.06-.94-2.06-.94L8.5 2.5l-.94 2.06-2.06.94zm10 10l.94 2.06.94-2.06 2.06-.94-2.06-.94-.94-2.06-.94 2.06-2.06.94z\"/><path d=\"M17.41 7.96l-1.37-1.37c-.4-.4-.92-.59-1.43-.59-.52 0-1.04.2-1.43.59L10.3 9.45l-7.72 7.72c-.78.78-.78 2.05 0 2.83L4 21.41c.39.39.9.59 1.41.59.51 0 1.02-.2 1.41-.59l7.78-7.78 2.81-2.81c.8-.78.8-2.07 0-2.86zM5.41 20L4 18.59l7.72-7.72 1.47 1.35L5.41 20z\"/>\n",
              "  </svg>\n",
              "      </button>\n",
              "      \n",
              "  <style>\n",
              "    .colab-df-container {\n",
              "      display:flex;\n",
              "      flex-wrap:wrap;\n",
              "      gap: 12px;\n",
              "    }\n",
              "\n",
              "    .colab-df-convert {\n",
              "      background-color: #E8F0FE;\n",
              "      border: none;\n",
              "      border-radius: 50%;\n",
              "      cursor: pointer;\n",
              "      display: none;\n",
              "      fill: #1967D2;\n",
              "      height: 32px;\n",
              "      padding: 0 0 0 0;\n",
              "      width: 32px;\n",
              "    }\n",
              "\n",
              "    .colab-df-convert:hover {\n",
              "      background-color: #E2EBFA;\n",
              "      box-shadow: 0px 1px 2px rgba(60, 64, 67, 0.3), 0px 1px 3px 1px rgba(60, 64, 67, 0.15);\n",
              "      fill: #174EA6;\n",
              "    }\n",
              "\n",
              "    [theme=dark] .colab-df-convert {\n",
              "      background-color: #3B4455;\n",
              "      fill: #D2E3FC;\n",
              "    }\n",
              "\n",
              "    [theme=dark] .colab-df-convert:hover {\n",
              "      background-color: #434B5C;\n",
              "      box-shadow: 0px 1px 3px 1px rgba(0, 0, 0, 0.15);\n",
              "      filter: drop-shadow(0px 1px 2px rgba(0, 0, 0, 0.3));\n",
              "      fill: #FFFFFF;\n",
              "    }\n",
              "  </style>\n",
              "\n",
              "      <script>\n",
              "        const buttonEl =\n",
              "          document.querySelector('#df-1ee5808d-c146-4af6-a33d-63264556c529 button.colab-df-convert');\n",
              "        buttonEl.style.display =\n",
              "          google.colab.kernel.accessAllowed ? 'block' : 'none';\n",
              "\n",
              "        async function convertToInteractive(key) {\n",
              "          const element = document.querySelector('#df-1ee5808d-c146-4af6-a33d-63264556c529');\n",
              "          const dataTable =\n",
              "            await google.colab.kernel.invokeFunction('convertToInteractive',\n",
              "                                                     [key], {});\n",
              "          if (!dataTable) return;\n",
              "\n",
              "          const docLinkHtml = 'Like what you see? Visit the ' +\n",
              "            '<a target=\"_blank\" href=https://colab.research.google.com/notebooks/data_table.ipynb>data table notebook</a>'\n",
              "            + ' to learn more about interactive tables.';\n",
              "          element.innerHTML = '';\n",
              "          dataTable['output_type'] = 'display_data';\n",
              "          await google.colab.output.renderOutput(dataTable, element);\n",
              "          const docLink = document.createElement('div');\n",
              "          docLink.innerHTML = docLinkHtml;\n",
              "          element.appendChild(docLink);\n",
              "        }\n",
              "      </script>\n",
              "    </div>\n",
              "  </div>\n",
              "  "
            ]
          },
          "metadata": {},
          "execution_count": 22
        }
      ],
      "source": [
        "df_migration"
      ]
    },
    {
      "cell_type": "code",
      "execution_count": 23,
      "id": "3b6ec565",
      "metadata": {
        "id": "3b6ec565"
      },
      "outputs": [],
      "source": [
        "df_final=pd.merge(df_migration, df_final, left_on='Country', right_on='Country Name', how='inner')\n"
      ]
    },
    {
      "cell_type": "markdown",
      "id": "bab12f30",
      "metadata": {
        "id": "bab12f30"
      },
      "source": [
        "# Poverty"
      ]
    },
    {
      "cell_type": "code",
      "execution_count": 24,
      "id": "beee81e2",
      "metadata": {
        "id": "beee81e2"
      },
      "outputs": [],
      "source": [
        "df_poverty=get_table('https://en.wikipedia.org/wiki/List_of_sovereign_states_by_percentage_of_population_living_in_poverty',0)"
      ]
    },
    {
      "cell_type": "code",
      "execution_count": 25,
      "id": "1da9d665",
      "metadata": {
        "colab": {
          "base_uri": "https://localhost:8080/"
        },
        "id": "1da9d665",
        "outputId": "1370d00c-1355-4530-9af9-deef8e68b3c5"
      },
      "outputs": [
        {
          "output_type": "execute_result",
          "data": {
            "text/plain": [
              "Index(['Country', '< $1.90[1][5]', '< $3.20[6]', '< $5.50[7]', 'Year',\n",
              "       'Continent', 'Unnamed: 6'],\n",
              "      dtype='object')"
            ]
          },
          "metadata": {},
          "execution_count": 25
        }
      ],
      "source": [
        "df_poverty.columns"
      ]
    },
    {
      "cell_type": "code",
      "execution_count": 26,
      "id": "a0f819fe",
      "metadata": {
        "id": "a0f819fe"
      },
      "outputs": [],
      "source": [
        "df_poverty=df_poverty[['Country', '< $1.90[1][5]']]"
      ]
    },
    {
      "cell_type": "code",
      "execution_count": 27,
      "id": "75e16958",
      "metadata": {
        "id": "75e16958"
      },
      "outputs": [],
      "source": [
        "df_final=pd.merge(df_poverty, df_final, left_on='Country', right_on='Country Name', how='inner')\n"
      ]
    },
    {
      "cell_type": "code",
      "execution_count": 28,
      "id": "4324e835",
      "metadata": {
        "colab": {
          "base_uri": "https://localhost:8080/",
          "height": 467
        },
        "id": "4324e835",
        "outputId": "d5c778d2-5d2a-41a9-f20c-c3e1977381ef"
      },
      "outputs": [
        {
          "output_type": "execute_result",
          "data": {
            "text/plain": [
              "        Country < $1.90[1][5]   Country_x Migrants per 1,000 population  \\\n",
              "0       Albania        10.00%     Albania                          −3.2   \n",
              "1       Algeria         0.32%     Algeria                          −0.8   \n",
              "2        Angola        51.40%      Angola                          -0.2   \n",
              "3     Argentina         1.60%   Argentina                          −0.1   \n",
              "4       Armenia         0.40%     Armenia                          −5.4   \n",
              "..          ...           ...         ...                           ...   \n",
              "135  Uzbekistan        10.68%  Uzbekistan                          −1.8   \n",
              "136     Vanuatu         8.60%     Vanuatu                          −1.3   \n",
              "137     Vietnam         1.35%     Vietnam                          −0.2   \n",
              "138      Zambia        58.52%      Zambia                           0.2   \n",
              "139    Zimbabwe        39.50%    Zimbabwe                          −4.8   \n",
              "\n",
              "    Country or area  Internet users Country Name    2021   Country_y  \\\n",
              "0           Albania         2105339      Albania  12.683     Albania   \n",
              "1           Algeria        32090000      Algeria  11.747     Algeria   \n",
              "2            Angola         4271053       Angola  10.384      Angola   \n",
              "3         Argentina        33561876    Argentina   8.740   Argentina   \n",
              "4           Armenia         2043110      Armenia  12.729     Armenia   \n",
              "..              ...             ...          ...     ...         ...   \n",
              "135      Uzbekistan        16692456   Uzbekistan   6.017  Uzbekistan   \n",
              "136         Vanuatu           71050      Vanuatu   2.118     Vanuatu   \n",
              "137         Vietnam        68172134      Vietnam   2.380     Vietnam   \n",
              "138          Zambia         4760715       Zambia   6.220      Zambia   \n",
              "139        Zimbabwe         4472992     Zimbabwe   8.067    Zimbabwe   \n",
              "\n",
              "     Population  \n",
              "0       2793592  \n",
              "1      45400000  \n",
              "2      33086278  \n",
              "3      46044703  \n",
              "4       2976800  \n",
              "..          ...  \n",
              "135    36167340  \n",
              "136      301295  \n",
              "137    99460000  \n",
              "138    19610769  \n",
              "139    15178979  \n",
              "\n",
              "[140 rows x 10 columns]"
            ],
            "text/html": [
              "\n",
              "  <div id=\"df-c4a8a03c-ba82-433a-9ead-f2e3a9bbda4a\">\n",
              "    <div class=\"colab-df-container\">\n",
              "      <div>\n",
              "<style scoped>\n",
              "    .dataframe tbody tr th:only-of-type {\n",
              "        vertical-align: middle;\n",
              "    }\n",
              "\n",
              "    .dataframe tbody tr th {\n",
              "        vertical-align: top;\n",
              "    }\n",
              "\n",
              "    .dataframe thead th {\n",
              "        text-align: right;\n",
              "    }\n",
              "</style>\n",
              "<table border=\"1\" class=\"dataframe\">\n",
              "  <thead>\n",
              "    <tr style=\"text-align: right;\">\n",
              "      <th></th>\n",
              "      <th>Country</th>\n",
              "      <th>&lt; $1.90[1][5]</th>\n",
              "      <th>Country_x</th>\n",
              "      <th>Migrants per 1,000 population</th>\n",
              "      <th>Country or area</th>\n",
              "      <th>Internet users</th>\n",
              "      <th>Country Name</th>\n",
              "      <th>2021</th>\n",
              "      <th>Country_y</th>\n",
              "      <th>Population</th>\n",
              "    </tr>\n",
              "  </thead>\n",
              "  <tbody>\n",
              "    <tr>\n",
              "      <th>0</th>\n",
              "      <td>Albania</td>\n",
              "      <td>10.00%</td>\n",
              "      <td>Albania</td>\n",
              "      <td>−3.2</td>\n",
              "      <td>Albania</td>\n",
              "      <td>2105339</td>\n",
              "      <td>Albania</td>\n",
              "      <td>12.683</td>\n",
              "      <td>Albania</td>\n",
              "      <td>2793592</td>\n",
              "    </tr>\n",
              "    <tr>\n",
              "      <th>1</th>\n",
              "      <td>Algeria</td>\n",
              "      <td>0.32%</td>\n",
              "      <td>Algeria</td>\n",
              "      <td>−0.8</td>\n",
              "      <td>Algeria</td>\n",
              "      <td>32090000</td>\n",
              "      <td>Algeria</td>\n",
              "      <td>11.747</td>\n",
              "      <td>Algeria</td>\n",
              "      <td>45400000</td>\n",
              "    </tr>\n",
              "    <tr>\n",
              "      <th>2</th>\n",
              "      <td>Angola</td>\n",
              "      <td>51.40%</td>\n",
              "      <td>Angola</td>\n",
              "      <td>-0.2</td>\n",
              "      <td>Angola</td>\n",
              "      <td>4271053</td>\n",
              "      <td>Angola</td>\n",
              "      <td>10.384</td>\n",
              "      <td>Angola</td>\n",
              "      <td>33086278</td>\n",
              "    </tr>\n",
              "    <tr>\n",
              "      <th>3</th>\n",
              "      <td>Argentina</td>\n",
              "      <td>1.60%</td>\n",
              "      <td>Argentina</td>\n",
              "      <td>−0.1</td>\n",
              "      <td>Argentina</td>\n",
              "      <td>33561876</td>\n",
              "      <td>Argentina</td>\n",
              "      <td>8.740</td>\n",
              "      <td>Argentina</td>\n",
              "      <td>46044703</td>\n",
              "    </tr>\n",
              "    <tr>\n",
              "      <th>4</th>\n",
              "      <td>Armenia</td>\n",
              "      <td>0.40%</td>\n",
              "      <td>Armenia</td>\n",
              "      <td>−5.4</td>\n",
              "      <td>Armenia</td>\n",
              "      <td>2043110</td>\n",
              "      <td>Armenia</td>\n",
              "      <td>12.729</td>\n",
              "      <td>Armenia</td>\n",
              "      <td>2976800</td>\n",
              "    </tr>\n",
              "    <tr>\n",
              "      <th>...</th>\n",
              "      <td>...</td>\n",
              "      <td>...</td>\n",
              "      <td>...</td>\n",
              "      <td>...</td>\n",
              "      <td>...</td>\n",
              "      <td>...</td>\n",
              "      <td>...</td>\n",
              "      <td>...</td>\n",
              "      <td>...</td>\n",
              "      <td>...</td>\n",
              "    </tr>\n",
              "    <tr>\n",
              "      <th>135</th>\n",
              "      <td>Uzbekistan</td>\n",
              "      <td>10.68%</td>\n",
              "      <td>Uzbekistan</td>\n",
              "      <td>−1.8</td>\n",
              "      <td>Uzbekistan</td>\n",
              "      <td>16692456</td>\n",
              "      <td>Uzbekistan</td>\n",
              "      <td>6.017</td>\n",
              "      <td>Uzbekistan</td>\n",
              "      <td>36167340</td>\n",
              "    </tr>\n",
              "    <tr>\n",
              "      <th>136</th>\n",
              "      <td>Vanuatu</td>\n",
              "      <td>8.60%</td>\n",
              "      <td>Vanuatu</td>\n",
              "      <td>−1.3</td>\n",
              "      <td>Vanuatu</td>\n",
              "      <td>71050</td>\n",
              "      <td>Vanuatu</td>\n",
              "      <td>2.118</td>\n",
              "      <td>Vanuatu</td>\n",
              "      <td>301295</td>\n",
              "    </tr>\n",
              "    <tr>\n",
              "      <th>137</th>\n",
              "      <td>Vietnam</td>\n",
              "      <td>1.35%</td>\n",
              "      <td>Vietnam</td>\n",
              "      <td>−0.2</td>\n",
              "      <td>Vietnam</td>\n",
              "      <td>68172134</td>\n",
              "      <td>Vietnam</td>\n",
              "      <td>2.380</td>\n",
              "      <td>Vietnam</td>\n",
              "      <td>99460000</td>\n",
              "    </tr>\n",
              "    <tr>\n",
              "      <th>138</th>\n",
              "      <td>Zambia</td>\n",
              "      <td>58.52%</td>\n",
              "      <td>Zambia</td>\n",
              "      <td>0.2</td>\n",
              "      <td>Zambia</td>\n",
              "      <td>4760715</td>\n",
              "      <td>Zambia</td>\n",
              "      <td>6.220</td>\n",
              "      <td>Zambia</td>\n",
              "      <td>19610769</td>\n",
              "    </tr>\n",
              "    <tr>\n",
              "      <th>139</th>\n",
              "      <td>Zimbabwe</td>\n",
              "      <td>39.50%</td>\n",
              "      <td>Zimbabwe</td>\n",
              "      <td>−4.8</td>\n",
              "      <td>Zimbabwe</td>\n",
              "      <td>4472992</td>\n",
              "      <td>Zimbabwe</td>\n",
              "      <td>8.067</td>\n",
              "      <td>Zimbabwe</td>\n",
              "      <td>15178979</td>\n",
              "    </tr>\n",
              "  </tbody>\n",
              "</table>\n",
              "<p>140 rows × 10 columns</p>\n",
              "</div>\n",
              "      <button class=\"colab-df-convert\" onclick=\"convertToInteractive('df-c4a8a03c-ba82-433a-9ead-f2e3a9bbda4a')\"\n",
              "              title=\"Convert this dataframe to an interactive table.\"\n",
              "              style=\"display:none;\">\n",
              "        \n",
              "  <svg xmlns=\"http://www.w3.org/2000/svg\" height=\"24px\"viewBox=\"0 0 24 24\"\n",
              "       width=\"24px\">\n",
              "    <path d=\"M0 0h24v24H0V0z\" fill=\"none\"/>\n",
              "    <path d=\"M18.56 5.44l.94 2.06.94-2.06 2.06-.94-2.06-.94-.94-2.06-.94 2.06-2.06.94zm-11 1L8.5 8.5l.94-2.06 2.06-.94-2.06-.94L8.5 2.5l-.94 2.06-2.06.94zm10 10l.94 2.06.94-2.06 2.06-.94-2.06-.94-.94-2.06-.94 2.06-2.06.94z\"/><path d=\"M17.41 7.96l-1.37-1.37c-.4-.4-.92-.59-1.43-.59-.52 0-1.04.2-1.43.59L10.3 9.45l-7.72 7.72c-.78.78-.78 2.05 0 2.83L4 21.41c.39.39.9.59 1.41.59.51 0 1.02-.2 1.41-.59l7.78-7.78 2.81-2.81c.8-.78.8-2.07 0-2.86zM5.41 20L4 18.59l7.72-7.72 1.47 1.35L5.41 20z\"/>\n",
              "  </svg>\n",
              "      </button>\n",
              "      \n",
              "  <style>\n",
              "    .colab-df-container {\n",
              "      display:flex;\n",
              "      flex-wrap:wrap;\n",
              "      gap: 12px;\n",
              "    }\n",
              "\n",
              "    .colab-df-convert {\n",
              "      background-color: #E8F0FE;\n",
              "      border: none;\n",
              "      border-radius: 50%;\n",
              "      cursor: pointer;\n",
              "      display: none;\n",
              "      fill: #1967D2;\n",
              "      height: 32px;\n",
              "      padding: 0 0 0 0;\n",
              "      width: 32px;\n",
              "    }\n",
              "\n",
              "    .colab-df-convert:hover {\n",
              "      background-color: #E2EBFA;\n",
              "      box-shadow: 0px 1px 2px rgba(60, 64, 67, 0.3), 0px 1px 3px 1px rgba(60, 64, 67, 0.15);\n",
              "      fill: #174EA6;\n",
              "    }\n",
              "\n",
              "    [theme=dark] .colab-df-convert {\n",
              "      background-color: #3B4455;\n",
              "      fill: #D2E3FC;\n",
              "    }\n",
              "\n",
              "    [theme=dark] .colab-df-convert:hover {\n",
              "      background-color: #434B5C;\n",
              "      box-shadow: 0px 1px 3px 1px rgba(0, 0, 0, 0.15);\n",
              "      filter: drop-shadow(0px 1px 2px rgba(0, 0, 0, 0.3));\n",
              "      fill: #FFFFFF;\n",
              "    }\n",
              "  </style>\n",
              "\n",
              "      <script>\n",
              "        const buttonEl =\n",
              "          document.querySelector('#df-c4a8a03c-ba82-433a-9ead-f2e3a9bbda4a button.colab-df-convert');\n",
              "        buttonEl.style.display =\n",
              "          google.colab.kernel.accessAllowed ? 'block' : 'none';\n",
              "\n",
              "        async function convertToInteractive(key) {\n",
              "          const element = document.querySelector('#df-c4a8a03c-ba82-433a-9ead-f2e3a9bbda4a');\n",
              "          const dataTable =\n",
              "            await google.colab.kernel.invokeFunction('convertToInteractive',\n",
              "                                                     [key], {});\n",
              "          if (!dataTable) return;\n",
              "\n",
              "          const docLinkHtml = 'Like what you see? Visit the ' +\n",
              "            '<a target=\"_blank\" href=https://colab.research.google.com/notebooks/data_table.ipynb>data table notebook</a>'\n",
              "            + ' to learn more about interactive tables.';\n",
              "          element.innerHTML = '';\n",
              "          dataTable['output_type'] = 'display_data';\n",
              "          await google.colab.output.renderOutput(dataTable, element);\n",
              "          const docLink = document.createElement('div');\n",
              "          docLink.innerHTML = docLinkHtml;\n",
              "          element.appendChild(docLink);\n",
              "        }\n",
              "      </script>\n",
              "    </div>\n",
              "  </div>\n",
              "  "
            ]
          },
          "metadata": {},
          "execution_count": 28
        }
      ],
      "source": [
        "df_final"
      ]
    },
    {
      "cell_type": "markdown",
      "id": "7966e2cf",
      "metadata": {
        "id": "7966e2cf"
      },
      "source": [
        "# Below PovertyLine"
      ]
    },
    {
      "cell_type": "code",
      "execution_count": 29,
      "id": "8192df4c",
      "metadata": {
        "id": "8192df4c"
      },
      "outputs": [],
      "source": [
        "#Percent of population living below national poverty line\n",
        "df_belowPovertyLine=get_table('https://en.wikipedia.org/wiki/List_of_sovereign_states_by_percentage_of_population_living_in_poverty',1)"
      ]
    },
    {
      "cell_type": "code",
      "source": [
        "df_belowPovertyLine"
      ],
      "metadata": {
        "colab": {
          "base_uri": "https://localhost:8080/",
          "height": 423
        },
        "id": "C5o3JWb6Umog",
        "outputId": "e83d9d75-7d43-4cef-bca9-52aeb6262010"
      },
      "id": "C5o3JWb6Umog",
      "execution_count": 30,
      "outputs": [
        {
          "output_type": "execute_result",
          "data": {
            "text/plain": [
              "                  Country World Bank[9]  Year CIA[10] Year.1 Other Year.2  \\\n",
              "0             Afghanistan         54.5%  2016   54.5%   2017     —      —   \n",
              "1                 Albania         21.8%  2019   14.3%   2012     —      —   \n",
              "2                 Algeria          5.5%  2011    5.5%   2011     —      —   \n",
              "3                  Angola         32.3%  2018   32.3%   2018     —      —   \n",
              "4                Anguilla             —     —   23.0%   2002     —      —   \n",
              "..                    ...           ...   ...     ...    ...   ...    ...   \n",
              "179               Vietnam          6.7%  2018    6.7%   2018     —      —   \n",
              "180  Virgin Islands, U.S.             —     —   28.9%   2002     —      —   \n",
              "181                 Yemen         48.6%  2014   48.6%   2014     —      —   \n",
              "182                Zambia         54.4%  2015   54.4%   2015     —      —   \n",
              "183              Zimbabwe         38.3%  2019   38.3%   2019     —      —   \n",
              "\n",
              "         Continent  \n",
              "0             Asia  \n",
              "1           Europe  \n",
              "2           Africa  \n",
              "3           Africa  \n",
              "4    North America  \n",
              "..             ...  \n",
              "179           Asia  \n",
              "180  North America  \n",
              "181           Asia  \n",
              "182         Africa  \n",
              "183         Africa  \n",
              "\n",
              "[184 rows x 8 columns]"
            ],
            "text/html": [
              "\n",
              "  <div id=\"df-5ea01b53-245b-47ec-a0a8-9e55ecdb8fb9\">\n",
              "    <div class=\"colab-df-container\">\n",
              "      <div>\n",
              "<style scoped>\n",
              "    .dataframe tbody tr th:only-of-type {\n",
              "        vertical-align: middle;\n",
              "    }\n",
              "\n",
              "    .dataframe tbody tr th {\n",
              "        vertical-align: top;\n",
              "    }\n",
              "\n",
              "    .dataframe thead th {\n",
              "        text-align: right;\n",
              "    }\n",
              "</style>\n",
              "<table border=\"1\" class=\"dataframe\">\n",
              "  <thead>\n",
              "    <tr style=\"text-align: right;\">\n",
              "      <th></th>\n",
              "      <th>Country</th>\n",
              "      <th>World Bank[9]</th>\n",
              "      <th>Year</th>\n",
              "      <th>CIA[10]</th>\n",
              "      <th>Year.1</th>\n",
              "      <th>Other</th>\n",
              "      <th>Year.2</th>\n",
              "      <th>Continent</th>\n",
              "    </tr>\n",
              "  </thead>\n",
              "  <tbody>\n",
              "    <tr>\n",
              "      <th>0</th>\n",
              "      <td>Afghanistan</td>\n",
              "      <td>54.5%</td>\n",
              "      <td>2016</td>\n",
              "      <td>54.5%</td>\n",
              "      <td>2017</td>\n",
              "      <td>—</td>\n",
              "      <td>—</td>\n",
              "      <td>Asia</td>\n",
              "    </tr>\n",
              "    <tr>\n",
              "      <th>1</th>\n",
              "      <td>Albania</td>\n",
              "      <td>21.8%</td>\n",
              "      <td>2019</td>\n",
              "      <td>14.3%</td>\n",
              "      <td>2012</td>\n",
              "      <td>—</td>\n",
              "      <td>—</td>\n",
              "      <td>Europe</td>\n",
              "    </tr>\n",
              "    <tr>\n",
              "      <th>2</th>\n",
              "      <td>Algeria</td>\n",
              "      <td>5.5%</td>\n",
              "      <td>2011</td>\n",
              "      <td>5.5%</td>\n",
              "      <td>2011</td>\n",
              "      <td>—</td>\n",
              "      <td>—</td>\n",
              "      <td>Africa</td>\n",
              "    </tr>\n",
              "    <tr>\n",
              "      <th>3</th>\n",
              "      <td>Angola</td>\n",
              "      <td>32.3%</td>\n",
              "      <td>2018</td>\n",
              "      <td>32.3%</td>\n",
              "      <td>2018</td>\n",
              "      <td>—</td>\n",
              "      <td>—</td>\n",
              "      <td>Africa</td>\n",
              "    </tr>\n",
              "    <tr>\n",
              "      <th>4</th>\n",
              "      <td>Anguilla</td>\n",
              "      <td>—</td>\n",
              "      <td>—</td>\n",
              "      <td>23.0%</td>\n",
              "      <td>2002</td>\n",
              "      <td>—</td>\n",
              "      <td>—</td>\n",
              "      <td>North America</td>\n",
              "    </tr>\n",
              "    <tr>\n",
              "      <th>...</th>\n",
              "      <td>...</td>\n",
              "      <td>...</td>\n",
              "      <td>...</td>\n",
              "      <td>...</td>\n",
              "      <td>...</td>\n",
              "      <td>...</td>\n",
              "      <td>...</td>\n",
              "      <td>...</td>\n",
              "    </tr>\n",
              "    <tr>\n",
              "      <th>179</th>\n",
              "      <td>Vietnam</td>\n",
              "      <td>6.7%</td>\n",
              "      <td>2018</td>\n",
              "      <td>6.7%</td>\n",
              "      <td>2018</td>\n",
              "      <td>—</td>\n",
              "      <td>—</td>\n",
              "      <td>Asia</td>\n",
              "    </tr>\n",
              "    <tr>\n",
              "      <th>180</th>\n",
              "      <td>Virgin Islands, U.S.</td>\n",
              "      <td>—</td>\n",
              "      <td>—</td>\n",
              "      <td>28.9%</td>\n",
              "      <td>2002</td>\n",
              "      <td>—</td>\n",
              "      <td>—</td>\n",
              "      <td>North America</td>\n",
              "    </tr>\n",
              "    <tr>\n",
              "      <th>181</th>\n",
              "      <td>Yemen</td>\n",
              "      <td>48.6%</td>\n",
              "      <td>2014</td>\n",
              "      <td>48.6%</td>\n",
              "      <td>2014</td>\n",
              "      <td>—</td>\n",
              "      <td>—</td>\n",
              "      <td>Asia</td>\n",
              "    </tr>\n",
              "    <tr>\n",
              "      <th>182</th>\n",
              "      <td>Zambia</td>\n",
              "      <td>54.4%</td>\n",
              "      <td>2015</td>\n",
              "      <td>54.4%</td>\n",
              "      <td>2015</td>\n",
              "      <td>—</td>\n",
              "      <td>—</td>\n",
              "      <td>Africa</td>\n",
              "    </tr>\n",
              "    <tr>\n",
              "      <th>183</th>\n",
              "      <td>Zimbabwe</td>\n",
              "      <td>38.3%</td>\n",
              "      <td>2019</td>\n",
              "      <td>38.3%</td>\n",
              "      <td>2019</td>\n",
              "      <td>—</td>\n",
              "      <td>—</td>\n",
              "      <td>Africa</td>\n",
              "    </tr>\n",
              "  </tbody>\n",
              "</table>\n",
              "<p>184 rows × 8 columns</p>\n",
              "</div>\n",
              "      <button class=\"colab-df-convert\" onclick=\"convertToInteractive('df-5ea01b53-245b-47ec-a0a8-9e55ecdb8fb9')\"\n",
              "              title=\"Convert this dataframe to an interactive table.\"\n",
              "              style=\"display:none;\">\n",
              "        \n",
              "  <svg xmlns=\"http://www.w3.org/2000/svg\" height=\"24px\"viewBox=\"0 0 24 24\"\n",
              "       width=\"24px\">\n",
              "    <path d=\"M0 0h24v24H0V0z\" fill=\"none\"/>\n",
              "    <path d=\"M18.56 5.44l.94 2.06.94-2.06 2.06-.94-2.06-.94-.94-2.06-.94 2.06-2.06.94zm-11 1L8.5 8.5l.94-2.06 2.06-.94-2.06-.94L8.5 2.5l-.94 2.06-2.06.94zm10 10l.94 2.06.94-2.06 2.06-.94-2.06-.94-.94-2.06-.94 2.06-2.06.94z\"/><path d=\"M17.41 7.96l-1.37-1.37c-.4-.4-.92-.59-1.43-.59-.52 0-1.04.2-1.43.59L10.3 9.45l-7.72 7.72c-.78.78-.78 2.05 0 2.83L4 21.41c.39.39.9.59 1.41.59.51 0 1.02-.2 1.41-.59l7.78-7.78 2.81-2.81c.8-.78.8-2.07 0-2.86zM5.41 20L4 18.59l7.72-7.72 1.47 1.35L5.41 20z\"/>\n",
              "  </svg>\n",
              "      </button>\n",
              "      \n",
              "  <style>\n",
              "    .colab-df-container {\n",
              "      display:flex;\n",
              "      flex-wrap:wrap;\n",
              "      gap: 12px;\n",
              "    }\n",
              "\n",
              "    .colab-df-convert {\n",
              "      background-color: #E8F0FE;\n",
              "      border: none;\n",
              "      border-radius: 50%;\n",
              "      cursor: pointer;\n",
              "      display: none;\n",
              "      fill: #1967D2;\n",
              "      height: 32px;\n",
              "      padding: 0 0 0 0;\n",
              "      width: 32px;\n",
              "    }\n",
              "\n",
              "    .colab-df-convert:hover {\n",
              "      background-color: #E2EBFA;\n",
              "      box-shadow: 0px 1px 2px rgba(60, 64, 67, 0.3), 0px 1px 3px 1px rgba(60, 64, 67, 0.15);\n",
              "      fill: #174EA6;\n",
              "    }\n",
              "\n",
              "    [theme=dark] .colab-df-convert {\n",
              "      background-color: #3B4455;\n",
              "      fill: #D2E3FC;\n",
              "    }\n",
              "\n",
              "    [theme=dark] .colab-df-convert:hover {\n",
              "      background-color: #434B5C;\n",
              "      box-shadow: 0px 1px 3px 1px rgba(0, 0, 0, 0.15);\n",
              "      filter: drop-shadow(0px 1px 2px rgba(0, 0, 0, 0.3));\n",
              "      fill: #FFFFFF;\n",
              "    }\n",
              "  </style>\n",
              "\n",
              "      <script>\n",
              "        const buttonEl =\n",
              "          document.querySelector('#df-5ea01b53-245b-47ec-a0a8-9e55ecdb8fb9 button.colab-df-convert');\n",
              "        buttonEl.style.display =\n",
              "          google.colab.kernel.accessAllowed ? 'block' : 'none';\n",
              "\n",
              "        async function convertToInteractive(key) {\n",
              "          const element = document.querySelector('#df-5ea01b53-245b-47ec-a0a8-9e55ecdb8fb9');\n",
              "          const dataTable =\n",
              "            await google.colab.kernel.invokeFunction('convertToInteractive',\n",
              "                                                     [key], {});\n",
              "          if (!dataTable) return;\n",
              "\n",
              "          const docLinkHtml = 'Like what you see? Visit the ' +\n",
              "            '<a target=\"_blank\" href=https://colab.research.google.com/notebooks/data_table.ipynb>data table notebook</a>'\n",
              "            + ' to learn more about interactive tables.';\n",
              "          element.innerHTML = '';\n",
              "          dataTable['output_type'] = 'display_data';\n",
              "          await google.colab.output.renderOutput(dataTable, element);\n",
              "          const docLink = document.createElement('div');\n",
              "          docLink.innerHTML = docLinkHtml;\n",
              "          element.appendChild(docLink);\n",
              "        }\n",
              "      </script>\n",
              "    </div>\n",
              "  </div>\n",
              "  "
            ]
          },
          "metadata": {},
          "execution_count": 30
        }
      ]
    },
    {
      "cell_type": "code",
      "execution_count": 31,
      "id": "f4c76f65",
      "metadata": {
        "id": "f4c76f65"
      },
      "outputs": [],
      "source": [
        "df_belowPovertyLine=df_belowPovertyLine[['Country','World Bank[9]']]"
      ]
    },
    {
      "cell_type": "code",
      "execution_count": 32,
      "id": "fdc79bb7",
      "metadata": {
        "colab": {
          "base_uri": "https://localhost:8080/"
        },
        "id": "fdc79bb7",
        "outputId": "359e0982-24bd-4b04-9bf4-c00c8250444b"
      },
      "outputs": [
        {
          "output_type": "stream",
          "name": "stderr",
          "text": [
            "<ipython-input-32-7a05ee0916fa>:1: FutureWarning: Passing 'suffixes' which cause duplicate columns {'Country_y'} in the result is deprecated and will raise a MergeError in a future version.\n",
            "  df_final=pd.merge(df_belowPovertyLine, df_final, left_on='Country', right_on='Country Name', how='inner')\n"
          ]
        }
      ],
      "source": [
        "df_final=pd.merge(df_belowPovertyLine, df_final, left_on='Country', right_on='Country Name', how='inner')"
      ]
    },
    {
      "cell_type": "markdown",
      "id": "fe32f3bc",
      "metadata": {
        "id": "fe32f3bc"
      },
      "source": [
        "# literacyRate"
      ]
    },
    {
      "cell_type": "code",
      "execution_count": 33,
      "id": "ba26add8",
      "metadata": {
        "id": "ba26add8"
      },
      "outputs": [],
      "source": [
        "df_literacyRate=get_table('https://en.wikipedia.org/wiki/List_of_countries_by_literacy_rate',0)"
      ]
    },
    {
      "cell_type": "code",
      "execution_count": 34,
      "id": "fd9830f4",
      "metadata": {
        "colab": {
          "base_uri": "https://localhost:8080/",
          "height": 455
        },
        "id": "fd9830f4",
        "outputId": "6b18c5bd-1df9-4291-cbe8-ea096ff271d3"
      },
      "outputs": [
        {
          "output_type": "execute_result",
          "data": {
            "text/plain": [
              "               Country Youth (15 to 24)         Adult (25+)          \\\n",
              "               Country             Rate    Year        Rate    Year   \n",
              "0        Afghanistan *             47.0  2011.0        31.7  2011.0   \n",
              "1            Albania *             99.2  2012.0        97.2  2012.0   \n",
              "2            Algeria *             93.8  2008.0        75.1  2008.0   \n",
              "3     American Samoa *             97.7  1980.0        97.3  1980.0   \n",
              "4            Andorra *              NaN     NaN         NaN     NaN   \n",
              "..                 ...              ...     ...         ...     ...   \n",
              "229  Wallis and Futuna              NaN     NaN         NaN     NaN   \n",
              "230     Western Sahara              NaN     NaN         NaN     NaN   \n",
              "231            Yemen *             77.0  2004.0        54.1  2004.0   \n",
              "232           Zambia *             88.7  2010.0        83.0  2010.0   \n",
              "233         Zimbabwe *             90.4  2014.0        88.7  2014.0   \n",
              "\n",
              "    Elderly (65+)         Youth Gender Parity Index          \n",
              "             Rate    Year                      Rate    Year  \n",
              "0            20.3  2011.0                       0.5  2011.0  \n",
              "1            86.9  2012.0                       1.0  2012.0  \n",
              "2            19.5  2008.0                       1.0  2008.0  \n",
              "3            92.7  1980.0                       1.0  1980.0  \n",
              "4             NaN     NaN                       NaN     NaN  \n",
              "..            ...     ...                       ...     ...  \n",
              "229           NaN     NaN                       NaN     NaN  \n",
              "230           NaN     NaN                       NaN     NaN  \n",
              "231          13.7  2004.0                       0.7  2004.0  \n",
              "232          52.3  2010.0                       0.9  2010.0  \n",
              "233          81.1  2014.0                       1.1  2014.0  \n",
              "\n",
              "[234 rows x 9 columns]"
            ],
            "text/html": [
              "\n",
              "  <div id=\"df-78985b33-337b-429b-ad7f-d66b2dd473be\">\n",
              "    <div class=\"colab-df-container\">\n",
              "      <div>\n",
              "<style scoped>\n",
              "    .dataframe tbody tr th:only-of-type {\n",
              "        vertical-align: middle;\n",
              "    }\n",
              "\n",
              "    .dataframe tbody tr th {\n",
              "        vertical-align: top;\n",
              "    }\n",
              "\n",
              "    .dataframe thead tr th {\n",
              "        text-align: left;\n",
              "    }\n",
              "</style>\n",
              "<table border=\"1\" class=\"dataframe\">\n",
              "  <thead>\n",
              "    <tr>\n",
              "      <th></th>\n",
              "      <th>Country</th>\n",
              "      <th colspan=\"2\" halign=\"left\">Youth (15 to 24)</th>\n",
              "      <th colspan=\"2\" halign=\"left\">Adult (25+)</th>\n",
              "      <th colspan=\"2\" halign=\"left\">Elderly (65+)</th>\n",
              "      <th colspan=\"2\" halign=\"left\">Youth Gender Parity Index</th>\n",
              "    </tr>\n",
              "    <tr>\n",
              "      <th></th>\n",
              "      <th>Country</th>\n",
              "      <th>Rate</th>\n",
              "      <th>Year</th>\n",
              "      <th>Rate</th>\n",
              "      <th>Year</th>\n",
              "      <th>Rate</th>\n",
              "      <th>Year</th>\n",
              "      <th>Rate</th>\n",
              "      <th>Year</th>\n",
              "    </tr>\n",
              "  </thead>\n",
              "  <tbody>\n",
              "    <tr>\n",
              "      <th>0</th>\n",
              "      <td>Afghanistan *</td>\n",
              "      <td>47.0</td>\n",
              "      <td>2011.0</td>\n",
              "      <td>31.7</td>\n",
              "      <td>2011.0</td>\n",
              "      <td>20.3</td>\n",
              "      <td>2011.0</td>\n",
              "      <td>0.5</td>\n",
              "      <td>2011.0</td>\n",
              "    </tr>\n",
              "    <tr>\n",
              "      <th>1</th>\n",
              "      <td>Albania *</td>\n",
              "      <td>99.2</td>\n",
              "      <td>2012.0</td>\n",
              "      <td>97.2</td>\n",
              "      <td>2012.0</td>\n",
              "      <td>86.9</td>\n",
              "      <td>2012.0</td>\n",
              "      <td>1.0</td>\n",
              "      <td>2012.0</td>\n",
              "    </tr>\n",
              "    <tr>\n",
              "      <th>2</th>\n",
              "      <td>Algeria *</td>\n",
              "      <td>93.8</td>\n",
              "      <td>2008.0</td>\n",
              "      <td>75.1</td>\n",
              "      <td>2008.0</td>\n",
              "      <td>19.5</td>\n",
              "      <td>2008.0</td>\n",
              "      <td>1.0</td>\n",
              "      <td>2008.0</td>\n",
              "    </tr>\n",
              "    <tr>\n",
              "      <th>3</th>\n",
              "      <td>American Samoa *</td>\n",
              "      <td>97.7</td>\n",
              "      <td>1980.0</td>\n",
              "      <td>97.3</td>\n",
              "      <td>1980.0</td>\n",
              "      <td>92.7</td>\n",
              "      <td>1980.0</td>\n",
              "      <td>1.0</td>\n",
              "      <td>1980.0</td>\n",
              "    </tr>\n",
              "    <tr>\n",
              "      <th>4</th>\n",
              "      <td>Andorra *</td>\n",
              "      <td>NaN</td>\n",
              "      <td>NaN</td>\n",
              "      <td>NaN</td>\n",
              "      <td>NaN</td>\n",
              "      <td>NaN</td>\n",
              "      <td>NaN</td>\n",
              "      <td>NaN</td>\n",
              "      <td>NaN</td>\n",
              "    </tr>\n",
              "    <tr>\n",
              "      <th>...</th>\n",
              "      <td>...</td>\n",
              "      <td>...</td>\n",
              "      <td>...</td>\n",
              "      <td>...</td>\n",
              "      <td>...</td>\n",
              "      <td>...</td>\n",
              "      <td>...</td>\n",
              "      <td>...</td>\n",
              "      <td>...</td>\n",
              "    </tr>\n",
              "    <tr>\n",
              "      <th>229</th>\n",
              "      <td>Wallis and Futuna</td>\n",
              "      <td>NaN</td>\n",
              "      <td>NaN</td>\n",
              "      <td>NaN</td>\n",
              "      <td>NaN</td>\n",
              "      <td>NaN</td>\n",
              "      <td>NaN</td>\n",
              "      <td>NaN</td>\n",
              "      <td>NaN</td>\n",
              "    </tr>\n",
              "    <tr>\n",
              "      <th>230</th>\n",
              "      <td>Western Sahara</td>\n",
              "      <td>NaN</td>\n",
              "      <td>NaN</td>\n",
              "      <td>NaN</td>\n",
              "      <td>NaN</td>\n",
              "      <td>NaN</td>\n",
              "      <td>NaN</td>\n",
              "      <td>NaN</td>\n",
              "      <td>NaN</td>\n",
              "    </tr>\n",
              "    <tr>\n",
              "      <th>231</th>\n",
              "      <td>Yemen *</td>\n",
              "      <td>77.0</td>\n",
              "      <td>2004.0</td>\n",
              "      <td>54.1</td>\n",
              "      <td>2004.0</td>\n",
              "      <td>13.7</td>\n",
              "      <td>2004.0</td>\n",
              "      <td>0.7</td>\n",
              "      <td>2004.0</td>\n",
              "    </tr>\n",
              "    <tr>\n",
              "      <th>232</th>\n",
              "      <td>Zambia *</td>\n",
              "      <td>88.7</td>\n",
              "      <td>2010.0</td>\n",
              "      <td>83.0</td>\n",
              "      <td>2010.0</td>\n",
              "      <td>52.3</td>\n",
              "      <td>2010.0</td>\n",
              "      <td>0.9</td>\n",
              "      <td>2010.0</td>\n",
              "    </tr>\n",
              "    <tr>\n",
              "      <th>233</th>\n",
              "      <td>Zimbabwe *</td>\n",
              "      <td>90.4</td>\n",
              "      <td>2014.0</td>\n",
              "      <td>88.7</td>\n",
              "      <td>2014.0</td>\n",
              "      <td>81.1</td>\n",
              "      <td>2014.0</td>\n",
              "      <td>1.1</td>\n",
              "      <td>2014.0</td>\n",
              "    </tr>\n",
              "  </tbody>\n",
              "</table>\n",
              "<p>234 rows × 9 columns</p>\n",
              "</div>\n",
              "      <button class=\"colab-df-convert\" onclick=\"convertToInteractive('df-78985b33-337b-429b-ad7f-d66b2dd473be')\"\n",
              "              title=\"Convert this dataframe to an interactive table.\"\n",
              "              style=\"display:none;\">\n",
              "        \n",
              "  <svg xmlns=\"http://www.w3.org/2000/svg\" height=\"24px\"viewBox=\"0 0 24 24\"\n",
              "       width=\"24px\">\n",
              "    <path d=\"M0 0h24v24H0V0z\" fill=\"none\"/>\n",
              "    <path d=\"M18.56 5.44l.94 2.06.94-2.06 2.06-.94-2.06-.94-.94-2.06-.94 2.06-2.06.94zm-11 1L8.5 8.5l.94-2.06 2.06-.94-2.06-.94L8.5 2.5l-.94 2.06-2.06.94zm10 10l.94 2.06.94-2.06 2.06-.94-2.06-.94-.94-2.06-.94 2.06-2.06.94z\"/><path d=\"M17.41 7.96l-1.37-1.37c-.4-.4-.92-.59-1.43-.59-.52 0-1.04.2-1.43.59L10.3 9.45l-7.72 7.72c-.78.78-.78 2.05 0 2.83L4 21.41c.39.39.9.59 1.41.59.51 0 1.02-.2 1.41-.59l7.78-7.78 2.81-2.81c.8-.78.8-2.07 0-2.86zM5.41 20L4 18.59l7.72-7.72 1.47 1.35L5.41 20z\"/>\n",
              "  </svg>\n",
              "      </button>\n",
              "      \n",
              "  <style>\n",
              "    .colab-df-container {\n",
              "      display:flex;\n",
              "      flex-wrap:wrap;\n",
              "      gap: 12px;\n",
              "    }\n",
              "\n",
              "    .colab-df-convert {\n",
              "      background-color: #E8F0FE;\n",
              "      border: none;\n",
              "      border-radius: 50%;\n",
              "      cursor: pointer;\n",
              "      display: none;\n",
              "      fill: #1967D2;\n",
              "      height: 32px;\n",
              "      padding: 0 0 0 0;\n",
              "      width: 32px;\n",
              "    }\n",
              "\n",
              "    .colab-df-convert:hover {\n",
              "      background-color: #E2EBFA;\n",
              "      box-shadow: 0px 1px 2px rgba(60, 64, 67, 0.3), 0px 1px 3px 1px rgba(60, 64, 67, 0.15);\n",
              "      fill: #174EA6;\n",
              "    }\n",
              "\n",
              "    [theme=dark] .colab-df-convert {\n",
              "      background-color: #3B4455;\n",
              "      fill: #D2E3FC;\n",
              "    }\n",
              "\n",
              "    [theme=dark] .colab-df-convert:hover {\n",
              "      background-color: #434B5C;\n",
              "      box-shadow: 0px 1px 3px 1px rgba(0, 0, 0, 0.15);\n",
              "      filter: drop-shadow(0px 1px 2px rgba(0, 0, 0, 0.3));\n",
              "      fill: #FFFFFF;\n",
              "    }\n",
              "  </style>\n",
              "\n",
              "      <script>\n",
              "        const buttonEl =\n",
              "          document.querySelector('#df-78985b33-337b-429b-ad7f-d66b2dd473be button.colab-df-convert');\n",
              "        buttonEl.style.display =\n",
              "          google.colab.kernel.accessAllowed ? 'block' : 'none';\n",
              "\n",
              "        async function convertToInteractive(key) {\n",
              "          const element = document.querySelector('#df-78985b33-337b-429b-ad7f-d66b2dd473be');\n",
              "          const dataTable =\n",
              "            await google.colab.kernel.invokeFunction('convertToInteractive',\n",
              "                                                     [key], {});\n",
              "          if (!dataTable) return;\n",
              "\n",
              "          const docLinkHtml = 'Like what you see? Visit the ' +\n",
              "            '<a target=\"_blank\" href=https://colab.research.google.com/notebooks/data_table.ipynb>data table notebook</a>'\n",
              "            + ' to learn more about interactive tables.';\n",
              "          element.innerHTML = '';\n",
              "          dataTable['output_type'] = 'display_data';\n",
              "          await google.colab.output.renderOutput(dataTable, element);\n",
              "          const docLink = document.createElement('div');\n",
              "          docLink.innerHTML = docLinkHtml;\n",
              "          element.appendChild(docLink);\n",
              "        }\n",
              "      </script>\n",
              "    </div>\n",
              "  </div>\n",
              "  "
            ]
          },
          "metadata": {},
          "execution_count": 34
        }
      ],
      "source": [
        "df_literacyRate"
      ]
    },
    {
      "cell_type": "code",
      "execution_count": 35,
      "id": "1529b727",
      "metadata": {
        "id": "1529b727"
      },
      "outputs": [],
      "source": [
        "df_literacyRate.columns= df_literacyRate.columns.map('_'.join)"
      ]
    },
    {
      "cell_type": "code",
      "execution_count": 36,
      "id": "9a712beb",
      "metadata": {
        "colab": {
          "base_uri": "https://localhost:8080/",
          "height": 485
        },
        "id": "9a712beb",
        "outputId": "0021ed25-bb75-47bc-bf97-3eed3929a5ed"
      },
      "outputs": [
        {
          "output_type": "execute_result",
          "data": {
            "text/plain": [
              "       Country_Country Youth (15 to 24)_Rate  Youth (15 to 24)_Year  \\\n",
              "0        Afghanistan *                  47.0                 2011.0   \n",
              "1            Albania *                  99.2                 2012.0   \n",
              "2            Algeria *                  93.8                 2008.0   \n",
              "3     American Samoa *                  97.7                 1980.0   \n",
              "4            Andorra *                   NaN                    NaN   \n",
              "..                 ...                   ...                    ...   \n",
              "229  Wallis and Futuna                   NaN                    NaN   \n",
              "230     Western Sahara                   NaN                    NaN   \n",
              "231            Yemen *                  77.0                 2004.0   \n",
              "232           Zambia *                  88.7                 2010.0   \n",
              "233         Zimbabwe *                  90.4                 2014.0   \n",
              "\n",
              "    Adult (25+)_Rate  Adult (25+)_Year Elderly (65+)_Rate  Elderly (65+)_Year  \\\n",
              "0               31.7            2011.0               20.3              2011.0   \n",
              "1               97.2            2012.0               86.9              2012.0   \n",
              "2               75.1            2008.0               19.5              2008.0   \n",
              "3               97.3            1980.0               92.7              1980.0   \n",
              "4                NaN               NaN                NaN                 NaN   \n",
              "..               ...               ...                ...                 ...   \n",
              "229              NaN               NaN                NaN                 NaN   \n",
              "230              NaN               NaN                NaN                 NaN   \n",
              "231             54.1            2004.0               13.7              2004.0   \n",
              "232             83.0            2010.0               52.3              2010.0   \n",
              "233             88.7            2014.0               81.1              2014.0   \n",
              "\n",
              "    Youth Gender Parity Index_Rate  Youth Gender Parity Index_Year  \n",
              "0                              0.5                          2011.0  \n",
              "1                              1.0                          2012.0  \n",
              "2                              1.0                          2008.0  \n",
              "3                              1.0                          1980.0  \n",
              "4                              NaN                             NaN  \n",
              "..                             ...                             ...  \n",
              "229                            NaN                             NaN  \n",
              "230                            NaN                             NaN  \n",
              "231                            0.7                          2004.0  \n",
              "232                            0.9                          2010.0  \n",
              "233                            1.1                          2014.0  \n",
              "\n",
              "[234 rows x 9 columns]"
            ],
            "text/html": [
              "\n",
              "  <div id=\"df-d35f65fa-0943-49e8-8ace-d4abb8a47350\">\n",
              "    <div class=\"colab-df-container\">\n",
              "      <div>\n",
              "<style scoped>\n",
              "    .dataframe tbody tr th:only-of-type {\n",
              "        vertical-align: middle;\n",
              "    }\n",
              "\n",
              "    .dataframe tbody tr th {\n",
              "        vertical-align: top;\n",
              "    }\n",
              "\n",
              "    .dataframe thead th {\n",
              "        text-align: right;\n",
              "    }\n",
              "</style>\n",
              "<table border=\"1\" class=\"dataframe\">\n",
              "  <thead>\n",
              "    <tr style=\"text-align: right;\">\n",
              "      <th></th>\n",
              "      <th>Country_Country</th>\n",
              "      <th>Youth (15 to 24)_Rate</th>\n",
              "      <th>Youth (15 to 24)_Year</th>\n",
              "      <th>Adult (25+)_Rate</th>\n",
              "      <th>Adult (25+)_Year</th>\n",
              "      <th>Elderly (65+)_Rate</th>\n",
              "      <th>Elderly (65+)_Year</th>\n",
              "      <th>Youth Gender Parity Index_Rate</th>\n",
              "      <th>Youth Gender Parity Index_Year</th>\n",
              "    </tr>\n",
              "  </thead>\n",
              "  <tbody>\n",
              "    <tr>\n",
              "      <th>0</th>\n",
              "      <td>Afghanistan *</td>\n",
              "      <td>47.0</td>\n",
              "      <td>2011.0</td>\n",
              "      <td>31.7</td>\n",
              "      <td>2011.0</td>\n",
              "      <td>20.3</td>\n",
              "      <td>2011.0</td>\n",
              "      <td>0.5</td>\n",
              "      <td>2011.0</td>\n",
              "    </tr>\n",
              "    <tr>\n",
              "      <th>1</th>\n",
              "      <td>Albania *</td>\n",
              "      <td>99.2</td>\n",
              "      <td>2012.0</td>\n",
              "      <td>97.2</td>\n",
              "      <td>2012.0</td>\n",
              "      <td>86.9</td>\n",
              "      <td>2012.0</td>\n",
              "      <td>1.0</td>\n",
              "      <td>2012.0</td>\n",
              "    </tr>\n",
              "    <tr>\n",
              "      <th>2</th>\n",
              "      <td>Algeria *</td>\n",
              "      <td>93.8</td>\n",
              "      <td>2008.0</td>\n",
              "      <td>75.1</td>\n",
              "      <td>2008.0</td>\n",
              "      <td>19.5</td>\n",
              "      <td>2008.0</td>\n",
              "      <td>1.0</td>\n",
              "      <td>2008.0</td>\n",
              "    </tr>\n",
              "    <tr>\n",
              "      <th>3</th>\n",
              "      <td>American Samoa *</td>\n",
              "      <td>97.7</td>\n",
              "      <td>1980.0</td>\n",
              "      <td>97.3</td>\n",
              "      <td>1980.0</td>\n",
              "      <td>92.7</td>\n",
              "      <td>1980.0</td>\n",
              "      <td>1.0</td>\n",
              "      <td>1980.0</td>\n",
              "    </tr>\n",
              "    <tr>\n",
              "      <th>4</th>\n",
              "      <td>Andorra *</td>\n",
              "      <td>NaN</td>\n",
              "      <td>NaN</td>\n",
              "      <td>NaN</td>\n",
              "      <td>NaN</td>\n",
              "      <td>NaN</td>\n",
              "      <td>NaN</td>\n",
              "      <td>NaN</td>\n",
              "      <td>NaN</td>\n",
              "    </tr>\n",
              "    <tr>\n",
              "      <th>...</th>\n",
              "      <td>...</td>\n",
              "      <td>...</td>\n",
              "      <td>...</td>\n",
              "      <td>...</td>\n",
              "      <td>...</td>\n",
              "      <td>...</td>\n",
              "      <td>...</td>\n",
              "      <td>...</td>\n",
              "      <td>...</td>\n",
              "    </tr>\n",
              "    <tr>\n",
              "      <th>229</th>\n",
              "      <td>Wallis and Futuna</td>\n",
              "      <td>NaN</td>\n",
              "      <td>NaN</td>\n",
              "      <td>NaN</td>\n",
              "      <td>NaN</td>\n",
              "      <td>NaN</td>\n",
              "      <td>NaN</td>\n",
              "      <td>NaN</td>\n",
              "      <td>NaN</td>\n",
              "    </tr>\n",
              "    <tr>\n",
              "      <th>230</th>\n",
              "      <td>Western Sahara</td>\n",
              "      <td>NaN</td>\n",
              "      <td>NaN</td>\n",
              "      <td>NaN</td>\n",
              "      <td>NaN</td>\n",
              "      <td>NaN</td>\n",
              "      <td>NaN</td>\n",
              "      <td>NaN</td>\n",
              "      <td>NaN</td>\n",
              "    </tr>\n",
              "    <tr>\n",
              "      <th>231</th>\n",
              "      <td>Yemen *</td>\n",
              "      <td>77.0</td>\n",
              "      <td>2004.0</td>\n",
              "      <td>54.1</td>\n",
              "      <td>2004.0</td>\n",
              "      <td>13.7</td>\n",
              "      <td>2004.0</td>\n",
              "      <td>0.7</td>\n",
              "      <td>2004.0</td>\n",
              "    </tr>\n",
              "    <tr>\n",
              "      <th>232</th>\n",
              "      <td>Zambia *</td>\n",
              "      <td>88.7</td>\n",
              "      <td>2010.0</td>\n",
              "      <td>83.0</td>\n",
              "      <td>2010.0</td>\n",
              "      <td>52.3</td>\n",
              "      <td>2010.0</td>\n",
              "      <td>0.9</td>\n",
              "      <td>2010.0</td>\n",
              "    </tr>\n",
              "    <tr>\n",
              "      <th>233</th>\n",
              "      <td>Zimbabwe *</td>\n",
              "      <td>90.4</td>\n",
              "      <td>2014.0</td>\n",
              "      <td>88.7</td>\n",
              "      <td>2014.0</td>\n",
              "      <td>81.1</td>\n",
              "      <td>2014.0</td>\n",
              "      <td>1.1</td>\n",
              "      <td>2014.0</td>\n",
              "    </tr>\n",
              "  </tbody>\n",
              "</table>\n",
              "<p>234 rows × 9 columns</p>\n",
              "</div>\n",
              "      <button class=\"colab-df-convert\" onclick=\"convertToInteractive('df-d35f65fa-0943-49e8-8ace-d4abb8a47350')\"\n",
              "              title=\"Convert this dataframe to an interactive table.\"\n",
              "              style=\"display:none;\">\n",
              "        \n",
              "  <svg xmlns=\"http://www.w3.org/2000/svg\" height=\"24px\"viewBox=\"0 0 24 24\"\n",
              "       width=\"24px\">\n",
              "    <path d=\"M0 0h24v24H0V0z\" fill=\"none\"/>\n",
              "    <path d=\"M18.56 5.44l.94 2.06.94-2.06 2.06-.94-2.06-.94-.94-2.06-.94 2.06-2.06.94zm-11 1L8.5 8.5l.94-2.06 2.06-.94-2.06-.94L8.5 2.5l-.94 2.06-2.06.94zm10 10l.94 2.06.94-2.06 2.06-.94-2.06-.94-.94-2.06-.94 2.06-2.06.94z\"/><path d=\"M17.41 7.96l-1.37-1.37c-.4-.4-.92-.59-1.43-.59-.52 0-1.04.2-1.43.59L10.3 9.45l-7.72 7.72c-.78.78-.78 2.05 0 2.83L4 21.41c.39.39.9.59 1.41.59.51 0 1.02-.2 1.41-.59l7.78-7.78 2.81-2.81c.8-.78.8-2.07 0-2.86zM5.41 20L4 18.59l7.72-7.72 1.47 1.35L5.41 20z\"/>\n",
              "  </svg>\n",
              "      </button>\n",
              "      \n",
              "  <style>\n",
              "    .colab-df-container {\n",
              "      display:flex;\n",
              "      flex-wrap:wrap;\n",
              "      gap: 12px;\n",
              "    }\n",
              "\n",
              "    .colab-df-convert {\n",
              "      background-color: #E8F0FE;\n",
              "      border: none;\n",
              "      border-radius: 50%;\n",
              "      cursor: pointer;\n",
              "      display: none;\n",
              "      fill: #1967D2;\n",
              "      height: 32px;\n",
              "      padding: 0 0 0 0;\n",
              "      width: 32px;\n",
              "    }\n",
              "\n",
              "    .colab-df-convert:hover {\n",
              "      background-color: #E2EBFA;\n",
              "      box-shadow: 0px 1px 2px rgba(60, 64, 67, 0.3), 0px 1px 3px 1px rgba(60, 64, 67, 0.15);\n",
              "      fill: #174EA6;\n",
              "    }\n",
              "\n",
              "    [theme=dark] .colab-df-convert {\n",
              "      background-color: #3B4455;\n",
              "      fill: #D2E3FC;\n",
              "    }\n",
              "\n",
              "    [theme=dark] .colab-df-convert:hover {\n",
              "      background-color: #434B5C;\n",
              "      box-shadow: 0px 1px 3px 1px rgba(0, 0, 0, 0.15);\n",
              "      filter: drop-shadow(0px 1px 2px rgba(0, 0, 0, 0.3));\n",
              "      fill: #FFFFFF;\n",
              "    }\n",
              "  </style>\n",
              "\n",
              "      <script>\n",
              "        const buttonEl =\n",
              "          document.querySelector('#df-d35f65fa-0943-49e8-8ace-d4abb8a47350 button.colab-df-convert');\n",
              "        buttonEl.style.display =\n",
              "          google.colab.kernel.accessAllowed ? 'block' : 'none';\n",
              "\n",
              "        async function convertToInteractive(key) {\n",
              "          const element = document.querySelector('#df-d35f65fa-0943-49e8-8ace-d4abb8a47350');\n",
              "          const dataTable =\n",
              "            await google.colab.kernel.invokeFunction('convertToInteractive',\n",
              "                                                     [key], {});\n",
              "          if (!dataTable) return;\n",
              "\n",
              "          const docLinkHtml = 'Like what you see? Visit the ' +\n",
              "            '<a target=\"_blank\" href=https://colab.research.google.com/notebooks/data_table.ipynb>data table notebook</a>'\n",
              "            + ' to learn more about interactive tables.';\n",
              "          element.innerHTML = '';\n",
              "          dataTable['output_type'] = 'display_data';\n",
              "          await google.colab.output.renderOutput(dataTable, element);\n",
              "          const docLink = document.createElement('div');\n",
              "          docLink.innerHTML = docLinkHtml;\n",
              "          element.appendChild(docLink);\n",
              "        }\n",
              "      </script>\n",
              "    </div>\n",
              "  </div>\n",
              "  "
            ]
          },
          "metadata": {},
          "execution_count": 36
        }
      ],
      "source": [
        "df_literacyRate"
      ]
    },
    {
      "cell_type": "code",
      "execution_count": 37,
      "id": "cd277eb5",
      "metadata": {
        "id": "cd277eb5"
      },
      "outputs": [],
      "source": [
        "df_literacyRate[['Country_Country','waste']]=df_literacyRate.Country_Country.str.split('*',expand=True)"
      ]
    },
    {
      "cell_type": "code",
      "execution_count": 38,
      "id": "ee9d0ff1",
      "metadata": {
        "id": "ee9d0ff1"
      },
      "outputs": [],
      "source": [
        "df_literacyRate.Country_Country=df_literacyRate.Country_Country.str.strip()"
      ]
    },
    {
      "cell_type": "code",
      "source": [
        "df_literacyRate.columns"
      ],
      "metadata": {
        "colab": {
          "base_uri": "https://localhost:8080/"
        },
        "id": "dtkzu2hfU2V-",
        "outputId": "3fd05c42-d9d2-470d-9142-95365b5825f9"
      },
      "id": "dtkzu2hfU2V-",
      "execution_count": 39,
      "outputs": [
        {
          "output_type": "execute_result",
          "data": {
            "text/plain": [
              "Index(['Country_Country', 'Youth (15 to 24)_Rate', 'Youth (15 to 24)_Year',\n",
              "       'Adult (25+)_Rate', 'Adult (25+)_Year', 'Elderly (65+)_Rate',\n",
              "       'Elderly (65+)_Year', 'Youth Gender Parity Index_Rate',\n",
              "       'Youth Gender Parity Index_Year', 'waste'],\n",
              "      dtype='object')"
            ]
          },
          "metadata": {},
          "execution_count": 39
        }
      ]
    },
    {
      "cell_type": "code",
      "execution_count": 40,
      "id": "191519ae",
      "metadata": {
        "id": "191519ae"
      },
      "outputs": [],
      "source": [
        "df_literacyRate=df_literacyRate[['Country_Country','Youth (15 to 24)_Rate','Adult (25+)_Rate','Elderly (65+)_Rate']]"
      ]
    },
    {
      "cell_type": "code",
      "execution_count": 41,
      "id": "9dcbfe2f",
      "metadata": {
        "id": "9dcbfe2f"
      },
      "outputs": [],
      "source": [
        "df_final=pd.merge(df_literacyRate, df_final, left_on='Country_Country', right_on='Country Name', how='inner')\n",
        "\n"
      ]
    },
    {
      "cell_type": "markdown",
      "id": "cf6ebfc6",
      "metadata": {
        "id": "cf6ebfc6"
      },
      "source": [
        "# GDP"
      ]
    },
    {
      "cell_type": "code",
      "execution_count": 42,
      "id": "9b872eac",
      "metadata": {
        "id": "9b872eac"
      },
      "outputs": [],
      "source": [
        "df_GDP=get_table('https://en.wikipedia.org/wiki/List_of_countries_by_GDP_(nominal)_per_capita',0)"
      ]
    },
    {
      "cell_type": "code",
      "execution_count": 43,
      "id": "cc4922df",
      "metadata": {
        "colab": {
          "base_uri": "https://localhost:8080/"
        },
        "id": "cc4922df",
        "outputId": "ef474b28-b062-4890-d61c-20d34fd88080"
      },
      "outputs": [
        {
          "output_type": "execute_result",
          "data": {
            "text/plain": [
              "0                NaN\n",
              "1             Monaco\n",
              "2      Liechtenstein\n",
              "3         Luxembourg\n",
              "4            Ireland\n",
              "           ...      \n",
              "219           Malawi\n",
              "220      South Sudan\n",
              "221     Sierra Leone\n",
              "222      Afghanistan\n",
              "223          Burundi\n",
              "Name: Country/Territory, Length: 224, dtype: object"
            ]
          },
          "metadata": {},
          "execution_count": 43
        }
      ],
      "source": [
        "df_GDP['Country/Territory']['Country/Territory']"
      ]
    },
    {
      "cell_type": "code",
      "execution_count": 44,
      "id": "05bb3e8f",
      "metadata": {
        "id": "05bb3e8f"
      },
      "outputs": [],
      "source": [
        "df_GDP.columns= df_GDP.columns.map('_'.join)"
      ]
    },
    {
      "cell_type": "code",
      "execution_count": 45,
      "id": "2a0cd6e4",
      "metadata": {
        "colab": {
          "base_uri": "https://localhost:8080/",
          "height": 502
        },
        "id": "2a0cd6e4",
        "outputId": "03af4cd2-8b98-4af3-dd4b-f8bbac3dbf40"
      },
      "outputs": [
        {
          "output_type": "execute_result",
          "data": {
            "text/plain": [
              "    Country/Territory_Country/Territory UN Region_UN Region  \\\n",
              "0                                   NaN                 NaN   \n",
              "1                                Monaco              Europe   \n",
              "2                         Liechtenstein              Europe   \n",
              "3                            Luxembourg              Europe   \n",
              "4                               Ireland              Europe   \n",
              "..                                  ...                 ...   \n",
              "219                              Malawi              Africa   \n",
              "220                         South Sudan              Africa   \n",
              "221                        Sierra Leone              Africa   \n",
              "222                         Afghanistan                Asia   \n",
              "223                             Burundi              Africa   \n",
              "\n",
              "    IMF[4][5]_Estimate IMF[4][5]_Year World Bank[6]_Estimate  \\\n",
              "0                  NaN            NaN                    NaN   \n",
              "1                    —              —                 234316   \n",
              "2                    —              —                 157755   \n",
              "3               132372           2023                 133590   \n",
              "4               114581           2023                 100172   \n",
              "..                 ...            ...                    ...   \n",
              "219                496           2023                    635   \n",
              "220                467           2023                   1072   \n",
              "221                415           2023                    480   \n",
              "222                611           2020                    369   \n",
              "223                249           2023                    222   \n",
              "\n",
              "    World Bank[6]_Year United Nations[7]_Estimate United Nations[7]_Year  \n",
              "0                  NaN                        NaN                    NaN  \n",
              "1                 2021                     234317                   2021  \n",
              "2                 2020                     169260                   2021  \n",
              "3                 2021                     133745                   2021  \n",
              "4                 2021                     101109                   2021  \n",
              "..                 ...                        ...                    ...  \n",
              "219               2021                        613                   2021  \n",
              "220               2015                        400                   2021  \n",
              "221               2021                        505                   2021  \n",
              "222               2021                        373                   2021  \n",
              "223               2021                        311                   2021  \n",
              "\n",
              "[224 rows x 8 columns]"
            ],
            "text/html": [
              "\n",
              "  <div id=\"df-8424e5de-a0fd-421f-b849-f3430bb09dd7\">\n",
              "    <div class=\"colab-df-container\">\n",
              "      <div>\n",
              "<style scoped>\n",
              "    .dataframe tbody tr th:only-of-type {\n",
              "        vertical-align: middle;\n",
              "    }\n",
              "\n",
              "    .dataframe tbody tr th {\n",
              "        vertical-align: top;\n",
              "    }\n",
              "\n",
              "    .dataframe thead th {\n",
              "        text-align: right;\n",
              "    }\n",
              "</style>\n",
              "<table border=\"1\" class=\"dataframe\">\n",
              "  <thead>\n",
              "    <tr style=\"text-align: right;\">\n",
              "      <th></th>\n",
              "      <th>Country/Territory_Country/Territory</th>\n",
              "      <th>UN Region_UN Region</th>\n",
              "      <th>IMF[4][5]_Estimate</th>\n",
              "      <th>IMF[4][5]_Year</th>\n",
              "      <th>World Bank[6]_Estimate</th>\n",
              "      <th>World Bank[6]_Year</th>\n",
              "      <th>United Nations[7]_Estimate</th>\n",
              "      <th>United Nations[7]_Year</th>\n",
              "    </tr>\n",
              "  </thead>\n",
              "  <tbody>\n",
              "    <tr>\n",
              "      <th>0</th>\n",
              "      <td>NaN</td>\n",
              "      <td>NaN</td>\n",
              "      <td>NaN</td>\n",
              "      <td>NaN</td>\n",
              "      <td>NaN</td>\n",
              "      <td>NaN</td>\n",
              "      <td>NaN</td>\n",
              "      <td>NaN</td>\n",
              "    </tr>\n",
              "    <tr>\n",
              "      <th>1</th>\n",
              "      <td>Monaco</td>\n",
              "      <td>Europe</td>\n",
              "      <td>—</td>\n",
              "      <td>—</td>\n",
              "      <td>234316</td>\n",
              "      <td>2021</td>\n",
              "      <td>234317</td>\n",
              "      <td>2021</td>\n",
              "    </tr>\n",
              "    <tr>\n",
              "      <th>2</th>\n",
              "      <td>Liechtenstein</td>\n",
              "      <td>Europe</td>\n",
              "      <td>—</td>\n",
              "      <td>—</td>\n",
              "      <td>157755</td>\n",
              "      <td>2020</td>\n",
              "      <td>169260</td>\n",
              "      <td>2021</td>\n",
              "    </tr>\n",
              "    <tr>\n",
              "      <th>3</th>\n",
              "      <td>Luxembourg</td>\n",
              "      <td>Europe</td>\n",
              "      <td>132372</td>\n",
              "      <td>2023</td>\n",
              "      <td>133590</td>\n",
              "      <td>2021</td>\n",
              "      <td>133745</td>\n",
              "      <td>2021</td>\n",
              "    </tr>\n",
              "    <tr>\n",
              "      <th>4</th>\n",
              "      <td>Ireland</td>\n",
              "      <td>Europe</td>\n",
              "      <td>114581</td>\n",
              "      <td>2023</td>\n",
              "      <td>100172</td>\n",
              "      <td>2021</td>\n",
              "      <td>101109</td>\n",
              "      <td>2021</td>\n",
              "    </tr>\n",
              "    <tr>\n",
              "      <th>...</th>\n",
              "      <td>...</td>\n",
              "      <td>...</td>\n",
              "      <td>...</td>\n",
              "      <td>...</td>\n",
              "      <td>...</td>\n",
              "      <td>...</td>\n",
              "      <td>...</td>\n",
              "      <td>...</td>\n",
              "    </tr>\n",
              "    <tr>\n",
              "      <th>219</th>\n",
              "      <td>Malawi</td>\n",
              "      <td>Africa</td>\n",
              "      <td>496</td>\n",
              "      <td>2023</td>\n",
              "      <td>635</td>\n",
              "      <td>2021</td>\n",
              "      <td>613</td>\n",
              "      <td>2021</td>\n",
              "    </tr>\n",
              "    <tr>\n",
              "      <th>220</th>\n",
              "      <td>South Sudan</td>\n",
              "      <td>Africa</td>\n",
              "      <td>467</td>\n",
              "      <td>2023</td>\n",
              "      <td>1072</td>\n",
              "      <td>2015</td>\n",
              "      <td>400</td>\n",
              "      <td>2021</td>\n",
              "    </tr>\n",
              "    <tr>\n",
              "      <th>221</th>\n",
              "      <td>Sierra Leone</td>\n",
              "      <td>Africa</td>\n",
              "      <td>415</td>\n",
              "      <td>2023</td>\n",
              "      <td>480</td>\n",
              "      <td>2021</td>\n",
              "      <td>505</td>\n",
              "      <td>2021</td>\n",
              "    </tr>\n",
              "    <tr>\n",
              "      <th>222</th>\n",
              "      <td>Afghanistan</td>\n",
              "      <td>Asia</td>\n",
              "      <td>611</td>\n",
              "      <td>2020</td>\n",
              "      <td>369</td>\n",
              "      <td>2021</td>\n",
              "      <td>373</td>\n",
              "      <td>2021</td>\n",
              "    </tr>\n",
              "    <tr>\n",
              "      <th>223</th>\n",
              "      <td>Burundi</td>\n",
              "      <td>Africa</td>\n",
              "      <td>249</td>\n",
              "      <td>2023</td>\n",
              "      <td>222</td>\n",
              "      <td>2021</td>\n",
              "      <td>311</td>\n",
              "      <td>2021</td>\n",
              "    </tr>\n",
              "  </tbody>\n",
              "</table>\n",
              "<p>224 rows × 8 columns</p>\n",
              "</div>\n",
              "      <button class=\"colab-df-convert\" onclick=\"convertToInteractive('df-8424e5de-a0fd-421f-b849-f3430bb09dd7')\"\n",
              "              title=\"Convert this dataframe to an interactive table.\"\n",
              "              style=\"display:none;\">\n",
              "        \n",
              "  <svg xmlns=\"http://www.w3.org/2000/svg\" height=\"24px\"viewBox=\"0 0 24 24\"\n",
              "       width=\"24px\">\n",
              "    <path d=\"M0 0h24v24H0V0z\" fill=\"none\"/>\n",
              "    <path d=\"M18.56 5.44l.94 2.06.94-2.06 2.06-.94-2.06-.94-.94-2.06-.94 2.06-2.06.94zm-11 1L8.5 8.5l.94-2.06 2.06-.94-2.06-.94L8.5 2.5l-.94 2.06-2.06.94zm10 10l.94 2.06.94-2.06 2.06-.94-2.06-.94-.94-2.06-.94 2.06-2.06.94z\"/><path d=\"M17.41 7.96l-1.37-1.37c-.4-.4-.92-.59-1.43-.59-.52 0-1.04.2-1.43.59L10.3 9.45l-7.72 7.72c-.78.78-.78 2.05 0 2.83L4 21.41c.39.39.9.59 1.41.59.51 0 1.02-.2 1.41-.59l7.78-7.78 2.81-2.81c.8-.78.8-2.07 0-2.86zM5.41 20L4 18.59l7.72-7.72 1.47 1.35L5.41 20z\"/>\n",
              "  </svg>\n",
              "      </button>\n",
              "      \n",
              "  <style>\n",
              "    .colab-df-container {\n",
              "      display:flex;\n",
              "      flex-wrap:wrap;\n",
              "      gap: 12px;\n",
              "    }\n",
              "\n",
              "    .colab-df-convert {\n",
              "      background-color: #E8F0FE;\n",
              "      border: none;\n",
              "      border-radius: 50%;\n",
              "      cursor: pointer;\n",
              "      display: none;\n",
              "      fill: #1967D2;\n",
              "      height: 32px;\n",
              "      padding: 0 0 0 0;\n",
              "      width: 32px;\n",
              "    }\n",
              "\n",
              "    .colab-df-convert:hover {\n",
              "      background-color: #E2EBFA;\n",
              "      box-shadow: 0px 1px 2px rgba(60, 64, 67, 0.3), 0px 1px 3px 1px rgba(60, 64, 67, 0.15);\n",
              "      fill: #174EA6;\n",
              "    }\n",
              "\n",
              "    [theme=dark] .colab-df-convert {\n",
              "      background-color: #3B4455;\n",
              "      fill: #D2E3FC;\n",
              "    }\n",
              "\n",
              "    [theme=dark] .colab-df-convert:hover {\n",
              "      background-color: #434B5C;\n",
              "      box-shadow: 0px 1px 3px 1px rgba(0, 0, 0, 0.15);\n",
              "      filter: drop-shadow(0px 1px 2px rgba(0, 0, 0, 0.3));\n",
              "      fill: #FFFFFF;\n",
              "    }\n",
              "  </style>\n",
              "\n",
              "      <script>\n",
              "        const buttonEl =\n",
              "          document.querySelector('#df-8424e5de-a0fd-421f-b849-f3430bb09dd7 button.colab-df-convert');\n",
              "        buttonEl.style.display =\n",
              "          google.colab.kernel.accessAllowed ? 'block' : 'none';\n",
              "\n",
              "        async function convertToInteractive(key) {\n",
              "          const element = document.querySelector('#df-8424e5de-a0fd-421f-b849-f3430bb09dd7');\n",
              "          const dataTable =\n",
              "            await google.colab.kernel.invokeFunction('convertToInteractive',\n",
              "                                                     [key], {});\n",
              "          if (!dataTable) return;\n",
              "\n",
              "          const docLinkHtml = 'Like what you see? Visit the ' +\n",
              "            '<a target=\"_blank\" href=https://colab.research.google.com/notebooks/data_table.ipynb>data table notebook</a>'\n",
              "            + ' to learn more about interactive tables.';\n",
              "          element.innerHTML = '';\n",
              "          dataTable['output_type'] = 'display_data';\n",
              "          await google.colab.output.renderOutput(dataTable, element);\n",
              "          const docLink = document.createElement('div');\n",
              "          docLink.innerHTML = docLinkHtml;\n",
              "          element.appendChild(docLink);\n",
              "        }\n",
              "      </script>\n",
              "    </div>\n",
              "  </div>\n",
              "  "
            ]
          },
          "metadata": {},
          "execution_count": 45
        }
      ],
      "source": [
        "df_GDP"
      ]
    },
    {
      "cell_type": "code",
      "execution_count": 46,
      "id": "1533c97c",
      "metadata": {
        "id": "1533c97c"
      },
      "outputs": [],
      "source": [
        "df_GDP=df_GDP[['Country/Territory_Country/Territory','World Bank[6]_Estimate']]"
      ]
    },
    {
      "cell_type": "code",
      "execution_count": 47,
      "id": "2a34a0a6",
      "metadata": {
        "colab": {
          "base_uri": "https://localhost:8080/",
          "height": 423
        },
        "id": "2a34a0a6",
        "outputId": "96177a81-b5b6-451f-a2d2-ac06acdd7a1f"
      },
      "outputs": [
        {
          "output_type": "execute_result",
          "data": {
            "text/plain": [
              "    Country/Territory_Country/Territory World Bank[6]_Estimate\n",
              "0                                   NaN                    NaN\n",
              "1                                Monaco                 234316\n",
              "2                         Liechtenstein                 157755\n",
              "3                            Luxembourg                 133590\n",
              "4                               Ireland                 100172\n",
              "..                                  ...                    ...\n",
              "219                              Malawi                    635\n",
              "220                         South Sudan                   1072\n",
              "221                        Sierra Leone                    480\n",
              "222                         Afghanistan                    369\n",
              "223                             Burundi                    222\n",
              "\n",
              "[224 rows x 2 columns]"
            ],
            "text/html": [
              "\n",
              "  <div id=\"df-76640c33-1ad9-4d4a-988a-5a435f98aeaf\">\n",
              "    <div class=\"colab-df-container\">\n",
              "      <div>\n",
              "<style scoped>\n",
              "    .dataframe tbody tr th:only-of-type {\n",
              "        vertical-align: middle;\n",
              "    }\n",
              "\n",
              "    .dataframe tbody tr th {\n",
              "        vertical-align: top;\n",
              "    }\n",
              "\n",
              "    .dataframe thead th {\n",
              "        text-align: right;\n",
              "    }\n",
              "</style>\n",
              "<table border=\"1\" class=\"dataframe\">\n",
              "  <thead>\n",
              "    <tr style=\"text-align: right;\">\n",
              "      <th></th>\n",
              "      <th>Country/Territory_Country/Territory</th>\n",
              "      <th>World Bank[6]_Estimate</th>\n",
              "    </tr>\n",
              "  </thead>\n",
              "  <tbody>\n",
              "    <tr>\n",
              "      <th>0</th>\n",
              "      <td>NaN</td>\n",
              "      <td>NaN</td>\n",
              "    </tr>\n",
              "    <tr>\n",
              "      <th>1</th>\n",
              "      <td>Monaco</td>\n",
              "      <td>234316</td>\n",
              "    </tr>\n",
              "    <tr>\n",
              "      <th>2</th>\n",
              "      <td>Liechtenstein</td>\n",
              "      <td>157755</td>\n",
              "    </tr>\n",
              "    <tr>\n",
              "      <th>3</th>\n",
              "      <td>Luxembourg</td>\n",
              "      <td>133590</td>\n",
              "    </tr>\n",
              "    <tr>\n",
              "      <th>4</th>\n",
              "      <td>Ireland</td>\n",
              "      <td>100172</td>\n",
              "    </tr>\n",
              "    <tr>\n",
              "      <th>...</th>\n",
              "      <td>...</td>\n",
              "      <td>...</td>\n",
              "    </tr>\n",
              "    <tr>\n",
              "      <th>219</th>\n",
              "      <td>Malawi</td>\n",
              "      <td>635</td>\n",
              "    </tr>\n",
              "    <tr>\n",
              "      <th>220</th>\n",
              "      <td>South Sudan</td>\n",
              "      <td>1072</td>\n",
              "    </tr>\n",
              "    <tr>\n",
              "      <th>221</th>\n",
              "      <td>Sierra Leone</td>\n",
              "      <td>480</td>\n",
              "    </tr>\n",
              "    <tr>\n",
              "      <th>222</th>\n",
              "      <td>Afghanistan</td>\n",
              "      <td>369</td>\n",
              "    </tr>\n",
              "    <tr>\n",
              "      <th>223</th>\n",
              "      <td>Burundi</td>\n",
              "      <td>222</td>\n",
              "    </tr>\n",
              "  </tbody>\n",
              "</table>\n",
              "<p>224 rows × 2 columns</p>\n",
              "</div>\n",
              "      <button class=\"colab-df-convert\" onclick=\"convertToInteractive('df-76640c33-1ad9-4d4a-988a-5a435f98aeaf')\"\n",
              "              title=\"Convert this dataframe to an interactive table.\"\n",
              "              style=\"display:none;\">\n",
              "        \n",
              "  <svg xmlns=\"http://www.w3.org/2000/svg\" height=\"24px\"viewBox=\"0 0 24 24\"\n",
              "       width=\"24px\">\n",
              "    <path d=\"M0 0h24v24H0V0z\" fill=\"none\"/>\n",
              "    <path d=\"M18.56 5.44l.94 2.06.94-2.06 2.06-.94-2.06-.94-.94-2.06-.94 2.06-2.06.94zm-11 1L8.5 8.5l.94-2.06 2.06-.94-2.06-.94L8.5 2.5l-.94 2.06-2.06.94zm10 10l.94 2.06.94-2.06 2.06-.94-2.06-.94-.94-2.06-.94 2.06-2.06.94z\"/><path d=\"M17.41 7.96l-1.37-1.37c-.4-.4-.92-.59-1.43-.59-.52 0-1.04.2-1.43.59L10.3 9.45l-7.72 7.72c-.78.78-.78 2.05 0 2.83L4 21.41c.39.39.9.59 1.41.59.51 0 1.02-.2 1.41-.59l7.78-7.78 2.81-2.81c.8-.78.8-2.07 0-2.86zM5.41 20L4 18.59l7.72-7.72 1.47 1.35L5.41 20z\"/>\n",
              "  </svg>\n",
              "      </button>\n",
              "      \n",
              "  <style>\n",
              "    .colab-df-container {\n",
              "      display:flex;\n",
              "      flex-wrap:wrap;\n",
              "      gap: 12px;\n",
              "    }\n",
              "\n",
              "    .colab-df-convert {\n",
              "      background-color: #E8F0FE;\n",
              "      border: none;\n",
              "      border-radius: 50%;\n",
              "      cursor: pointer;\n",
              "      display: none;\n",
              "      fill: #1967D2;\n",
              "      height: 32px;\n",
              "      padding: 0 0 0 0;\n",
              "      width: 32px;\n",
              "    }\n",
              "\n",
              "    .colab-df-convert:hover {\n",
              "      background-color: #E2EBFA;\n",
              "      box-shadow: 0px 1px 2px rgba(60, 64, 67, 0.3), 0px 1px 3px 1px rgba(60, 64, 67, 0.15);\n",
              "      fill: #174EA6;\n",
              "    }\n",
              "\n",
              "    [theme=dark] .colab-df-convert {\n",
              "      background-color: #3B4455;\n",
              "      fill: #D2E3FC;\n",
              "    }\n",
              "\n",
              "    [theme=dark] .colab-df-convert:hover {\n",
              "      background-color: #434B5C;\n",
              "      box-shadow: 0px 1px 3px 1px rgba(0, 0, 0, 0.15);\n",
              "      filter: drop-shadow(0px 1px 2px rgba(0, 0, 0, 0.3));\n",
              "      fill: #FFFFFF;\n",
              "    }\n",
              "  </style>\n",
              "\n",
              "      <script>\n",
              "        const buttonEl =\n",
              "          document.querySelector('#df-76640c33-1ad9-4d4a-988a-5a435f98aeaf button.colab-df-convert');\n",
              "        buttonEl.style.display =\n",
              "          google.colab.kernel.accessAllowed ? 'block' : 'none';\n",
              "\n",
              "        async function convertToInteractive(key) {\n",
              "          const element = document.querySelector('#df-76640c33-1ad9-4d4a-988a-5a435f98aeaf');\n",
              "          const dataTable =\n",
              "            await google.colab.kernel.invokeFunction('convertToInteractive',\n",
              "                                                     [key], {});\n",
              "          if (!dataTable) return;\n",
              "\n",
              "          const docLinkHtml = 'Like what you see? Visit the ' +\n",
              "            '<a target=\"_blank\" href=https://colab.research.google.com/notebooks/data_table.ipynb>data table notebook</a>'\n",
              "            + ' to learn more about interactive tables.';\n",
              "          element.innerHTML = '';\n",
              "          dataTable['output_type'] = 'display_data';\n",
              "          await google.colab.output.renderOutput(dataTable, element);\n",
              "          const docLink = document.createElement('div');\n",
              "          docLink.innerHTML = docLinkHtml;\n",
              "          element.appendChild(docLink);\n",
              "        }\n",
              "      </script>\n",
              "    </div>\n",
              "  </div>\n",
              "  "
            ]
          },
          "metadata": {},
          "execution_count": 47
        }
      ],
      "source": [
        "df_GDP"
      ]
    },
    {
      "cell_type": "code",
      "execution_count": 48,
      "id": "c0f5636b",
      "metadata": {
        "id": "c0f5636b"
      },
      "outputs": [],
      "source": [
        "df_final=pd.merge(df_GDP,df_final,left_on='Country/Territory_Country/Territory',right_on='Country Name',how='left')"
      ]
    },
    {
      "cell_type": "markdown",
      "id": "ab7902c5",
      "metadata": {
        "id": "ab7902c5"
      },
      "source": [
        "# Interest rates"
      ]
    },
    {
      "cell_type": "code",
      "execution_count": 49,
      "id": "169aee93",
      "metadata": {
        "id": "169aee93"
      },
      "outputs": [],
      "source": [
        "df_inrerestRate=get_table('https://en.wikipedia.org/wiki/List_of_sovereign_states_by_central_bank_interest_rates',0)"
      ]
    },
    {
      "cell_type": "code",
      "source": [
        "df_inrerestRate"
      ],
      "metadata": {
        "colab": {
          "base_uri": "https://localhost:8080/",
          "height": 485
        },
        "id": "GxPOln6tUHgH",
        "outputId": "8fa836e6-820a-41a1-9b54-23070d2ac2da"
      },
      "id": "GxPOln6tUHgH",
      "execution_count": 50,
      "outputs": [
        {
          "output_type": "execute_result",
          "data": {
            "text/plain": [
              "    Country or currency union  Central bank interest rate (%)  \\\n",
              "0                     Albania                            3.00   \n",
              "1                     Algeria                            3.00   \n",
              "2                      Angola                           17.00   \n",
              "3                   Argentina                           78.00   \n",
              "4                     Armenia                           10.75   \n",
              "..                        ...                             ...   \n",
              "99                 Uzbekistan                           15.00   \n",
              "100                   Vietnam                            3.50   \n",
              "101       West African States                            2.75   \n",
              "102                    Zambia                            9.25   \n",
              "103                  Zimbabwe                          150.00   \n",
              "\n",
              "    Effective date of last change  \\\n",
              "0                23 March 2023[3]   \n",
              "1                29 April 2020[4]   \n",
              "2                21 March 2023[5]   \n",
              "3                17 March 2023[6]   \n",
              "4             13 December 2022[7]   \n",
              "..                            ...   \n",
              "99              22 July 2022[100]   \n",
              "100            15 March 2023[101]   \n",
              "101         16 December 2022[102]   \n",
              "102         15 February 2023[103]   \n",
              "103         2 February 2023 [104]   \n",
              "\n",
              "     Average inflation rate 2017–2021 (%) by WB and IMF[1][2] as in the List  \\\n",
              "0                                                 1.78                         \n",
              "1                                                 4.14                         \n",
              "2                                                22.64                         \n",
              "3                                                40.85                         \n",
              "4                                                 2.62                         \n",
              "..                                                 ...                         \n",
              "99                                               13.95                         \n",
              "100                                               3.02                         \n",
              "101                                                NaN                         \n",
              "102                                              12.25                         \n",
              "103                                             183.31                         \n",
              "\n",
              "     Central bank interest rate  minus average inflation rate (2017–2021)  \n",
              "0                                                 1.22                     \n",
              "1                                                -1.14                     \n",
              "2                                                -5.64                     \n",
              "3                                                37.15                     \n",
              "4                                                 8.13                     \n",
              "..                                                 ...                     \n",
              "99                                                1.05                     \n",
              "100                                               0.48                     \n",
              "101                                                NaN                     \n",
              "102                                              -3.00                     \n",
              "103                                             -33.31                     \n",
              "\n",
              "[104 rows x 5 columns]"
            ],
            "text/html": [
              "\n",
              "  <div id=\"df-bb1f8b7e-98a3-4893-879a-9771b614eee9\">\n",
              "    <div class=\"colab-df-container\">\n",
              "      <div>\n",
              "<style scoped>\n",
              "    .dataframe tbody tr th:only-of-type {\n",
              "        vertical-align: middle;\n",
              "    }\n",
              "\n",
              "    .dataframe tbody tr th {\n",
              "        vertical-align: top;\n",
              "    }\n",
              "\n",
              "    .dataframe thead th {\n",
              "        text-align: right;\n",
              "    }\n",
              "</style>\n",
              "<table border=\"1\" class=\"dataframe\">\n",
              "  <thead>\n",
              "    <tr style=\"text-align: right;\">\n",
              "      <th></th>\n",
              "      <th>Country or currency union</th>\n",
              "      <th>Central bank interest rate (%)</th>\n",
              "      <th>Effective date of last change</th>\n",
              "      <th>Average inflation rate 2017–2021 (%) by WB and IMF[1][2] as in the List</th>\n",
              "      <th>Central bank interest rate  minus average inflation rate (2017–2021)</th>\n",
              "    </tr>\n",
              "  </thead>\n",
              "  <tbody>\n",
              "    <tr>\n",
              "      <th>0</th>\n",
              "      <td>Albania</td>\n",
              "      <td>3.00</td>\n",
              "      <td>23 March 2023[3]</td>\n",
              "      <td>1.78</td>\n",
              "      <td>1.22</td>\n",
              "    </tr>\n",
              "    <tr>\n",
              "      <th>1</th>\n",
              "      <td>Algeria</td>\n",
              "      <td>3.00</td>\n",
              "      <td>29 April 2020[4]</td>\n",
              "      <td>4.14</td>\n",
              "      <td>-1.14</td>\n",
              "    </tr>\n",
              "    <tr>\n",
              "      <th>2</th>\n",
              "      <td>Angola</td>\n",
              "      <td>17.00</td>\n",
              "      <td>21 March 2023[5]</td>\n",
              "      <td>22.64</td>\n",
              "      <td>-5.64</td>\n",
              "    </tr>\n",
              "    <tr>\n",
              "      <th>3</th>\n",
              "      <td>Argentina</td>\n",
              "      <td>78.00</td>\n",
              "      <td>17 March 2023[6]</td>\n",
              "      <td>40.85</td>\n",
              "      <td>37.15</td>\n",
              "    </tr>\n",
              "    <tr>\n",
              "      <th>4</th>\n",
              "      <td>Armenia</td>\n",
              "      <td>10.75</td>\n",
              "      <td>13 December 2022[7]</td>\n",
              "      <td>2.62</td>\n",
              "      <td>8.13</td>\n",
              "    </tr>\n",
              "    <tr>\n",
              "      <th>...</th>\n",
              "      <td>...</td>\n",
              "      <td>...</td>\n",
              "      <td>...</td>\n",
              "      <td>...</td>\n",
              "      <td>...</td>\n",
              "    </tr>\n",
              "    <tr>\n",
              "      <th>99</th>\n",
              "      <td>Uzbekistan</td>\n",
              "      <td>15.00</td>\n",
              "      <td>22 July 2022[100]</td>\n",
              "      <td>13.95</td>\n",
              "      <td>1.05</td>\n",
              "    </tr>\n",
              "    <tr>\n",
              "      <th>100</th>\n",
              "      <td>Vietnam</td>\n",
              "      <td>3.50</td>\n",
              "      <td>15 March 2023[101]</td>\n",
              "      <td>3.02</td>\n",
              "      <td>0.48</td>\n",
              "    </tr>\n",
              "    <tr>\n",
              "      <th>101</th>\n",
              "      <td>West African States</td>\n",
              "      <td>2.75</td>\n",
              "      <td>16 December 2022[102]</td>\n",
              "      <td>NaN</td>\n",
              "      <td>NaN</td>\n",
              "    </tr>\n",
              "    <tr>\n",
              "      <th>102</th>\n",
              "      <td>Zambia</td>\n",
              "      <td>9.25</td>\n",
              "      <td>15 February 2023[103]</td>\n",
              "      <td>12.25</td>\n",
              "      <td>-3.00</td>\n",
              "    </tr>\n",
              "    <tr>\n",
              "      <th>103</th>\n",
              "      <td>Zimbabwe</td>\n",
              "      <td>150.00</td>\n",
              "      <td>2 February 2023 [104]</td>\n",
              "      <td>183.31</td>\n",
              "      <td>-33.31</td>\n",
              "    </tr>\n",
              "  </tbody>\n",
              "</table>\n",
              "<p>104 rows × 5 columns</p>\n",
              "</div>\n",
              "      <button class=\"colab-df-convert\" onclick=\"convertToInteractive('df-bb1f8b7e-98a3-4893-879a-9771b614eee9')\"\n",
              "              title=\"Convert this dataframe to an interactive table.\"\n",
              "              style=\"display:none;\">\n",
              "        \n",
              "  <svg xmlns=\"http://www.w3.org/2000/svg\" height=\"24px\"viewBox=\"0 0 24 24\"\n",
              "       width=\"24px\">\n",
              "    <path d=\"M0 0h24v24H0V0z\" fill=\"none\"/>\n",
              "    <path d=\"M18.56 5.44l.94 2.06.94-2.06 2.06-.94-2.06-.94-.94-2.06-.94 2.06-2.06.94zm-11 1L8.5 8.5l.94-2.06 2.06-.94-2.06-.94L8.5 2.5l-.94 2.06-2.06.94zm10 10l.94 2.06.94-2.06 2.06-.94-2.06-.94-.94-2.06-.94 2.06-2.06.94z\"/><path d=\"M17.41 7.96l-1.37-1.37c-.4-.4-.92-.59-1.43-.59-.52 0-1.04.2-1.43.59L10.3 9.45l-7.72 7.72c-.78.78-.78 2.05 0 2.83L4 21.41c.39.39.9.59 1.41.59.51 0 1.02-.2 1.41-.59l7.78-7.78 2.81-2.81c.8-.78.8-2.07 0-2.86zM5.41 20L4 18.59l7.72-7.72 1.47 1.35L5.41 20z\"/>\n",
              "  </svg>\n",
              "      </button>\n",
              "      \n",
              "  <style>\n",
              "    .colab-df-container {\n",
              "      display:flex;\n",
              "      flex-wrap:wrap;\n",
              "      gap: 12px;\n",
              "    }\n",
              "\n",
              "    .colab-df-convert {\n",
              "      background-color: #E8F0FE;\n",
              "      border: none;\n",
              "      border-radius: 50%;\n",
              "      cursor: pointer;\n",
              "      display: none;\n",
              "      fill: #1967D2;\n",
              "      height: 32px;\n",
              "      padding: 0 0 0 0;\n",
              "      width: 32px;\n",
              "    }\n",
              "\n",
              "    .colab-df-convert:hover {\n",
              "      background-color: #E2EBFA;\n",
              "      box-shadow: 0px 1px 2px rgba(60, 64, 67, 0.3), 0px 1px 3px 1px rgba(60, 64, 67, 0.15);\n",
              "      fill: #174EA6;\n",
              "    }\n",
              "\n",
              "    [theme=dark] .colab-df-convert {\n",
              "      background-color: #3B4455;\n",
              "      fill: #D2E3FC;\n",
              "    }\n",
              "\n",
              "    [theme=dark] .colab-df-convert:hover {\n",
              "      background-color: #434B5C;\n",
              "      box-shadow: 0px 1px 3px 1px rgba(0, 0, 0, 0.15);\n",
              "      filter: drop-shadow(0px 1px 2px rgba(0, 0, 0, 0.3));\n",
              "      fill: #FFFFFF;\n",
              "    }\n",
              "  </style>\n",
              "\n",
              "      <script>\n",
              "        const buttonEl =\n",
              "          document.querySelector('#df-bb1f8b7e-98a3-4893-879a-9771b614eee9 button.colab-df-convert');\n",
              "        buttonEl.style.display =\n",
              "          google.colab.kernel.accessAllowed ? 'block' : 'none';\n",
              "\n",
              "        async function convertToInteractive(key) {\n",
              "          const element = document.querySelector('#df-bb1f8b7e-98a3-4893-879a-9771b614eee9');\n",
              "          const dataTable =\n",
              "            await google.colab.kernel.invokeFunction('convertToInteractive',\n",
              "                                                     [key], {});\n",
              "          if (!dataTable) return;\n",
              "\n",
              "          const docLinkHtml = 'Like what you see? Visit the ' +\n",
              "            '<a target=\"_blank\" href=https://colab.research.google.com/notebooks/data_table.ipynb>data table notebook</a>'\n",
              "            + ' to learn more about interactive tables.';\n",
              "          element.innerHTML = '';\n",
              "          dataTable['output_type'] = 'display_data';\n",
              "          await google.colab.output.renderOutput(dataTable, element);\n",
              "          const docLink = document.createElement('div');\n",
              "          docLink.innerHTML = docLinkHtml;\n",
              "          element.appendChild(docLink);\n",
              "        }\n",
              "      </script>\n",
              "    </div>\n",
              "  </div>\n",
              "  "
            ]
          },
          "metadata": {},
          "execution_count": 50
        }
      ]
    },
    {
      "cell_type": "code",
      "execution_count": 51,
      "id": "10863925",
      "metadata": {
        "id": "10863925"
      },
      "outputs": [],
      "source": [
        "df_inrerestRate=df_inrerestRate[['Country or currency union','Central bank interest rate (%)']]"
      ]
    },
    {
      "cell_type": "code",
      "execution_count": 52,
      "id": "88304dd9",
      "metadata": {
        "id": "88304dd9"
      },
      "outputs": [],
      "source": [
        "df_final=pd.merge(df_inrerestRate,df_final,left_on='Country or currency union',right_on='Country Name',how='left')"
      ]
    },
    {
      "cell_type": "code",
      "execution_count": 53,
      "id": "6aa82f68",
      "metadata": {
        "colab": {
          "base_uri": "https://localhost:8080/"
        },
        "id": "6aa82f68",
        "outputId": "90fefe73-6ddc-4e1d-d747-d47ad4f095f8"
      },
      "outputs": [
        {
          "output_type": "execute_result",
          "data": {
            "text/plain": [
              "Index(['Country or currency union', 'Central bank interest rate (%)',\n",
              "       'Country/Territory_Country/Territory', 'World Bank[6]_Estimate',\n",
              "       'Country_Country', 'Youth (15 to 24)_Rate', 'Adult (25+)_Rate',\n",
              "       'Elderly (65+)_Rate', 'Country_x', 'World Bank[9]', 'Country_y',\n",
              "       '< $1.90[1][5]', 'Country_x', 'Migrants per 1,000 population',\n",
              "       'Country or area', 'Internet users', 'Country Name', '2021',\n",
              "       'Country_y', 'Population'],\n",
              "      dtype='object')"
            ]
          },
          "metadata": {},
          "execution_count": 53
        }
      ],
      "source": [
        "df_final.columns"
      ]
    },
    {
      "cell_type": "code",
      "execution_count": 56,
      "id": "68c5b37f",
      "metadata": {
        "id": "68c5b37f"
      },
      "outputs": [],
      "source": [
        "df_final=df_final[['Country Name','Central bank interest rate (%)',\n",
        " 'World Bank[6]_Estimate', 'Youth (15 to 24)_Rate', 'Adult (25+)_Rate',\n",
        "       'Elderly (65+)_Rate', 'World Bank[9]',\n",
        "       '< $1.90[1][5]', 'Migrants per 1,000 population', 'Internet users','Population', '2021']]"
      ]
    },
    {
      "cell_type": "code",
      "execution_count": 57,
      "id": "0c12dd83",
      "metadata": {
        "id": "0c12dd83"
      },
      "outputs": [],
      "source": [
        "# df_final=df_final.drop(labels=101)"
      ]
    },
    {
      "cell_type": "code",
      "execution_count": 58,
      "id": "09ee6133",
      "metadata": {
        "colab": {
          "base_uri": "https://localhost:8080/"
        },
        "id": "09ee6133",
        "outputId": "e3e361bc-82ff-401b-a4ea-e67e765c0759"
      },
      "outputs": [
        {
          "output_type": "stream",
          "name": "stdout",
          "text": [
            "<class 'pandas.core.frame.DataFrame'>\n",
            "Int64Index: 104 entries, 0 to 103\n",
            "Data columns (total 12 columns):\n",
            " #   Column                          Non-Null Count  Dtype  \n",
            "---  ------                          --------------  -----  \n",
            " 0   Country Name                    76 non-null     object \n",
            " 1   Central bank interest rate (%)  104 non-null    float64\n",
            " 2   World Bank[6]_Estimate          76 non-null     object \n",
            " 3   Youth (15 to 24)_Rate           67 non-null     object \n",
            " 4   Adult (25+)_Rate                67 non-null     object \n",
            " 5   Elderly (65+)_Rate              67 non-null     object \n",
            " 6   World Bank[9]                   76 non-null     object \n",
            " 7   < $1.90[1][5]                   76 non-null     object \n",
            " 8   Migrants per 1,000 population   76 non-null     object \n",
            " 9   Internet users                  76 non-null     float64\n",
            " 10  Population                      76 non-null     float64\n",
            " 11  2021                            75 non-null     float64\n",
            "dtypes: float64(4), object(8)\n",
            "memory usage: 10.6+ KB\n"
          ]
        }
      ],
      "source": [
        "df_final.info()"
      ]
    },
    {
      "cell_type": "code",
      "execution_count": 59,
      "id": "7e3c093a",
      "metadata": {
        "id": "7e3c093a"
      },
      "outputs": [],
      "source": [
        "df_final['World Bank[6]_Estimate']=df_final['World Bank[6]_Estimate'].astype(float)"
      ]
    },
    {
      "cell_type": "code",
      "execution_count": 62,
      "id": "60e603fb",
      "metadata": {
        "id": "60e603fb"
      },
      "outputs": [],
      "source": [
        "df_final['Youth (15 to 24)_Rate']=df_final['Youth (15 to 24)_Rate'].replace({'99.8[4]':'99.8','97.7[7]':'97.7'})"
      ]
    },
    {
      "cell_type": "code",
      "execution_count": 63,
      "id": "eab8d7aa",
      "metadata": {
        "id": "eab8d7aa"
      },
      "outputs": [],
      "source": [
        "df_final['Youth (15 to 24)_Rate']=df_final['Youth (15 to 24)_Rate'].astype(float)"
      ]
    },
    {
      "cell_type": "code",
      "execution_count": 64,
      "id": "7c90cb5a",
      "metadata": {
        "id": "7c90cb5a"
      },
      "outputs": [],
      "source": [
        "df_final['Adult (25+)_Rate']=df_final['Adult (25+)_Rate'].replace({'96.8[5]':'96.8','73.8[7]':'73.8'})"
      ]
    },
    {
      "cell_type": "code",
      "execution_count": 65,
      "id": "829a1606",
      "metadata": {
        "colab": {
          "base_uri": "https://localhost:8080/"
        },
        "id": "829a1606",
        "outputId": "2f34e70a-d5f0-4cc7-ee21-157705763fac"
      },
      "outputs": [
        {
          "output_type": "execute_result",
          "data": {
            "text/plain": [
              "array(['97.2', '75.1', '66.0', '99.1', '99.7', nan, '99.8', '74.7',\n",
              "       '99.6', '92.5', '87.7', '92.0', '98.4', '96.9', '96.8', '94.7',\n",
              "       '97.4', '93.8', '83.1', '71.5', '81.3', '89.0', '75.4', '95.4',\n",
              "       '91.8', '88.1', '97.9', '78.7', '62.1', '89.5', '93.2', '94.9',\n",
              "       '98.3', '73.8', '56.0', '88.3', '78.0', '51.1', '96.1', '59.1',\n",
              "       '61.6', '94.1', '96.4', '98.7', '98.6', '70.8', '99.0', '98.8',\n",
              "       '94.0', '32.4', '94.4', '91.9', '92.9', '79.0', '70.2', '100.0',\n",
              "       '95.8', '83.0', '88.7'], dtype=object)"
            ]
          },
          "metadata": {},
          "execution_count": 65
        }
      ],
      "source": [
        "df_final['Adult (25+)_Rate'].unique()"
      ]
    },
    {
      "cell_type": "code",
      "execution_count": 66,
      "id": "f92e571d",
      "metadata": {
        "id": "f92e571d"
      },
      "outputs": [],
      "source": [
        "df_final['Adult (25+)_Rate']=df_final['Adult (25+)_Rate'].astype(float)"
      ]
    },
    {
      "cell_type": "code",
      "execution_count": 67,
      "id": "3055f17a",
      "metadata": {
        "colab": {
          "base_uri": "https://localhost:8080/"
        },
        "id": "3055f17a",
        "outputId": "7ce70a51-8cd5-4f28-b523-d9b3587b5d12"
      },
      "outputs": [
        {
          "output_type": "execute_result",
          "data": {
            "text/plain": [
              "array(['86.9', '19.5', '27.0', '97.9', '98.9', nan, '98.4', '39.4',\n",
              "       '98.6', '67.5', '40.7', '74.3', '97.5', '89.9', '73.9', '81.4',\n",
              "       '90.4', '79.8', '45.2', '99.1', '34.9', '50.7', '66.3', '45.4',\n",
              "       '70.1', '66.6', '87.7', '99.5', '54.0', '35.1', '47.1', '64.6',\n",
              "       '78.9', '95.8', '94.6', '34.1[7]', '26.0', '56.7', '49.2', '21.6',\n",
              "       '82.5', '27.1', '33.0', '77.8', '77.7', '90.1', '93.0', '96.8',\n",
              "       '24.3', '96.3', '96.6', '71.5', '3.7', '72.1', '81.0', '98.1',\n",
              "       '78.7', '82.8', '39.8', '36.1', '100.0', '97.1', '99.8', '76.9',\n",
              "       '52.3', '81.1'], dtype=object)"
            ]
          },
          "metadata": {},
          "execution_count": 67
        }
      ],
      "source": [
        "\n",
        "df_final['Elderly (65+)_Rate'].unique()"
      ]
    },
    {
      "cell_type": "code",
      "execution_count": 68,
      "id": "9622e6e7",
      "metadata": {
        "id": "9622e6e7"
      },
      "outputs": [],
      "source": [
        "df_final['Elderly (65+)_Rate']=df_final['Elderly (65+)_Rate'].replace({'34.1[7]':'34.1'})"
      ]
    },
    {
      "cell_type": "code",
      "execution_count": 69,
      "id": "d654f7f4",
      "metadata": {
        "id": "d654f7f4"
      },
      "outputs": [],
      "source": [
        "df_final['Elderly (65+)_Rate']=df_final['Elderly (65+)_Rate'].astype(float)"
      ]
    },
    {
      "cell_type": "code",
      "execution_count": 71,
      "id": "78183ecb",
      "metadata": {
        "id": "78183ecb"
      },
      "outputs": [],
      "source": [
        "df_final['World Bank[9]']=df_final['World Bank[9]'].str.replace('%', '')"
      ]
    },
    {
      "cell_type": "code",
      "execution_count": 72,
      "id": "acf806a7",
      "metadata": {
        "id": "acf806a7"
      },
      "outputs": [],
      "source": [
        "df_final['World Bank[9]']=df_final['World Bank[9]'].str.replace('—', '-')"
      ]
    },
    {
      "cell_type": "code",
      "execution_count": 73,
      "id": "7e52c959",
      "metadata": {
        "id": "7e52c959"
      },
      "outputs": [],
      "source": [
        "df_final['World Bank[9]']=df_final['World Bank[9]'].str.replace('-', '0')"
      ]
    },
    {
      "cell_type": "code",
      "execution_count": 74,
      "id": "9b87a8ef",
      "metadata": {
        "colab": {
          "base_uri": "https://localhost:8080/"
        },
        "id": "9b87a8ef",
        "outputId": "f9751a8a-291d-4dcb-a81a-6093750baa76"
      },
      "outputs": [
        {
          "output_type": "execute_result",
          "data": {
            "text/plain": [
              "array(['21.8', '5.5', '32.3', '42.0', '27.0', nan, '6.0', '24.3', '4.8',\n",
              "       '39.0', '19.3', '0', '23.8', '10.8', '10.0', '42.5', '30.0',\n",
              "       '12.1', '21.0', '58.9', '29.9', '21.3', '23.4', '59.3', '48.0',\n",
              "       '12.3', '8.8', '11.9', '9.8', '19.9', '15.7', '5.3', '36.1',\n",
              "       '50.7', '8.4', '10.3', '43.9', '26.8', '27.8', '46.1', '17.4',\n",
              "       '24.9', '40.1', '21.6', '21.9', '39.9', '26.9', '30.1', '16.7',\n",
              "       '14.8', '38.2', '20.3', '21.7', '25.3', '56.8', '55.5', '4.1',\n",
              "       '16.1', '15.5', '26.3', '6.8', '15.2', '1.1', '18.6', '11.6',\n",
              "       '14.1', '6.7', '54.4', '38.3'], dtype=object)"
            ]
          },
          "metadata": {},
          "execution_count": 74
        }
      ],
      "source": [
        "df_final['World Bank[9]'].unique()"
      ]
    },
    {
      "cell_type": "code",
      "execution_count": 75,
      "id": "de87b0ef",
      "metadata": {
        "id": "de87b0ef"
      },
      "outputs": [],
      "source": [
        "df_final['World Bank[9]']=df_final['World Bank[9]'].astype(float)"
      ]
    },
    {
      "cell_type": "code",
      "execution_count": 77,
      "id": "6b63ff0e",
      "metadata": {
        "id": "6b63ff0e"
      },
      "outputs": [],
      "source": [
        "df_final['Migrants per 1,000 population']=df_final['Migrants per 1,000 population'].str.replace('−', '-')"
      ]
    },
    {
      "cell_type": "code",
      "execution_count": 78,
      "id": "1d710239",
      "metadata": {
        "colab": {
          "base_uri": "https://localhost:8080/"
        },
        "id": "1d710239",
        "outputId": "831c8749-2d74-46c8-f83e-c5f363cafaf0"
      },
      "outputs": [
        {
          "output_type": "execute_result",
          "data": {
            "text/plain": [
              "array(['-3.2', '-0.8', '-0.2', '-0.1', '-5.4', nan, '0.0', '-2.9', '0.7',\n",
              "       '2.8', '-0.3', '5.5', '0.3', '-1.6', '0.8', '2.7', '-2.7', '-6.2',\n",
              "       '-5.9', '-1.7', '-1.3', '1.2', '2.9', '0.2', '2.0', '-7.7',\n",
              "       '-11.1', '0.4', '1.5', '-0.7', '-8.8', '-2.2', '-0.4', '-1.0',\n",
              "       '-4.4', '-7.5', '-2.0', '-1.2', '3.6', '4.5', '-3.3', '3.0',\n",
              "       '-0.9', '-1.8', '-4.8'], dtype=object)"
            ]
          },
          "metadata": {},
          "execution_count": 78
        }
      ],
      "source": [
        "df_final['Migrants per 1,000 population'].unique()"
      ]
    },
    {
      "cell_type": "code",
      "execution_count": 79,
      "id": "f3fab687",
      "metadata": {
        "id": "f3fab687"
      },
      "outputs": [],
      "source": [
        "df_final['Migrants per 1,000 population']=df_final['Migrants per 1,000 population'].astype(float)"
      ]
    },
    {
      "cell_type": "code",
      "execution_count": 80,
      "id": "eb5b6caa",
      "metadata": {
        "id": "eb5b6caa"
      },
      "outputs": [],
      "source": [
        "df_final['< $1.90[1][5]']=df_final['< $1.90[1][5]'].str.replace('%', '')"
      ]
    },
    {
      "cell_type": "code",
      "execution_count": 81,
      "id": "cea6f17c",
      "metadata": {
        "id": "cea6f17c"
      },
      "outputs": [],
      "source": [
        "df_final['< $1.90[1][5]']=df_final['< $1.90[1][5]'].astype(float)"
      ]
    },
    {
      "cell_type": "code",
      "execution_count": 81,
      "id": "f47efb21",
      "metadata": {
        "id": "f47efb21"
      },
      "outputs": [],
      "source": []
    },
    {
      "cell_type": "code",
      "execution_count": 83,
      "id": "4d6cf893",
      "metadata": {
        "id": "4d6cf893"
      },
      "outputs": [],
      "source": [
        "df_final=df_final.rename(columns={'< $1.90[1][5]':'Poverty(< $1.90)','World Bank[9]':'belowPovertyLine','World Bank[6]_Estimate':'GDP',\n",
        "                                  'Youth (15 to 24)_Rate':'Literacy_rate_Youth','Adult (25+)_Rate':'Literacy_rate_Adult',\n",
        "                                 'Elderly (65+)_Rate':'Literacy_rate_Elder','2021':'Unemploymentrate_2021'})"
      ]
    },
    {
      "cell_type": "code",
      "execution_count": 85,
      "id": "2809c928",
      "metadata": {
        "id": "2809c928"
      },
      "outputs": [],
      "source": [
        "df_final=df_final[['Country Name', 'Central bank interest rate (%)', 'GDP',\n",
        "       'Literacy_rate_Youth', 'Literacy_rate_Adult', 'Literacy_rate_Elder',\n",
        "       'belowPovertyLine', 'Poverty(< $1.90)', 'Migrants per 1,000 population',\n",
        "       'Internet users', 'Population','Unemploymentrate_2021']]"
      ]
    },
    {
      "cell_type": "markdown",
      "id": "40c65af6",
      "metadata": {
        "id": "40c65af6"
      },
      "source": [
        "# Scatterplots for each of features vs Unemployment"
      ]
    },
    {
      "cell_type": "code",
      "execution_count": 86,
      "id": "339fc859",
      "metadata": {
        "colab": {
          "base_uri": "https://localhost:8080/",
          "height": 470
        },
        "id": "339fc859",
        "outputId": "22400122-8b32-4de4-b3e0-9999b2ef8c5a"
      },
      "outputs": [
        {
          "output_type": "execute_result",
          "data": {
            "text/plain": [
              "<Axes: xlabel='Central bank interest rate (%)', ylabel='Unemploymentrate_2021'>"
            ]
          },
          "metadata": {},
          "execution_count": 86
        },
        {
          "output_type": "display_data",
          "data": {
            "text/plain": [
              "<Figure size 640x480 with 1 Axes>"
            ],
            "image/png": "[encoded data removed]"
          },
          "metadata": {}
        }
      ],
      "source": [
        "sns.scatterplot(x='Central bank interest rate (%)',y='Unemploymentrate_2021',data=df_final)"
      ]
    },
    {
      "cell_type": "code",
      "execution_count": 87,
      "id": "6c9263db",
      "metadata": {
        "colab": {
          "base_uri": "https://localhost:8080/",
          "height": 470
        },
        "id": "6c9263db",
        "outputId": "3a3c726f-67b4-46ee-981b-b04b4ceaec7a"
      },
      "outputs": [
        {
          "output_type": "execute_result",
          "data": {
            "text/plain": [
              "<Axes: xlabel='GDP', ylabel='Unemploymentrate_2021'>"
            ]
          },
          "metadata": {},
          "execution_count": 87
        },
        {
          "output_type": "display_data",
          "data": {
            "text/plain": [
              "<Figure size 640x480 with 1 Axes>"
            ],
            "image/png": "[encoded data removed]"
          },
          "metadata": {}
        }
      ],
      "source": [
        "sns.scatterplot(x='GDP',y='Unemploymentrate_2021',data=df_final)"
      ]
    },
    {
      "cell_type": "code",
      "execution_count": 88,
      "id": "0f9c218f",
      "metadata": {
        "colab": {
          "base_uri": "https://localhost:8080/",
          "height": 470
        },
        "id": "0f9c218f",
        "outputId": "ff489276-9a49-4691-ad1d-6c7aa2c2bca6"
      },
      "outputs": [
        {
          "output_type": "execute_result",
          "data": {
            "text/plain": [
              "<Axes: xlabel='Literacy_rate_Adult', ylabel='Unemploymentrate_2021'>"
            ]
          },
          "metadata": {},
          "execution_count": 88
        },
        {
          "output_type": "display_data",
          "data": {
            "text/plain": [
              "<Figure size 640x480 with 1 Axes>"
            ],
            "image/png": "[encoded data removed]"
          },
          "metadata": {}
        }
      ],
      "source": [
        "sns.scatterplot(x='Literacy_rate_Adult',y='Unemploymentrate_2021',data=df_final)"
      ]
    },
    {
      "cell_type": "code",
      "execution_count": 89,
      "id": "1a322e24",
      "metadata": {
        "colab": {
          "base_uri": "https://localhost:8080/",
          "height": 470
        },
        "id": "1a322e24",
        "outputId": "0cb67b44-7219-4a76-915f-d20b7512274e"
      },
      "outputs": [
        {
          "output_type": "execute_result",
          "data": {
            "text/plain": [
              "<Axes: xlabel='belowPovertyLine', ylabel='Unemploymentrate_2021'>"
            ]
          },
          "metadata": {},
          "execution_count": 89
        },
        {
          "output_type": "display_data",
          "data": {
            "text/plain": [
              "<Figure size 640x480 with 1 Axes>"
            ],
            "image/png": "[encoded data removed]"
          },
          "metadata": {}
        }
      ],
      "source": [
        "sns.scatterplot(x='belowPovertyLine',y='Unemploymentrate_2021',data=df_final)"
      ]
    },
    {
      "cell_type": "code",
      "execution_count": 91,
      "id": "c80f44cb",
      "metadata": {
        "colab": {
          "base_uri": "https://localhost:8080/",
          "height": 470
        },
        "id": "c80f44cb",
        "outputId": "b2e5ef51-5799-44d5-bf56-47887e81aa02"
      },
      "outputs": [
        {
          "output_type": "execute_result",
          "data": {
            "text/plain": [
              "<Axes: xlabel='Migrants per 1,000 population', ylabel='Unemploymentrate_2021'>"
            ]
          },
          "metadata": {},
          "execution_count": 91
        },
        {
          "output_type": "display_data",
          "data": {
            "text/plain": [
              "<Figure size 640x480 with 1 Axes>"
            ],
            "image/png": "[encoded data removed]"
          },
          "metadata": {}
        }
      ],
      "source": [
        "\n",
        "sns.scatterplot(x='Migrants per 1,000 population',y='Unemploymentrate_2021',data=df_final)"
      ]
    },
    {
      "cell_type": "code",
      "execution_count": 92,
      "id": "0af3949f",
      "metadata": {
        "colab": {
          "base_uri": "https://localhost:8080/",
          "height": 470
        },
        "id": "0af3949f",
        "outputId": "d3ec6019-7880-4bf1-eb59-f22cc7b67341"
      },
      "outputs": [
        {
          "output_type": "execute_result",
          "data": {
            "text/plain": [
              "<Axes: xlabel='Population', ylabel='Unemploymentrate_2021'>"
            ]
          },
          "metadata": {},
          "execution_count": 92
        },
        {
          "output_type": "display_data",
          "data": {
            "text/plain": [
              "<Figure size 640x480 with 1 Axes>"
            ],
            "image/png": "[encoded data removed]"
          },
          "metadata": {}
        }
      ],
      "source": [
        "sns.scatterplot(x='Population',y='Unemploymentrate_2021',data=df_final)"
      ]
    },
    {
      "cell_type": "code",
      "execution_count": null,
      "id": "0aae997b",
      "metadata": {
        "id": "0aae997b"
      },
      "outputs": [],
      "source": [
        "# import seaborn as sns\n",
        "# import matplotlib.pyplot as plt\n",
        "\n",
        "# # Get the list of column names in the DataFrame\n",
        "# column_names = df_final.columns.tolist()\n",
        "\n",
        "# # Remove the target variable from the list of column names\n",
        "# column_names.remove('Unemploymentrate_2021')\n",
        "\n",
        "# # Create a figure with subplots for each column\n",
        "# fig, axes = plt.subplots(nrows=len(column_names), ncols=1, figsize=(10, 30))\n",
        "\n",
        "# # Loop through each column and plot against the target variable\n",
        "# for i, col in enumerate(column_names):\n",
        "#     sns.scatterplot(x=col, y='Unemploymentrate_2021', data=df_final, ax=axes[i])\n",
        "#     axes[i].set_xlabel(col)\n",
        "#     axes[i].set_ylabel('Unemploymentrate_2021')\n",
        "\n",
        "# # Adjust the layout of the subplots\n",
        "# plt.tight_layout()\n",
        "# plt.show()\n",
        "\n"
      ]
    },
    {
      "cell_type": "code",
      "execution_count": 93,
      "id": "23f611b0",
      "metadata": {
        "colab": {
          "base_uri": "https://localhost:8080/"
        },
        "id": "23f611b0",
        "outputId": "f01329f0-32c9-4061-95ad-cb8bc9393638"
      },
      "outputs": [
        {
          "output_type": "stream",
          "name": "stderr",
          "text": [
            "<ipython-input-93-0841f7c21fdc>:1: FutureWarning: The default value of numeric_only in DataFrame.corr is deprecated. In a future version, it will default to False. Select only valid columns or specify the value of numeric_only to silence this warning.\n",
            "  corr=df_final.corr()\n"
          ]
        }
      ],
      "source": [
        "corr=df_final.corr()"
      ]
    },
    {
      "cell_type": "code",
      "execution_count": 94,
      "id": "21526962",
      "metadata": {
        "colab": {
          "base_uri": "https://localhost:8080/",
          "height": 649
        },
        "id": "21526962",
        "outputId": "71aab86b-5d86-46e6-b44d-3b77a9916dbf"
      },
      "outputs": [
        {
          "output_type": "execute_result",
          "data": {
            "text/plain": [
              "<Axes: >"
            ]
          },
          "metadata": {},
          "execution_count": 94
        },
        {
          "output_type": "display_data",
          "data": {
            "text/plain": [
              "<Figure size 640x480 with 2 Axes>"
            ],
            "image/png": "[encoded data removed]"
          },
          "metadata": {}
        }
      ],
      "source": [
        "sns.heatmap(corr, cmap='coolwarm', annot=True)"
      ]
    },
    {
      "cell_type": "code",
      "execution_count": 95,
      "id": "090b75a7",
      "metadata": {
        "colab": {
          "base_uri": "https://localhost:8080/"
        },
        "id": "090b75a7",
        "outputId": "80c5c551-f658-4023-bc46-64a7648fa5d1"
      },
      "outputs": [
        {
          "output_type": "stream",
          "name": "stderr",
          "text": [
            "<ipython-input-95-49da03d8b5f3>:1: FutureWarning: The default value of numeric_only in DataFrame.mean is deprecated. In a future version, it will default to False. In addition, specifying 'numeric_only=None' is deprecated. Select only valid columns or specify the value of numeric_only to silence this warning.\n",
            "  col_means = df_final.mean()\n"
          ]
        }
      ],
      "source": [
        "col_means = df_final.mean()\n",
        "df_final=df_final.fillna(col_means)"
      ]
    },
    {
      "cell_type": "code",
      "execution_count": 97,
      "id": "62dd9308",
      "metadata": {
        "colab": {
          "base_uri": "https://localhost:8080/",
          "height": 539
        },
        "id": "62dd9308",
        "outputId": "5f8b6f33-c1fb-4d4b-ea26-4d5d4d43c177"
      },
      "outputs": [
        {
          "output_type": "execute_result",
          "data": {
            "text/plain": [
              "    Country Name  Central bank interest rate (%)           GDP  \\\n",
              "0        Albania                            3.00   6493.000000   \n",
              "1        Algeria                            3.00   3691.000000   \n",
              "2         Angola                           17.00   1954.000000   \n",
              "3      Argentina                           78.00  10636.000000   \n",
              "4        Armenia                           10.75   4967.000000   \n",
              "..           ...                             ...           ...   \n",
              "99    Uzbekistan                           15.00   1983.000000   \n",
              "100      Vietnam                            3.50   3757.000000   \n",
              "101          NaN                            2.75  12667.921053   \n",
              "102       Zambia                            9.25   1137.000000   \n",
              "103     Zimbabwe                          150.00   1774.000000   \n",
              "\n",
              "     Literacy_rate_Youth  Literacy_rate_Adult  Literacy_rate_Elder  \\\n",
              "0              99.200000            97.200000            86.900000   \n",
              "1              93.800000            75.100000            19.500000   \n",
              "2              77.400000            66.000000            27.000000   \n",
              "3              99.500000            99.100000            97.900000   \n",
              "4              99.800000            99.700000            98.900000   \n",
              "..                   ...                  ...                  ...   \n",
              "99            100.000000           100.000000            99.800000   \n",
              "100            97.100000            95.800000            76.900000   \n",
              "101            94.119403            87.789552            69.108955   \n",
              "102            88.700000            83.000000            52.300000   \n",
              "103            90.400000            88.700000            81.100000   \n",
              "\n",
              "     belowPovertyLine  Poverty(< $1.90)  Migrants per 1,000 population  \\\n",
              "0           21.800000         10.000000                      -3.200000   \n",
              "1            5.500000          0.320000                      -0.800000   \n",
              "2           32.300000         51.400000                      -0.200000   \n",
              "3           42.000000          1.600000                      -0.100000   \n",
              "4           27.000000          0.400000                      -5.400000   \n",
              "..                ...               ...                            ...   \n",
              "99          14.100000         10.680000                      -1.800000   \n",
              "100          6.700000          1.350000                      -0.200000   \n",
              "101         22.318421          9.585658                      -0.892105   \n",
              "102         54.400000         58.520000                       0.200000   \n",
              "103         38.300000         39.500000                      -4.800000   \n",
              "\n",
              "     Internet users    Population  Unemploymentrate_2021  \n",
              "0      2.105339e+06  2.793592e+06              12.683000  \n",
              "1      3.209000e+07  4.540000e+07              11.747000  \n",
              "2      4.271053e+06  3.308628e+07              10.384000  \n",
              "3      3.356188e+07  4.604470e+07               8.740000  \n",
              "4      2.043110e+06  2.976800e+06              12.729000  \n",
              "..              ...           ...                    ...  \n",
              "99     1.669246e+07  3.616734e+07               6.017000  \n",
              "100    6.817213e+07  9.946000e+07               2.380000  \n",
              "101    5.227655e+07  7.738114e+07               7.990173  \n",
              "102    4.760715e+06  1.961077e+07               6.220000  \n",
              "103    4.472992e+06  1.517898e+07               8.067000  \n",
              "\n",
              "[104 rows x 12 columns]"
            ],
            "text/html": [
              "\n",
              "  <div id=\"df-58dfb49f-28c7-4612-a9de-95d2c80e9c9d\">\n",
              "    <div class=\"colab-df-container\">\n",
              "      <div>\n",
              "<style scoped>\n",
              "    .dataframe tbody tr th:only-of-type {\n",
              "        vertical-align: middle;\n",
              "    }\n",
              "\n",
              "    .dataframe tbody tr th {\n",
              "        vertical-align: top;\n",
              "    }\n",
              "\n",
              "    .dataframe thead th {\n",
              "        text-align: right;\n",
              "    }\n",
              "</style>\n",
              "<table border=\"1\" class=\"dataframe\">\n",
              "  <thead>\n",
              "    <tr style=\"text-align: right;\">\n",
              "      <th></th>\n",
              "      <th>Country Name</th>\n",
              "      <th>Central bank interest rate (%)</th>\n",
              "      <th>GDP</th>\n",
              "      <th>Literacy_rate_Youth</th>\n",
              "      <th>Literacy_rate_Adult</th>\n",
              "      <th>Literacy_rate_Elder</th>\n",
              "      <th>belowPovertyLine</th>\n",
              "      <th>Poverty(&lt; $1.90)</th>\n",
              "      <th>Migrants per 1,000 population</th>\n",
              "      <th>Internet users</th>\n",
              "      <th>Population</th>\n",
              "      <th>Unemploymentrate_2021</th>\n",
              "    </tr>\n",
              "  </thead>\n",
              "  <tbody>\n",
              "    <tr>\n",
              "      <th>0</th>\n",
              "      <td>Albania</td>\n",
              "      <td>3.00</td>\n",
              "      <td>6493.000000</td>\n",
              "      <td>99.200000</td>\n",
              "      <td>97.200000</td>\n",
              "      <td>86.900000</td>\n",
              "      <td>21.800000</td>\n",
              "      <td>10.000000</td>\n",
              "      <td>-3.200000</td>\n",
              "      <td>2.105339e+06</td>\n",
              "      <td>2.793592e+06</td>\n",
              "      <td>12.683000</td>\n",
              "    </tr>\n",
              "    <tr>\n",
              "      <th>1</th>\n",
              "      <td>Algeria</td>\n",
              "      <td>3.00</td>\n",
              "      <td>3691.000000</td>\n",
              "      <td>93.800000</td>\n",
              "      <td>75.100000</td>\n",
              "      <td>19.500000</td>\n",
              "      <td>5.500000</td>\n",
              "      <td>0.320000</td>\n",
              "      <td>-0.800000</td>\n",
              "      <td>3.209000e+07</td>\n",
              "      <td>4.540000e+07</td>\n",
              "      <td>11.747000</td>\n",
              "    </tr>\n",
              "    <tr>\n",
              "      <th>2</th>\n",
              "      <td>Angola</td>\n",
              "      <td>17.00</td>\n",
              "      <td>1954.000000</td>\n",
              "      <td>77.400000</td>\n",
              "      <td>66.000000</td>\n",
              "      <td>27.000000</td>\n",
              "      <td>32.300000</td>\n",
              "      <td>51.400000</td>\n",
              "      <td>-0.200000</td>\n",
              "      <td>4.271053e+06</td>\n",
              "      <td>3.308628e+07</td>\n",
              "      <td>10.384000</td>\n",
              "    </tr>\n",
              "    <tr>\n",
              "      <th>3</th>\n",
              "      <td>Argentina</td>\n",
              "      <td>78.00</td>\n",
              "      <td>10636.000000</td>\n",
              "      <td>99.500000</td>\n",
              "      <td>99.100000</td>\n",
              "      <td>97.900000</td>\n",
              "      <td>42.000000</td>\n",
              "      <td>1.600000</td>\n",
              "      <td>-0.100000</td>\n",
              "      <td>3.356188e+07</td>\n",
              "      <td>4.604470e+07</td>\n",
              "      <td>8.740000</td>\n",
              "    </tr>\n",
              "    <tr>\n",
              "      <th>4</th>\n",
              "      <td>Armenia</td>\n",
              "      <td>10.75</td>\n",
              "      <td>4967.000000</td>\n",
              "      <td>99.800000</td>\n",
              "      <td>99.700000</td>\n",
              "      <td>98.900000</td>\n",
              "      <td>27.000000</td>\n",
              "      <td>0.400000</td>\n",
              "      <td>-5.400000</td>\n",
              "      <td>2.043110e+06</td>\n",
              "      <td>2.976800e+06</td>\n",
              "      <td>12.729000</td>\n",
              "    </tr>\n",
              "    <tr>\n",
              "      <th>...</th>\n",
              "      <td>...</td>\n",
              "      <td>...</td>\n",
              "      <td>...</td>\n",
              "      <td>...</td>\n",
              "      <td>...</td>\n",
              "      <td>...</td>\n",
              "      <td>...</td>\n",
              "      <td>...</td>\n",
              "      <td>...</td>\n",
              "      <td>...</td>\n",
              "      <td>...</td>\n",
              "      <td>...</td>\n",
              "    </tr>\n",
              "    <tr>\n",
              "      <th>99</th>\n",
              "      <td>Uzbekistan</td>\n",
              "      <td>15.00</td>\n",
              "      <td>1983.000000</td>\n",
              "      <td>100.000000</td>\n",
              "      <td>100.000000</td>\n",
              "      <td>99.800000</td>\n",
              "      <td>14.100000</td>\n",
              "      <td>10.680000</td>\n",
              "      <td>-1.800000</td>\n",
              "      <td>1.669246e+07</td>\n",
              "      <td>3.616734e+07</td>\n",
              "      <td>6.017000</td>\n",
              "    </tr>\n",
              "    <tr>\n",
              "      <th>100</th>\n",
              "      <td>Vietnam</td>\n",
              "      <td>3.50</td>\n",
              "      <td>3757.000000</td>\n",
              "      <td>97.100000</td>\n",
              "      <td>95.800000</td>\n",
              "      <td>76.900000</td>\n",
              "      <td>6.700000</td>\n",
              "      <td>1.350000</td>\n",
              "      <td>-0.200000</td>\n",
              "      <td>6.817213e+07</td>\n",
              "      <td>9.946000e+07</td>\n",
              "      <td>2.380000</td>\n",
              "    </tr>\n",
              "    <tr>\n",
              "      <th>101</th>\n",
              "      <td>NaN</td>\n",
              "      <td>2.75</td>\n",
              "      <td>12667.921053</td>\n",
              "      <td>94.119403</td>\n",
              "      <td>87.789552</td>\n",
              "      <td>69.108955</td>\n",
              "      <td>22.318421</td>\n",
              "      <td>9.585658</td>\n",
              "      <td>-0.892105</td>\n",
              "      <td>5.227655e+07</td>\n",
              "      <td>7.738114e+07</td>\n",
              "      <td>7.990173</td>\n",
              "    </tr>\n",
              "    <tr>\n",
              "      <th>102</th>\n",
              "      <td>Zambia</td>\n",
              "      <td>9.25</td>\n",
              "      <td>1137.000000</td>\n",
              "      <td>88.700000</td>\n",
              "      <td>83.000000</td>\n",
              "      <td>52.300000</td>\n",
              "      <td>54.400000</td>\n",
              "      <td>58.520000</td>\n",
              "      <td>0.200000</td>\n",
              "      <td>4.760715e+06</td>\n",
              "      <td>1.961077e+07</td>\n",
              "      <td>6.220000</td>\n",
              "    </tr>\n",
              "    <tr>\n",
              "      <th>103</th>\n",
              "      <td>Zimbabwe</td>\n",
              "      <td>150.00</td>\n",
              "      <td>1774.000000</td>\n",
              "      <td>90.400000</td>\n",
              "      <td>88.700000</td>\n",
              "      <td>81.100000</td>\n",
              "      <td>38.300000</td>\n",
              "      <td>39.500000</td>\n",
              "      <td>-4.800000</td>\n",
              "      <td>4.472992e+06</td>\n",
              "      <td>1.517898e+07</td>\n",
              "      <td>8.067000</td>\n",
              "    </tr>\n",
              "  </tbody>\n",
              "</table>\n",
              "<p>104 rows × 12 columns</p>\n",
              "</div>\n",
              "      <button class=\"colab-df-convert\" onclick=\"convertToInteractive('df-58dfb49f-28c7-4612-a9de-95d2c80e9c9d')\"\n",
              "              title=\"Convert this dataframe to an interactive table.\"\n",
              "              style=\"display:none;\">\n",
              "        \n",
              "  <svg xmlns=\"http://www.w3.org/2000/svg\" height=\"24px\"viewBox=\"0 0 24 24\"\n",
              "       width=\"24px\">\n",
              "    <path d=\"M0 0h24v24H0V0z\" fill=\"none\"/>\n",
              "    <path d=\"M18.56 5.44l.94 2.06.94-2.06 2.06-.94-2.06-.94-.94-2.06-.94 2.06-2.06.94zm-11 1L8.5 8.5l.94-2.06 2.06-.94-2.06-.94L8.5 2.5l-.94 2.06-2.06.94zm10 10l.94 2.06.94-2.06 2.06-.94-2.06-.94-.94-2.06-.94 2.06-2.06.94z\"/><path d=\"M17.41 7.96l-1.37-1.37c-.4-.4-.92-.59-1.43-.59-.52 0-1.04.2-1.43.59L10.3 9.45l-7.72 7.72c-.78.78-.78 2.05 0 2.83L4 21.41c.39.39.9.59 1.41.59.51 0 1.02-.2 1.41-.59l7.78-7.78 2.81-2.81c.8-.78.8-2.07 0-2.86zM5.41 20L4 18.59l7.72-7.72 1.47 1.35L5.41 20z\"/>\n",
              "  </svg>\n",
              "      </button>\n",
              "      \n",
              "  <style>\n",
              "    .colab-df-container {\n",
              "      display:flex;\n",
              "      flex-wrap:wrap;\n",
              "      gap: 12px;\n",
              "    }\n",
              "\n",
              "    .colab-df-convert {\n",
              "      background-color: #E8F0FE;\n",
              "      border: none;\n",
              "      border-radius: 50%;\n",
              "      cursor: pointer;\n",
              "      display: none;\n",
              "      fill: #1967D2;\n",
              "      height: 32px;\n",
              "      padding: 0 0 0 0;\n",
              "      width: 32px;\n",
              "    }\n",
              "\n",
              "    .colab-df-convert:hover {\n",
              "      background-color: #E2EBFA;\n",
              "      box-shadow: 0px 1px 2px rgba(60, 64, 67, 0.3), 0px 1px 3px 1px rgba(60, 64, 67, 0.15);\n",
              "      fill: #174EA6;\n",
              "    }\n",
              "\n",
              "    [theme=dark] .colab-df-convert {\n",
              "      background-color: #3B4455;\n",
              "      fill: #D2E3FC;\n",
              "    }\n",
              "\n",
              "    [theme=dark] .colab-df-convert:hover {\n",
              "      background-color: #434B5C;\n",
              "      box-shadow: 0px 1px 3px 1px rgba(0, 0, 0, 0.15);\n",
              "      filter: drop-shadow(0px 1px 2px rgba(0, 0, 0, 0.3));\n",
              "      fill: #FFFFFF;\n",
              "    }\n",
              "  </style>\n",
              "\n",
              "      <script>\n",
              "        const buttonEl =\n",
              "          document.querySelector('#df-58dfb49f-28c7-4612-a9de-95d2c80e9c9d button.colab-df-convert');\n",
              "        buttonEl.style.display =\n",
              "          google.colab.kernel.accessAllowed ? 'block' : 'none';\n",
              "\n",
              "        async function convertToInteractive(key) {\n",
              "          const element = document.querySelector('#df-58dfb49f-28c7-4612-a9de-95d2c80e9c9d');\n",
              "          const dataTable =\n",
              "            await google.colab.kernel.invokeFunction('convertToInteractive',\n",
              "                                                     [key], {});\n",
              "          if (!dataTable) return;\n",
              "\n",
              "          const docLinkHtml = 'Like what you see? Visit the ' +\n",
              "            '<a target=\"_blank\" href=https://colab.research.google.com/notebooks/data_table.ipynb>data table notebook</a>'\n",
              "            + ' to learn more about interactive tables.';\n",
              "          element.innerHTML = '';\n",
              "          dataTable['output_type'] = 'display_data';\n",
              "          await google.colab.output.renderOutput(dataTable, element);\n",
              "          const docLink = document.createElement('div');\n",
              "          docLink.innerHTML = docLinkHtml;\n",
              "          element.appendChild(docLink);\n",
              "        }\n",
              "      </script>\n",
              "    </div>\n",
              "  </div>\n",
              "  "
            ]
          },
          "metadata": {},
          "execution_count": 97
        }
      ],
      "source": [
        "df_final"
      ]
    },
    {
      "cell_type": "code",
      "execution_count": 98,
      "id": "120c780c",
      "metadata": {
        "id": "120c780c"
      },
      "outputs": [],
      "source": [
        "X=df_final.drop(columns=['Country Name','Unemploymentrate_2021'])\n",
        "\n",
        "y=df_final['Unemploymentrate_2021']"
      ]
    },
    {
      "cell_type": "markdown",
      "id": "06159b12",
      "metadata": {
        "id": "06159b12"
      },
      "source": [
        "# RandomForest Regression"
      ]
    },
    {
      "cell_type": "code",
      "execution_count": 99,
      "id": "0e2e1d3f",
      "metadata": {
        "colab": {
          "base_uri": "https://localhost:8080/"
        },
        "id": "0e2e1d3f",
        "outputId": "2a9b7e9a-c16e-41ca-da10-a9bd27a01b17"
      },
      "outputs": [
        {
          "output_type": "stream",
          "name": "stdout",
          "text": [
            "0.8491438289157307\n"
          ]
        }
      ],
      "source": [
        "# Create and train the model\n",
        "rf = RandomForestRegressor(n_estimators=100, random_state=42)\n",
        "rf.fit(X, y)\n",
        "print(rf.score(X,y))"
      ]
    },
    {
      "cell_type": "code",
      "execution_count": 100,
      "id": "1e0e6413",
      "metadata": {
        "colab": {
          "base_uri": "https://localhost:8080/"
        },
        "id": "1e0e6413",
        "outputId": "72fcca9f-efb2-4659-8196-cecaf406792e"
      },
      "outputs": [
        {
          "output_type": "stream",
          "name": "stdout",
          "text": [
            "R2 scores: [ 0.28759555  0.06829748  0.19199605 -0.01823022 -0.35524746]\n",
            "Mean R2 score: 0.03488228021854269\n",
            "Standard deviation: 0.22121819856825764\n"
          ]
        }
      ],
      "source": [
        "# Create a Random Forest Regressor with 100 trees\n",
        "rf = RandomForestRegressor(n_estimators=300, random_state=42)\n",
        "\n",
        "# Perform 5-fold cross-validation\n",
        "scores = cross_val_score(rf, X, y, cv=5, scoring='r2')\n",
        "\n",
        "# Print the R2 scores for each fold\n",
        "print(\"R2 scores:\", scores)\n",
        "\n",
        "# Print the mean and standard deviation of the scores\n",
        "print(\"Mean R2 score:\", scores.mean())\n",
        "print(\"Standard deviation:\", scores.std())"
      ]
    },
    {
      "cell_type": "markdown",
      "id": "8b9fc2ac",
      "metadata": {
        "id": "8b9fc2ac"
      },
      "source": [
        "chaged the n_estimator values here manually nad got better results for 300."
      ]
    },
    {
      "cell_type": "markdown",
      "id": "1f03b56b",
      "metadata": {
        "id": "1f03b56b"
      },
      "source": [
        "# Linear Regression"
      ]
    },
    {
      "cell_type": "code",
      "execution_count": 101,
      "id": "6654ef66",
      "metadata": {
        "colab": {
          "base_uri": "https://localhost:8080/"
        },
        "id": "6654ef66",
        "outputId": "d56191d2-72bc-46ae-a6d7-0b2564924b28"
      },
      "outputs": [
        {
          "output_type": "stream",
          "name": "stdout",
          "text": [
            "0.2544955745927868\n"
          ]
        }
      ],
      "source": [
        "lm = LinearRegression()\n",
        "lm.fit(X,y)\n",
        "print(lm.score(X,y))"
      ]
    },
    {
      "cell_type": "code",
      "execution_count": 102,
      "id": "1210f724",
      "metadata": {
        "colab": {
          "base_uri": "https://localhost:8080/"
        },
        "id": "1210f724",
        "outputId": "45e30109-5ecb-4724-a023-b85d19d5f68f"
      },
      "outputs": [
        {
          "output_type": "stream",
          "name": "stdout",
          "text": [
            "R2 scores: [ 0.01986572  0.22173769  0.01149843 -0.1594726  -1.03423851]\n",
            "Mean R2 score: -0.18812185437545312\n",
            "Standard deviation: 0.43996047708238545\n"
          ]
        }
      ],
      "source": [
        "# Perform 5-fold cross-validation\n",
        "scores = cross_val_score(lm, X, y, cv=5, scoring='r2')\n",
        "\n",
        "# Print the R2 scores for each fold\n",
        "print(\"R2 scores:\", scores)\n",
        "\n",
        "# Print the mean and standard deviation of the scores\n",
        "print(\"Mean R2 score:\", scores.mean())\n",
        "print(\"Standard deviation:\", scores.std())"
      ]
    },
    {
      "cell_type": "markdown",
      "id": "db1a81af",
      "metadata": {
        "id": "db1a81af"
      },
      "source": [
        "# DecisionTree regression"
      ]
    },
    {
      "cell_type": "code",
      "execution_count": 103,
      "id": "c0d9c87e",
      "metadata": {
        "colab": {
          "base_uri": "https://localhost:8080/"
        },
        "id": "c0d9c87e",
        "outputId": "a7b23cc3-ac45-48f8-aff1-bdc9ee630c4d"
      },
      "outputs": [
        {
          "output_type": "stream",
          "name": "stdout",
          "text": [
            "0.8238569955094329\n"
          ]
        }
      ],
      "source": [
        "# Create a Decision Tree Regressor with a maximum depth of 5\n",
        "dt = DecisionTreeRegressor(max_depth=5, random_state=42)\n",
        "dt.fit(X, y)\n",
        "print(dt.score(X,y))"
      ]
    },
    {
      "cell_type": "code",
      "execution_count": 104,
      "id": "b9979ead",
      "metadata": {
        "colab": {
          "base_uri": "https://localhost:8080/"
        },
        "id": "b9979ead",
        "outputId": "9d97de8f-7ea0-4cbb-af5c-849a2030dfc6"
      },
      "outputs": [
        {
          "output_type": "stream",
          "name": "stdout",
          "text": [
            "R2 scores: [-0.36760693 -0.01804111 -1.65520313 -1.08057054 -0.61914219]\n",
            "Mean R2 score: -0.7481127786586346\n",
            "Standard deviation: 0.5705723141452874\n"
          ]
        }
      ],
      "source": [
        "# Perform 5-fold cross-validation\n",
        "scores = cross_val_score(dt, X, y, cv=5, scoring='r2')\n",
        "\n",
        "# Print the R2 scores for each fold\n",
        "print(\"R2 scores:\", scores)\n",
        "\n",
        "# Print the mean and standard deviation of the scores\n",
        "print(\"Mean R2 score:\", scores.mean())\n",
        "print(\"Standard deviation:\", scores.std())"
      ]
    },
    {
      "cell_type": "markdown",
      "id": "ff523444",
      "metadata": {
        "id": "ff523444"
      },
      "source": [
        "# Trends in Unemployment"
      ]
    },
    {
      "cell_type": "code",
      "execution_count": 106,
      "id": "deea2188",
      "metadata": {
        "id": "deea2188"
      },
      "outputs": [],
      "source": [
        "Unemployment_years=pd.read_csv('Unemloyment_years.csv')"
      ]
    },
    {
      "cell_type": "code",
      "execution_count": 107,
      "id": "e5a29de8",
      "metadata": {
        "id": "e5a29de8"
      },
      "outputs": [],
      "source": [
        "Unemployment_years=Unemployment_years[['Country Name',\n",
        "       '1991', '1992', '1993', '1994', '1995', '1996', '1997', '1998', '1999',\n",
        "       '2000', '2001', '2002', '2003', '2004', '2005', '2006', '2007', '2008',\n",
        "       '2009', '2010', '2011', '2012', '2013', '2014', '2015', '2016', '2017',\n",
        "       '2018', '2019', '2020', '2021']]\n"
      ]
    },
    {
      "cell_type": "code",
      "execution_count": 108,
      "id": "76b644b7",
      "metadata": {
        "id": "76b644b7"
      },
      "outputs": [],
      "source": [
        "melted_df = pd.melt(Unemployment_years, id_vars=[\"Country Name\"], var_name=\"Year\", value_name=\"Unemployment Rate\")\n"
      ]
    },
    {
      "cell_type": "code",
      "execution_count": 109,
      "id": "64022964",
      "metadata": {
        "id": "64022964"
      },
      "outputs": [],
      "source": [
        "list_of_top10_population=df_population.iloc[1:11]['Country'].tolist()"
      ]
    },
    {
      "cell_type": "code",
      "execution_count": 110,
      "id": "c26fa870",
      "metadata": {
        "colab": {
          "base_uri": "https://localhost:8080/"
        },
        "id": "c26fa870",
        "outputId": "da8e2395-0d94-4dc9-e4f3-a760b6dd1cbd"
      },
      "outputs": [
        {
          "output_type": "execute_result",
          "data": {
            "text/plain": [
              "['China',\n",
              " 'India',\n",
              " 'United States',\n",
              " 'Indonesia',\n",
              " 'Pakistan',\n",
              " 'Nigeria',\n",
              " 'Brazil',\n",
              " 'Bangladesh',\n",
              " 'Russia',\n",
              " 'Mexico']"
            ]
          },
          "metadata": {},
          "execution_count": 110
        }
      ],
      "source": [
        "list_of_top10_population"
      ]
    },
    {
      "cell_type": "code",
      "execution_count": 111,
      "id": "db03bc3f",
      "metadata": {
        "id": "db03bc3f"
      },
      "outputs": [],
      "source": [
        "\n",
        "melted_df_top=melted_df[melted_df['Country Name'].isin(list_of_top10_population)]"
      ]
    },
    {
      "cell_type": "code",
      "execution_count": 112,
      "id": "d568310d",
      "metadata": {
        "colab": {
          "base_uri": "https://localhost:8080/",
          "height": 850
        },
        "id": "d568310d",
        "outputId": "a00c7ab8-e53c-4d6d-e348-b71e4ce3b580"
      },
      "outputs": [
        {
          "output_type": "display_data",
          "data": {
            "text/plain": [
              "<Figure size 1500x1000 with 1 Axes>"
            ],
            "image/png": "[encoded data removed]"
          },
          "metadata": {}
        }
      ],
      "source": [
        "#population\n",
        "# create the line plot using seaborn\n",
        "plt.figure(figsize=(15, 10))\n",
        "sns.lineplot(x='Year', y='Unemployment Rate', hue='Country Name', data=melted_df_top)\n",
        "\n",
        "# display the plot\n",
        "plt.show()"
      ]
    },
    {
      "cell_type": "code",
      "execution_count": null,
      "id": "db6410ef",
      "metadata": {
        "id": "db6410ef"
      },
      "outputs": [],
      "source": []
    },
    {
      "cell_type": "markdown",
      "source": [
        "#Economic Model Explainations"
      ],
      "metadata": {
        "id": "rE1g8_JdY7Ci"
      },
      "id": "rE1g8_JdY7Ci"
    },
    {
      "cell_type": "markdown",
      "source": [
        "##Walrasian Model, simplified to be univariable (real minimum wage)"
      ],
      "metadata": {
        "id": "MoGQmdL0ZDDy"
      },
      "id": "MoGQmdL0ZDDy"
    },
    {
      "cell_type": "code",
      "source": [
        "\n",
        "df_unemployeement=pd.read_csv('UnemployeementRate.csv')\n",
        "\n",
        "df_minWage = pd.read_csv('realMinWage.csv')\n",
        "df_minWage = df_minWage.query('Time == 2021 and SERIES.str.startswith(\"PPP\") and PERIOD.str.startswith(\"A\") ')\n",
        "\n",
        "df_minWage_vs_Unempl=pd.merge(df_minWage,df_unemployeement,left_on='COUNTRY',right_on='Country Code',how='inner')\n",
        "sns.regplot(x='Value',y='2021',data=df_minWage_vs_Unempl)\n",
        "\n",
        "X = df_minWage_vs_Unempl[['Value']]\n",
        "Y = df_minWage_vs_Unempl['2021']\n",
        "lm = LinearRegression()\n",
        "lm.fit(X,Y)\n",
        "print(lm.coef_*1000,lm.score(X,Y))"
      ],
      "metadata": {
        "colab": {
          "base_uri": "https://localhost:8080/",
          "height": 466
        },
        "id": "DG3fC35LZEfu",
        "outputId": "84c99294-fa0b-463f-cb1a-988e51d9ddc8"
      },
      "id": "DG3fC35LZEfu",
      "execution_count": 150,
      "outputs": [
        {
          "output_type": "stream",
          "name": "stdout",
          "text": [
            "[-0.16237268] 0.08641052509571756\n"
          ]
        },
        {
          "output_type": "display_data",
          "data": {
            "text/plain": [
              "<Figure size 640x480 with 1 Axes>"
            ],
            "image/png": "[encoded data removed]"
          },
          "metadata": {}
        }
      ]
    },
    {
      "cell_type": "code",
      "source": [
        "df_minWage.head()"
      ],
      "metadata": {
        "colab": {
          "base_uri": "https://localhost:8080/",
          "height": 632
        },
        "id": "ipq1bQ_ng7nt",
        "outputId": "4fe13731-e5e9-4401-b673-0e8bf2571900"
      },
      "id": "ipq1bQ_ng7nt",
      "execution_count": 168,
      "outputs": [
        {
          "output_type": "execute_result",
          "data": {
            "text/plain": [
              "    COUNTRY        Country SERIES                                    Series  \\\n",
              "20      IRL        Ireland    PPP  In 2021 constant prices at 2021 USD PPPs   \n",
              "125     LUX     Luxembourg    PPP  In 2021 constant prices at 2021 USD PPPs   \n",
              "251     PRT       Portugal    PPP  In 2021 constant prices at 2021 USD PPPs   \n",
              "293     USA  United States    PPP  In 2021 constant prices at 2021 USD PPPs   \n",
              "376     EST        Estonia    PPP  In 2021 constant prices at 2021 USD PPPs   \n",
              "\n",
              "    PERIOD Pay period  TIME  Time Unit Code       Unit  PowerCode Code  \\\n",
              "20       A     Annual  2021  2021       USD  US Dollar               0   \n",
              "125      A     Annual  2021  2021       USD  US Dollar               0   \n",
              "251      A     Annual  2021  2021       USD  US Dollar               0   \n",
              "293      A     Annual  2021  2021       USD  US Dollar               0   \n",
              "376      A     Annual  2021  2021       USD  US Dollar               0   \n",
              "\n",
              "    PowerCode  Reference Period Code  Reference Period     Value  Flag Codes  \\\n",
              "20      Units                    NaN               NaN  20957.12         NaN   \n",
              "125     Units                    NaN               NaN  27799.44         NaN   \n",
              "251     Units                    NaN               NaN  14411.59         NaN   \n",
              "293     Units                    NaN               NaN  15080.00         NaN   \n",
              "376     Units                    NaN               NaN  11200.22         NaN   \n",
              "\n",
              "     Flags  \n",
              "20     NaN  \n",
              "125    NaN  \n",
              "251    NaN  \n",
              "293    NaN  \n",
              "376    NaN  "
            ],
            "text/html": [
              "\n",
              "  <div id=\"df-3b6f2baf-25f9-49d5-9b2a-72e88638cf33\">\n",
              "    <div class=\"colab-df-container\">\n",
              "      <div>\n",
              "<style scoped>\n",
              "    .dataframe tbody tr th:only-of-type {\n",
              "        vertical-align: middle;\n",
              "    }\n",
              "\n",
              "    .dataframe tbody tr th {\n",
              "        vertical-align: top;\n",
              "    }\n",
              "\n",
              "    .dataframe thead th {\n",
              "        text-align: right;\n",
              "    }\n",
              "</style>\n",
              "<table border=\"1\" class=\"dataframe\">\n",
              "  <thead>\n",
              "    <tr style=\"text-align: right;\">\n",
              "      <th></th>\n",
              "      <th>COUNTRY</th>\n",
              "      <th>Country</th>\n",
              "      <th>SERIES</th>\n",
              "      <th>Series</th>\n",
              "      <th>PERIOD</th>\n",
              "      <th>Pay period</th>\n",
              "      <th>TIME</th>\n",
              "      <th>Time</th>\n",
              "      <th>Unit Code</th>\n",
              "      <th>Unit</th>\n",
              "      <th>PowerCode Code</th>\n",
              "      <th>PowerCode</th>\n",
              "      <th>Reference Period Code</th>\n",
              "      <th>Reference Period</th>\n",
              "      <th>Value</th>\n",
              "      <th>Flag Codes</th>\n",
              "      <th>Flags</th>\n",
              "    </tr>\n",
              "  </thead>\n",
              "  <tbody>\n",
              "    <tr>\n",
              "      <th>20</th>\n",
              "      <td>IRL</td>\n",
              "      <td>Ireland</td>\n",
              "      <td>PPP</td>\n",
              "      <td>In 2021 constant prices at 2021 USD PPPs</td>\n",
              "      <td>A</td>\n",
              "      <td>Annual</td>\n",
              "      <td>2021</td>\n",
              "      <td>2021</td>\n",
              "      <td>USD</td>\n",
              "      <td>US Dollar</td>\n",
              "      <td>0</td>\n",
              "      <td>Units</td>\n",
              "      <td>NaN</td>\n",
              "      <td>NaN</td>\n",
              "      <td>20957.12</td>\n",
              "      <td>NaN</td>\n",
              "      <td>NaN</td>\n",
              "    </tr>\n",
              "    <tr>\n",
              "      <th>125</th>\n",
              "      <td>LUX</td>\n",
              "      <td>Luxembourg</td>\n",
              "      <td>PPP</td>\n",
              "      <td>In 2021 constant prices at 2021 USD PPPs</td>\n",
              "      <td>A</td>\n",
              "      <td>Annual</td>\n",
              "      <td>2021</td>\n",
              "      <td>2021</td>\n",
              "      <td>USD</td>\n",
              "      <td>US Dollar</td>\n",
              "      <td>0</td>\n",
              "      <td>Units</td>\n",
              "      <td>NaN</td>\n",
              "      <td>NaN</td>\n",
              "      <td>27799.44</td>\n",
              "      <td>NaN</td>\n",
              "      <td>NaN</td>\n",
              "    </tr>\n",
              "    <tr>\n",
              "      <th>251</th>\n",
              "      <td>PRT</td>\n",
              "      <td>Portugal</td>\n",
              "      <td>PPP</td>\n",
              "      <td>In 2021 constant prices at 2021 USD PPPs</td>\n",
              "      <td>A</td>\n",
              "      <td>Annual</td>\n",
              "      <td>2021</td>\n",
              "      <td>2021</td>\n",
              "      <td>USD</td>\n",
              "      <td>US Dollar</td>\n",
              "      <td>0</td>\n",
              "      <td>Units</td>\n",
              "      <td>NaN</td>\n",
              "      <td>NaN</td>\n",
              "      <td>14411.59</td>\n",
              "      <td>NaN</td>\n",
              "      <td>NaN</td>\n",
              "    </tr>\n",
              "    <tr>\n",
              "      <th>293</th>\n",
              "      <td>USA</td>\n",
              "      <td>United States</td>\n",
              "      <td>PPP</td>\n",
              "      <td>In 2021 constant prices at 2021 USD PPPs</td>\n",
              "      <td>A</td>\n",
              "      <td>Annual</td>\n",
              "      <td>2021</td>\n",
              "      <td>2021</td>\n",
              "      <td>USD</td>\n",
              "      <td>US Dollar</td>\n",
              "      <td>0</td>\n",
              "      <td>Units</td>\n",
              "      <td>NaN</td>\n",
              "      <td>NaN</td>\n",
              "      <td>15080.00</td>\n",
              "      <td>NaN</td>\n",
              "      <td>NaN</td>\n",
              "    </tr>\n",
              "    <tr>\n",
              "      <th>376</th>\n",
              "      <td>EST</td>\n",
              "      <td>Estonia</td>\n",
              "      <td>PPP</td>\n",
              "      <td>In 2021 constant prices at 2021 USD PPPs</td>\n",
              "      <td>A</td>\n",
              "      <td>Annual</td>\n",
              "      <td>2021</td>\n",
              "      <td>2021</td>\n",
              "      <td>USD</td>\n",
              "      <td>US Dollar</td>\n",
              "      <td>0</td>\n",
              "      <td>Units</td>\n",
              "      <td>NaN</td>\n",
              "      <td>NaN</td>\n",
              "      <td>11200.22</td>\n",
              "      <td>NaN</td>\n",
              "      <td>NaN</td>\n",
              "    </tr>\n",
              "  </tbody>\n",
              "</table>\n",
              "</div>\n",
              "      <button class=\"colab-df-convert\" onclick=\"convertToInteractive('df-3b6f2baf-25f9-49d5-9b2a-72e88638cf33')\"\n",
              "              title=\"Convert this dataframe to an interactive table.\"\n",
              "              style=\"display:none;\">\n",
              "        \n",
              "  <svg xmlns=\"http://www.w3.org/2000/svg\" height=\"24px\"viewBox=\"0 0 24 24\"\n",
              "       width=\"24px\">\n",
              "    <path d=\"M0 0h24v24H0V0z\" fill=\"none\"/>\n",
              "    <path d=\"M18.56 5.44l.94 2.06.94-2.06 2.06-.94-2.06-.94-.94-2.06-.94 2.06-2.06.94zm-11 1L8.5 8.5l.94-2.06 2.06-.94-2.06-.94L8.5 2.5l-.94 2.06-2.06.94zm10 10l.94 2.06.94-2.06 2.06-.94-2.06-.94-.94-2.06-.94 2.06-2.06.94z\"/><path d=\"M17.41 7.96l-1.37-1.37c-.4-.4-.92-.59-1.43-.59-.52 0-1.04.2-1.43.59L10.3 9.45l-7.72 7.72c-.78.78-.78 2.05 0 2.83L4 21.41c.39.39.9.59 1.41.59.51 0 1.02-.2 1.41-.59l7.78-7.78 2.81-2.81c.8-.78.8-2.07 0-2.86zM5.41 20L4 18.59l7.72-7.72 1.47 1.35L5.41 20z\"/>\n",
              "  </svg>\n",
              "      </button>\n",
              "      \n",
              "  <style>\n",
              "    .colab-df-container {\n",
              "      display:flex;\n",
              "      flex-wrap:wrap;\n",
              "      gap: 12px;\n",
              "    }\n",
              "\n",
              "    .colab-df-convert {\n",
              "      background-color: #E8F0FE;\n",
              "      border: none;\n",
              "      border-radius: 50%;\n",
              "      cursor: pointer;\n",
              "      display: none;\n",
              "      fill: #1967D2;\n",
              "      height: 32px;\n",
              "      padding: 0 0 0 0;\n",
              "      width: 32px;\n",
              "    }\n",
              "\n",
              "    .colab-df-convert:hover {\n",
              "      background-color: #E2EBFA;\n",
              "      box-shadow: 0px 1px 2px rgba(60, 64, 67, 0.3), 0px 1px 3px 1px rgba(60, 64, 67, 0.15);\n",
              "      fill: #174EA6;\n",
              "    }\n",
              "\n",
              "    [theme=dark] .colab-df-convert {\n",
              "      background-color: #3B4455;\n",
              "      fill: #D2E3FC;\n",
              "    }\n",
              "\n",
              "    [theme=dark] .colab-df-convert:hover {\n",
              "      background-color: #434B5C;\n",
              "      box-shadow: 0px 1px 3px 1px rgba(0, 0, 0, 0.15);\n",
              "      filter: drop-shadow(0px 1px 2px rgba(0, 0, 0, 0.3));\n",
              "      fill: #FFFFFF;\n",
              "    }\n",
              "  </style>\n",
              "\n",
              "      <script>\n",
              "        const buttonEl =\n",
              "          document.querySelector('#df-3b6f2baf-25f9-49d5-9b2a-72e88638cf33 button.colab-df-convert');\n",
              "        buttonEl.style.display =\n",
              "          google.colab.kernel.accessAllowed ? 'block' : 'none';\n",
              "\n",
              "        async function convertToInteractive(key) {\n",
              "          const element = document.querySelector('#df-3b6f2baf-25f9-49d5-9b2a-72e88638cf33');\n",
              "          const dataTable =\n",
              "            await google.colab.kernel.invokeFunction('convertToInteractive',\n",
              "                                                     [key], {});\n",
              "          if (!dataTable) return;\n",
              "\n",
              "          const docLinkHtml = 'Like what you see? Visit the ' +\n",
              "            '<a target=\"_blank\" href=https://colab.research.google.com/notebooks/data_table.ipynb>data table notebook</a>'\n",
              "            + ' to learn more about interactive tables.';\n",
              "          element.innerHTML = '';\n",
              "          dataTable['output_type'] = 'display_data';\n",
              "          await google.colab.output.renderOutput(dataTable, element);\n",
              "          const docLink = document.createElement('div');\n",
              "          docLink.innerHTML = docLinkHtml;\n",
              "          element.appendChild(docLink);\n",
              "        }\n",
              "      </script>\n",
              "    </div>\n",
              "  </div>\n",
              "  "
            ]
          },
          "metadata": {},
          "execution_count": 168
        }
      ]
    },
    {
      "cell_type": "markdown",
      "source": [
        "#Let's try some other factors"
      ],
      "metadata": {
        "id": "a-lakiUwZyV3"
      },
      "id": "a-lakiUwZyV3"
    },
    {
      "cell_type": "code",
      "source": [
        "df_all = pd.read_csv('everything.csv')"
      ],
      "metadata": {
        "colab": {
          "base_uri": "https://localhost:8080/"
        },
        "id": "7Q27vB9KZz0M",
        "outputId": "21883237-d09a-4f64-9cb5-a621ecad1456"
      },
      "id": "7Q27vB9KZz0M",
      "execution_count": 214,
      "outputs": [
        {
          "output_type": "stream",
          "name": "stderr",
          "text": [
            "<ipython-input-214-5fe99701b6db>:1: DtypeWarning: Columns (15,16) have mixed types. Specify dtype option on import or set low_memory=False.\n",
            "  df_all = pd.read_csv('everything.csv')\n"
          ]
        }
      ]
    },
    {
      "cell_type": "markdown",
      "source": [
        "##What percent of the employed population is employed in the service sector"
      ],
      "metadata": {
        "id": "Ux-zAjCFa5pM"
      },
      "id": "Ux-zAjCFa5pM"
    },
    {
      "cell_type": "code",
      "source": [
        "df_service = df_all.query('Variable.str.startswith(\"Total employment in service sector\") and Sex.str.startswith(\"T\") and TIME == 2012')\n",
        "df_service_vs_Unempl=pd.merge(df_service,df_unemployeement,left_on='LOCATION',right_on='Country Code',how='inner')\n",
        "sns.regplot(x='Value',y='2012',data=df_service_vs_Unempl)\n",
        "\n",
        "X = df_service_vs_Unempl[['Value']]\n",
        "Y = df_service_vs_Unempl['2012']\n",
        "lm = LinearRegression()\n",
        "lm.fit(X,Y)\n",
        "print(lm.coef_,lm.score(X,Y))\n"
      ],
      "metadata": {
        "colab": {
          "base_uri": "https://localhost:8080/",
          "height": 466
        },
        "id": "pg93cTUBa_co",
        "outputId": "7223f46d-6dd4-408b-bcc0-a4b7c0e37fd1"
      },
      "id": "pg93cTUBa_co",
      "execution_count": 216,
      "outputs": [
        {
          "output_type": "stream",
          "name": "stdout",
          "text": [
            "[0.06280487] 0.017517896380651155\n"
          ]
        },
        {
          "output_type": "display_data",
          "data": {
            "text/plain": [
              "<Figure size 640x480 with 1 Axes>"
            ],
            "image/png": "[encoded data removed]"
          },
          "metadata": {}
        }
      ]
    },
    {
      "cell_type": "code",
      "source": [
        "df_service.head()"
      ],
      "metadata": {
        "colab": {
          "base_uri": "https://localhost:8080/",
          "height": 545
        },
        "id": "z_Mx2uNehZaP",
        "outputId": "ec1d8016-02d0-4b82-e886-e2032d6c0cbf"
      },
      "id": "z_Mx2uNehZaP",
      "execution_count": 217,
      "outputs": [
        {
          "output_type": "execute_result",
          "data": {
            "text/plain": [
              "      LOCATION         Country        VAR                            Variable  \\\n",
              "2417       AUT         Austria  EMPL_SERV  Total employment in service sector   \n",
              "4647       BEL         Belgium  EMPL_SERV  Total employment in service sector   \n",
              "7767       CZE  Czech Republic  EMPL_SERV  Total employment in service sector   \n",
              "10019      DNK         Denmark  EMPL_SERV  Total employment in service sector   \n",
              "12097      FIN         Finland  EMPL_SERV  Total employment in service sector   \n",
              "\n",
              "      SEX    Sex  TIME  Year Unit Code        Unit  PowerCode Code PowerCode  \\\n",
              "2417    T  Total  2012  2012        PC  Percentage               0     Units   \n",
              "4647    T  Total  2012  2012        PC  Percentage               0     Units   \n",
              "7767    T  Total  2012  2012        PC  Percentage               0     Units   \n",
              "10019   T  Total  2012  2012        PC  Percentage               0     Units   \n",
              "12097   T  Total  2012  2012        PC  Percentage               0     Units   \n",
              "\n",
              "       Reference Period Code  Reference Period     Value Flag Codes Flags  \n",
              "2417                     NaN               NaN  68.80000        NaN   NaN  \n",
              "4647                     NaN               NaN  77.10001        NaN   NaN  \n",
              "7767                     NaN               NaN  58.60000        NaN   NaN  \n",
              "10019                    NaN               NaN  77.80000        NaN   NaN  \n",
              "12097                    NaN               NaN  72.80000        NaN   NaN  "
            ],
            "text/html": [
              "\n",
              "  <div id=\"df-25a6767f-9826-4b6f-905f-91eac9c7a808\">\n",
              "    <div class=\"colab-df-container\">\n",
              "      <div>\n",
              "<style scoped>\n",
              "    .dataframe tbody tr th:only-of-type {\n",
              "        vertical-align: middle;\n",
              "    }\n",
              "\n",
              "    .dataframe tbody tr th {\n",
              "        vertical-align: top;\n",
              "    }\n",
              "\n",
              "    .dataframe thead th {\n",
              "        text-align: right;\n",
              "    }\n",
              "</style>\n",
              "<table border=\"1\" class=\"dataframe\">\n",
              "  <thead>\n",
              "    <tr style=\"text-align: right;\">\n",
              "      <th></th>\n",
              "      <th>LOCATION</th>\n",
              "      <th>Country</th>\n",
              "      <th>VAR</th>\n",
              "      <th>Variable</th>\n",
              "      <th>SEX</th>\n",
              "      <th>Sex</th>\n",
              "      <th>TIME</th>\n",
              "      <th>Year</th>\n",
              "      <th>Unit Code</th>\n",
              "      <th>Unit</th>\n",
              "      <th>PowerCode Code</th>\n",
              "      <th>PowerCode</th>\n",
              "      <th>Reference Period Code</th>\n",
              "      <th>Reference Period</th>\n",
              "      <th>Value</th>\n",
              "      <th>Flag Codes</th>\n",
              "      <th>Flags</th>\n",
              "    </tr>\n",
              "  </thead>\n",
              "  <tbody>\n",
              "    <tr>\n",
              "      <th>2417</th>\n",
              "      <td>AUT</td>\n",
              "      <td>Austria</td>\n",
              "      <td>EMPL_SERV</td>\n",
              "      <td>Total employment in service sector</td>\n",
              "      <td>T</td>\n",
              "      <td>Total</td>\n",
              "      <td>2012</td>\n",
              "      <td>2012</td>\n",
              "      <td>PC</td>\n",
              "      <td>Percentage</td>\n",
              "      <td>0</td>\n",
              "      <td>Units</td>\n",
              "      <td>NaN</td>\n",
              "      <td>NaN</td>\n",
              "      <td>68.80000</td>\n",
              "      <td>NaN</td>\n",
              "      <td>NaN</td>\n",
              "    </tr>\n",
              "    <tr>\n",
              "      <th>4647</th>\n",
              "      <td>BEL</td>\n",
              "      <td>Belgium</td>\n",
              "      <td>EMPL_SERV</td>\n",
              "      <td>Total employment in service sector</td>\n",
              "      <td>T</td>\n",
              "      <td>Total</td>\n",
              "      <td>2012</td>\n",
              "      <td>2012</td>\n",
              "      <td>PC</td>\n",
              "      <td>Percentage</td>\n",
              "      <td>0</td>\n",
              "      <td>Units</td>\n",
              "      <td>NaN</td>\n",
              "      <td>NaN</td>\n",
              "      <td>77.10001</td>\n",
              "      <td>NaN</td>\n",
              "      <td>NaN</td>\n",
              "    </tr>\n",
              "    <tr>\n",
              "      <th>7767</th>\n",
              "      <td>CZE</td>\n",
              "      <td>Czech Republic</td>\n",
              "      <td>EMPL_SERV</td>\n",
              "      <td>Total employment in service sector</td>\n",
              "      <td>T</td>\n",
              "      <td>Total</td>\n",
              "      <td>2012</td>\n",
              "      <td>2012</td>\n",
              "      <td>PC</td>\n",
              "      <td>Percentage</td>\n",
              "      <td>0</td>\n",
              "      <td>Units</td>\n",
              "      <td>NaN</td>\n",
              "      <td>NaN</td>\n",
              "      <td>58.60000</td>\n",
              "      <td>NaN</td>\n",
              "      <td>NaN</td>\n",
              "    </tr>\n",
              "    <tr>\n",
              "      <th>10019</th>\n",
              "      <td>DNK</td>\n",
              "      <td>Denmark</td>\n",
              "      <td>EMPL_SERV</td>\n",
              "      <td>Total employment in service sector</td>\n",
              "      <td>T</td>\n",
              "      <td>Total</td>\n",
              "      <td>2012</td>\n",
              "      <td>2012</td>\n",
              "      <td>PC</td>\n",
              "      <td>Percentage</td>\n",
              "      <td>0</td>\n",
              "      <td>Units</td>\n",
              "      <td>NaN</td>\n",
              "      <td>NaN</td>\n",
              "      <td>77.80000</td>\n",
              "      <td>NaN</td>\n",
              "      <td>NaN</td>\n",
              "    </tr>\n",
              "    <tr>\n",
              "      <th>12097</th>\n",
              "      <td>FIN</td>\n",
              "      <td>Finland</td>\n",
              "      <td>EMPL_SERV</td>\n",
              "      <td>Total employment in service sector</td>\n",
              "      <td>T</td>\n",
              "      <td>Total</td>\n",
              "      <td>2012</td>\n",
              "      <td>2012</td>\n",
              "      <td>PC</td>\n",
              "      <td>Percentage</td>\n",
              "      <td>0</td>\n",
              "      <td>Units</td>\n",
              "      <td>NaN</td>\n",
              "      <td>NaN</td>\n",
              "      <td>72.80000</td>\n",
              "      <td>NaN</td>\n",
              "      <td>NaN</td>\n",
              "    </tr>\n",
              "  </tbody>\n",
              "</table>\n",
              "</div>\n",
              "      <button class=\"colab-df-convert\" onclick=\"convertToInteractive('df-25a6767f-9826-4b6f-905f-91eac9c7a808')\"\n",
              "              title=\"Convert this dataframe to an interactive table.\"\n",
              "              style=\"display:none;\">\n",
              "        \n",
              "  <svg xmlns=\"http://www.w3.org/2000/svg\" height=\"24px\"viewBox=\"0 0 24 24\"\n",
              "       width=\"24px\">\n",
              "    <path d=\"M0 0h24v24H0V0z\" fill=\"none\"/>\n",
              "    <path d=\"M18.56 5.44l.94 2.06.94-2.06 2.06-.94-2.06-.94-.94-2.06-.94 2.06-2.06.94zm-11 1L8.5 8.5l.94-2.06 2.06-.94-2.06-.94L8.5 2.5l-.94 2.06-2.06.94zm10 10l.94 2.06.94-2.06 2.06-.94-2.06-.94-.94-2.06-.94 2.06-2.06.94z\"/><path d=\"M17.41 7.96l-1.37-1.37c-.4-.4-.92-.59-1.43-.59-.52 0-1.04.2-1.43.59L10.3 9.45l-7.72 7.72c-.78.78-.78 2.05 0 2.83L4 21.41c.39.39.9.59 1.41.59.51 0 1.02-.2 1.41-.59l7.78-7.78 2.81-2.81c.8-.78.8-2.07 0-2.86zM5.41 20L4 18.59l7.72-7.72 1.47 1.35L5.41 20z\"/>\n",
              "  </svg>\n",
              "      </button>\n",
              "      \n",
              "  <style>\n",
              "    .colab-df-container {\n",
              "      display:flex;\n",
              "      flex-wrap:wrap;\n",
              "      gap: 12px;\n",
              "    }\n",
              "\n",
              "    .colab-df-convert {\n",
              "      background-color: #E8F0FE;\n",
              "      border: none;\n",
              "      border-radius: 50%;\n",
              "      cursor: pointer;\n",
              "      display: none;\n",
              "      fill: #1967D2;\n",
              "      height: 32px;\n",
              "      padding: 0 0 0 0;\n",
              "      width: 32px;\n",
              "    }\n",
              "\n",
              "    .colab-df-convert:hover {\n",
              "      background-color: #E2EBFA;\n",
              "      box-shadow: 0px 1px 2px rgba(60, 64, 67, 0.3), 0px 1px 3px 1px rgba(60, 64, 67, 0.15);\n",
              "      fill: #174EA6;\n",
              "    }\n",
              "\n",
              "    [theme=dark] .colab-df-convert {\n",
              "      background-color: #3B4455;\n",
              "      fill: #D2E3FC;\n",
              "    }\n",
              "\n",
              "    [theme=dark] .colab-df-convert:hover {\n",
              "      background-color: #434B5C;\n",
              "      box-shadow: 0px 1px 3px 1px rgba(0, 0, 0, 0.15);\n",
              "      filter: drop-shadow(0px 1px 2px rgba(0, 0, 0, 0.3));\n",
              "      fill: #FFFFFF;\n",
              "    }\n",
              "  </style>\n",
              "\n",
              "      <script>\n",
              "        const buttonEl =\n",
              "          document.querySelector('#df-25a6767f-9826-4b6f-905f-91eac9c7a808 button.colab-df-convert');\n",
              "        buttonEl.style.display =\n",
              "          google.colab.kernel.accessAllowed ? 'block' : 'none';\n",
              "\n",
              "        async function convertToInteractive(key) {\n",
              "          const element = document.querySelector('#df-25a6767f-9826-4b6f-905f-91eac9c7a808');\n",
              "          const dataTable =\n",
              "            await google.colab.kernel.invokeFunction('convertToInteractive',\n",
              "                                                     [key], {});\n",
              "          if (!dataTable) return;\n",
              "\n",
              "          const docLinkHtml = 'Like what you see? Visit the ' +\n",
              "            '<a target=\"_blank\" href=https://colab.research.google.com/notebooks/data_table.ipynb>data table notebook</a>'\n",
              "            + ' to learn more about interactive tables.';\n",
              "          element.innerHTML = '';\n",
              "          dataTable['output_type'] = 'display_data';\n",
              "          await google.colab.output.renderOutput(dataTable, element);\n",
              "          const docLink = document.createElement('div');\n",
              "          docLink.innerHTML = docLinkHtml;\n",
              "          element.appendChild(docLink);\n",
              "        }\n",
              "      </script>\n",
              "    </div>\n",
              "  </div>\n",
              "  "
            ]
          },
          "metadata": {},
          "execution_count": 217
        }
      ]
    },
    {
      "cell_type": "code",
      "source": [
        "df_low = df_all.query('Variable.str.startswith(\"Job requirements; low qualification\") and Sex.str.startswith(\"T\")')\n",
        "df_low_vs_Unempl=pd.merge(df_low,df_unemployeement,left_on='LOCATION',right_on='Country Code',how='inner')\n",
        "sns.regplot(x='Value',y='2012',data=df_low_vs_Unempl)\n",
        "\n",
        "X = df_low_vs_Unempl[['Value']]\n",
        "Y = df_low_vs_Unempl['2012']\n",
        "lm = LinearRegression()\n",
        "lm.fit(X,Y)\n",
        "print(lm.coef_,lm.score(X,Y))"
      ],
      "metadata": {
        "colab": {
          "base_uri": "https://localhost:8080/",
          "height": 466
        },
        "id": "9AQmHYzOeOIE",
        "outputId": "b9b68ad2-871c-4e48-d477-9af4276b2440"
      },
      "id": "9AQmHYzOeOIE",
      "execution_count": 218,
      "outputs": [
        {
          "output_type": "stream",
          "name": "stdout",
          "text": [
            "[0.17287678] 0.11755597594837341\n"
          ]
        },
        {
          "output_type": "display_data",
          "data": {
            "text/plain": [
              "<Figure size 640x480 with 1 Axes>"
            ],
            "image/png": "[encoded data removed]"
          },
          "metadata": {}
        }
      ]
    },
    {
      "cell_type": "code",
      "source": [
        "df_low.head()"
      ],
      "metadata": {
        "colab": {
          "base_uri": "https://localhost:8080/",
          "height": 545
        },
        "id": "WkWbvGImhkG_",
        "outputId": "cbd0dd6e-c257-445b-a413-d60744afa6e8"
      },
      "id": "WkWbvGImhkG_",
      "execution_count": 219,
      "outputs": [
        {
          "output_type": "execute_result",
          "data": {
            "text/plain": [
              "     LOCATION         Country         VAR  \\\n",
              "908       AUS       Australia  JOB_REQ_LS   \n",
              "2857      AUT         Austria  JOB_REQ_LS   \n",
              "5099      BEL         Belgium  JOB_REQ_LS   \n",
              "6194      CAN          Canada  JOB_REQ_LS   \n",
              "8215      CZE  Czech Republic  JOB_REQ_LS   \n",
              "\n",
              "                                 Variable SEX    Sex  TIME  Year Unit Code  \\\n",
              "908   Job requirements; low qualification   T  Total  2012  2012        PC   \n",
              "2857  Job requirements; low qualification   T  Total  2012  2012        PC   \n",
              "5099  Job requirements; low qualification   T  Total  2012  2012        PC   \n",
              "6194  Job requirements; low qualification   T  Total  2012  2012        PC   \n",
              "8215  Job requirements; low qualification   T  Total  2012  2012        PC   \n",
              "\n",
              "            Unit  PowerCode Code PowerCode  Reference Period Code  \\\n",
              "908   Percentage               0     Units                    NaN   \n",
              "2857  Percentage               0     Units                    NaN   \n",
              "5099  Percentage               0     Units                    NaN   \n",
              "6194  Percentage               0     Units                    NaN   \n",
              "8215  Percentage               0     Units                    NaN   \n",
              "\n",
              "      Reference Period      Value Flag Codes Flags  \n",
              "908                NaN  32.883500        NaN   NaN  \n",
              "2857               NaN  27.833430        NaN   NaN  \n",
              "5099               NaN   8.082785        NaN   NaN  \n",
              "6194               NaN  11.657720        NaN   NaN  \n",
              "8215               NaN  16.390920        NaN   NaN  "
            ],
            "text/html": [
              "\n",
              "  <div id=\"df-0d735886-3bbc-4228-83dd-4e529146db9d\">\n",
              "    <div class=\"colab-df-container\">\n",
              "      <div>\n",
              "<style scoped>\n",
              "    .dataframe tbody tr th:only-of-type {\n",
              "        vertical-align: middle;\n",
              "    }\n",
              "\n",
              "    .dataframe tbody tr th {\n",
              "        vertical-align: top;\n",
              "    }\n",
              "\n",
              "    .dataframe thead th {\n",
              "        text-align: right;\n",
              "    }\n",
              "</style>\n",
              "<table border=\"1\" class=\"dataframe\">\n",
              "  <thead>\n",
              "    <tr style=\"text-align: right;\">\n",
              "      <th></th>\n",
              "      <th>LOCATION</th>\n",
              "      <th>Country</th>\n",
              "      <th>VAR</th>\n",
              "      <th>Variable</th>\n",
              "      <th>SEX</th>\n",
              "      <th>Sex</th>\n",
              "      <th>TIME</th>\n",
              "      <th>Year</th>\n",
              "      <th>Unit Code</th>\n",
              "      <th>Unit</th>\n",
              "      <th>PowerCode Code</th>\n",
              "      <th>PowerCode</th>\n",
              "      <th>Reference Period Code</th>\n",
              "      <th>Reference Period</th>\n",
              "      <th>Value</th>\n",
              "      <th>Flag Codes</th>\n",
              "      <th>Flags</th>\n",
              "    </tr>\n",
              "  </thead>\n",
              "  <tbody>\n",
              "    <tr>\n",
              "      <th>908</th>\n",
              "      <td>AUS</td>\n",
              "      <td>Australia</td>\n",
              "      <td>JOB_REQ_LS</td>\n",
              "      <td>Job requirements; low qualification</td>\n",
              "      <td>T</td>\n",
              "      <td>Total</td>\n",
              "      <td>2012</td>\n",
              "      <td>2012</td>\n",
              "      <td>PC</td>\n",
              "      <td>Percentage</td>\n",
              "      <td>0</td>\n",
              "      <td>Units</td>\n",
              "      <td>NaN</td>\n",
              "      <td>NaN</td>\n",
              "      <td>32.883500</td>\n",
              "      <td>NaN</td>\n",
              "      <td>NaN</td>\n",
              "    </tr>\n",
              "    <tr>\n",
              "      <th>2857</th>\n",
              "      <td>AUT</td>\n",
              "      <td>Austria</td>\n",
              "      <td>JOB_REQ_LS</td>\n",
              "      <td>Job requirements; low qualification</td>\n",
              "      <td>T</td>\n",
              "      <td>Total</td>\n",
              "      <td>2012</td>\n",
              "      <td>2012</td>\n",
              "      <td>PC</td>\n",
              "      <td>Percentage</td>\n",
              "      <td>0</td>\n",
              "      <td>Units</td>\n",
              "      <td>NaN</td>\n",
              "      <td>NaN</td>\n",
              "      <td>27.833430</td>\n",
              "      <td>NaN</td>\n",
              "      <td>NaN</td>\n",
              "    </tr>\n",
              "    <tr>\n",
              "      <th>5099</th>\n",
              "      <td>BEL</td>\n",
              "      <td>Belgium</td>\n",
              "      <td>JOB_REQ_LS</td>\n",
              "      <td>Job requirements; low qualification</td>\n",
              "      <td>T</td>\n",
              "      <td>Total</td>\n",
              "      <td>2012</td>\n",
              "      <td>2012</td>\n",
              "      <td>PC</td>\n",
              "      <td>Percentage</td>\n",
              "      <td>0</td>\n",
              "      <td>Units</td>\n",
              "      <td>NaN</td>\n",
              "      <td>NaN</td>\n",
              "      <td>8.082785</td>\n",
              "      <td>NaN</td>\n",
              "      <td>NaN</td>\n",
              "    </tr>\n",
              "    <tr>\n",
              "      <th>6194</th>\n",
              "      <td>CAN</td>\n",
              "      <td>Canada</td>\n",
              "      <td>JOB_REQ_LS</td>\n",
              "      <td>Job requirements; low qualification</td>\n",
              "      <td>T</td>\n",
              "      <td>Total</td>\n",
              "      <td>2012</td>\n",
              "      <td>2012</td>\n",
              "      <td>PC</td>\n",
              "      <td>Percentage</td>\n",
              "      <td>0</td>\n",
              "      <td>Units</td>\n",
              "      <td>NaN</td>\n",
              "      <td>NaN</td>\n",
              "      <td>11.657720</td>\n",
              "      <td>NaN</td>\n",
              "      <td>NaN</td>\n",
              "    </tr>\n",
              "    <tr>\n",
              "      <th>8215</th>\n",
              "      <td>CZE</td>\n",
              "      <td>Czech Republic</td>\n",
              "      <td>JOB_REQ_LS</td>\n",
              "      <td>Job requirements; low qualification</td>\n",
              "      <td>T</td>\n",
              "      <td>Total</td>\n",
              "      <td>2012</td>\n",
              "      <td>2012</td>\n",
              "      <td>PC</td>\n",
              "      <td>Percentage</td>\n",
              "      <td>0</td>\n",
              "      <td>Units</td>\n",
              "      <td>NaN</td>\n",
              "      <td>NaN</td>\n",
              "      <td>16.390920</td>\n",
              "      <td>NaN</td>\n",
              "      <td>NaN</td>\n",
              "    </tr>\n",
              "  </tbody>\n",
              "</table>\n",
              "</div>\n",
              "      <button class=\"colab-df-convert\" onclick=\"convertToInteractive('df-0d735886-3bbc-4228-83dd-4e529146db9d')\"\n",
              "              title=\"Convert this dataframe to an interactive table.\"\n",
              "              style=\"display:none;\">\n",
              "        \n",
              "  <svg xmlns=\"http://www.w3.org/2000/svg\" height=\"24px\"viewBox=\"0 0 24 24\"\n",
              "       width=\"24px\">\n",
              "    <path d=\"M0 0h24v24H0V0z\" fill=\"none\"/>\n",
              "    <path d=\"M18.56 5.44l.94 2.06.94-2.06 2.06-.94-2.06-.94-.94-2.06-.94 2.06-2.06.94zm-11 1L8.5 8.5l.94-2.06 2.06-.94-2.06-.94L8.5 2.5l-.94 2.06-2.06.94zm10 10l.94 2.06.94-2.06 2.06-.94-2.06-.94-.94-2.06-.94 2.06-2.06.94z\"/><path d=\"M17.41 7.96l-1.37-1.37c-.4-.4-.92-.59-1.43-.59-.52 0-1.04.2-1.43.59L10.3 9.45l-7.72 7.72c-.78.78-.78 2.05 0 2.83L4 21.41c.39.39.9.59 1.41.59.51 0 1.02-.2 1.41-.59l7.78-7.78 2.81-2.81c.8-.78.8-2.07 0-2.86zM5.41 20L4 18.59l7.72-7.72 1.47 1.35L5.41 20z\"/>\n",
              "  </svg>\n",
              "      </button>\n",
              "      \n",
              "  <style>\n",
              "    .colab-df-container {\n",
              "      display:flex;\n",
              "      flex-wrap:wrap;\n",
              "      gap: 12px;\n",
              "    }\n",
              "\n",
              "    .colab-df-convert {\n",
              "      background-color: #E8F0FE;\n",
              "      border: none;\n",
              "      border-radius: 50%;\n",
              "      cursor: pointer;\n",
              "      display: none;\n",
              "      fill: #1967D2;\n",
              "      height: 32px;\n",
              "      padding: 0 0 0 0;\n",
              "      width: 32px;\n",
              "    }\n",
              "\n",
              "    .colab-df-convert:hover {\n",
              "      background-color: #E2EBFA;\n",
              "      box-shadow: 0px 1px 2px rgba(60, 64, 67, 0.3), 0px 1px 3px 1px rgba(60, 64, 67, 0.15);\n",
              "      fill: #174EA6;\n",
              "    }\n",
              "\n",
              "    [theme=dark] .colab-df-convert {\n",
              "      background-color: #3B4455;\n",
              "      fill: #D2E3FC;\n",
              "    }\n",
              "\n",
              "    [theme=dark] .colab-df-convert:hover {\n",
              "      background-color: #434B5C;\n",
              "      box-shadow: 0px 1px 3px 1px rgba(0, 0, 0, 0.15);\n",
              "      filter: drop-shadow(0px 1px 2px rgba(0, 0, 0, 0.3));\n",
              "      fill: #FFFFFF;\n",
              "    }\n",
              "  </style>\n",
              "\n",
              "      <script>\n",
              "        const buttonEl =\n",
              "          document.querySelector('#df-0d735886-3bbc-4228-83dd-4e529146db9d button.colab-df-convert');\n",
              "        buttonEl.style.display =\n",
              "          google.colab.kernel.accessAllowed ? 'block' : 'none';\n",
              "\n",
              "        async function convertToInteractive(key) {\n",
              "          const element = document.querySelector('#df-0d735886-3bbc-4228-83dd-4e529146db9d');\n",
              "          const dataTable =\n",
              "            await google.colab.kernel.invokeFunction('convertToInteractive',\n",
              "                                                     [key], {});\n",
              "          if (!dataTable) return;\n",
              "\n",
              "          const docLinkHtml = 'Like what you see? Visit the ' +\n",
              "            '<a target=\"_blank\" href=https://colab.research.google.com/notebooks/data_table.ipynb>data table notebook</a>'\n",
              "            + ' to learn more about interactive tables.';\n",
              "          element.innerHTML = '';\n",
              "          dataTable['output_type'] = 'display_data';\n",
              "          await google.colab.output.renderOutput(dataTable, element);\n",
              "          const docLink = document.createElement('div');\n",
              "          docLink.innerHTML = docLinkHtml;\n",
              "          element.appendChild(docLink);\n",
              "        }\n",
              "      </script>\n",
              "    </div>\n",
              "  </div>\n",
              "  "
            ]
          },
          "metadata": {},
          "execution_count": 219
        }
      ]
    },
    {
      "cell_type": "code",
      "source": [],
      "metadata": {
        "id": "TzxZqMiRhov7"
      },
      "id": "TzxZqMiRhov7",
      "execution_count": 219,
      "outputs": []
    },
    {
      "cell_type": "code",
      "source": [
        "df_med = df_all.query('Variable.str.startswith(\"Job requirements; medium qualification\") and Sex.str.startswith(\"T\")')\n",
        "df_med_vs_Unempl=pd.merge(df_med,df_unemployeement,left_on='LOCATION',right_on='Country Code',how='inner')\n",
        "sns.regplot(x='Value',y='2012',data=df_med_vs_Unempl)\n",
        "\n",
        "X = df_med_vs_Unempl[['Value']]\n",
        "Y = df_med_vs_Unempl['2012']\n",
        "lm = LinearRegression()\n",
        "lm.fit(X,Y)\n",
        "print(lm.coef_,lm.score(X,Y))"
      ],
      "metadata": {
        "colab": {
          "base_uri": "https://localhost:8080/",
          "height": 466
        },
        "id": "jpVBxcRZebjA",
        "outputId": "79d60fff-0dbe-486d-ca0d-c82833cc85cf"
      },
      "id": "jpVBxcRZebjA",
      "execution_count": 220,
      "outputs": [
        {
          "output_type": "stream",
          "name": "stdout",
          "text": [
            "[-0.11233564] 0.07191704341701288\n"
          ]
        },
        {
          "output_type": "display_data",
          "data": {
            "text/plain": [
              "<Figure size 640x480 with 1 Axes>"
            ],
            "image/png": "[encoded data removed]"
          },
          "metadata": {}
        }
      ]
    },
    {
      "cell_type": "code",
      "source": [
        "df_high = df_all.query('Variable.str.startswith(\"Job requirements; high qualification\") and Sex.str.startswith(\"T\")')\n",
        "df_high_vs_Unempl=pd.merge(df_high,df_unemployeement,left_on='LOCATION',right_on='Country Code',how='inner')\n",
        "sns.regplot(x='Value',y='2012',data=df_high_vs_Unempl)\n",
        "\n",
        "X = df_high_vs_Unempl[['Value']]\n",
        "Y = df_high_vs_Unempl['2012']\n",
        "lm = LinearRegression()\n",
        "lm.fit(X,Y)\n",
        "print(lm.coef_,lm.score(X,Y))"
      ],
      "metadata": {
        "colab": {
          "base_uri": "https://localhost:8080/",
          "height": 466
        },
        "id": "pRzrPfXrejL1",
        "outputId": "78d4db59-a454-468a-c285-c24ea3e0f93a"
      },
      "id": "pRzrPfXrejL1",
      "execution_count": 221,
      "outputs": [
        {
          "output_type": "stream",
          "name": "stdout",
          "text": [
            "[-0.03805309] 0.005336410782648349\n"
          ]
        },
        {
          "output_type": "display_data",
          "data": {
            "text/plain": [
              "<Figure size 640x480 with 1 Axes>"
            ],
            "image/png": "[encoded data removed]"
          },
          "metadata": {}
        }
      ]
    },
    {
      "cell_type": "code",
      "source": [
        "df_high = df_high.rename(columns={\"Value\": \"highSkill\"})\n",
        "df_med = df_med.rename(columns={\"Value\": \"medSkill\"})\n",
        "df_low = df_low.rename(columns={\"Value\": \"lowSkill\"})\n",
        "\n",
        "df_skill = pd.merge(df_high,df_med,left_on='LOCATION',right_on='LOCATION',how='inner')\n",
        "df_skill = pd.merge(df_skill,df_low,left_on='LOCATION',right_on='LOCATION',how='inner')\n",
        "df_skill = pd.merge(df_skill,df_minWage,left_on='LOCATION',right_on='COUNTRY',how='inner')\n",
        "df_skill = pd.merge(df_skill,df_unemployeement,left_on='LOCATION',right_on='Country Code',how='inner')\n",
        "\n",
        "X = df_skill[['highSkill','medSkill','lowSkill','Value']]\n",
        "Y = df_skill['2012']\n",
        "lm = LinearRegression()\n",
        "lm.fit(X,Y)\n",
        "print(lm.score(X,Y))"
      ],
      "metadata": {
        "colab": {
          "base_uri": "https://localhost:8080/"
        },
        "id": "ZjD9DSvXemrs",
        "outputId": "9d363a33-5e71-46e0-c7d0-15b0015ed68f"
      },
      "id": "ZjD9DSvXemrs",
      "execution_count": 240,
      "outputs": [
        {
          "output_type": "stream",
          "name": "stdout",
          "text": [
            "0.40127618727927294\n"
          ]
        },
        {
          "output_type": "stream",
          "name": "stderr",
          "text": [
            "<ipython-input-240-cfc31a4c4c7a>:7: FutureWarning: Passing 'suffixes' which cause duplicate columns {'PowerCode_x', 'Reference Period_x', 'Unit Code_x', 'Unit_x', 'TIME_x', 'Reference Period Code_x', 'PowerCode Code_x', 'Flags_x', 'Country_x', 'Flag Codes_x'} in the result is deprecated and will raise a MergeError in a future version.\n",
            "  df_skill = pd.merge(df_skill,df_minWage,left_on='LOCATION',right_on='COUNTRY',how='inner')\n"
          ]
        }
      ]
    },
    {
      "cell_type": "code",
      "source": [
        "# Perform 5-fold cross-validation\n",
        "scores = cross_val_score(lm, X, Y, cv=5, scoring='r2')\n",
        "\n",
        "# Print the R2 scores for each fold\n",
        "print(\"R2 scores:\", scores)\n",
        "\n",
        "# Print the mean and standard deviation of the scores\n",
        "print(\"Mean R2 score:\", scores.mean())"
      ],
      "metadata": {
        "colab": {
          "base_uri": "https://localhost:8080/"
        },
        "id": "Yp1M4Y0Pe5eY",
        "outputId": "ed850cc5-432a-4d0e-9572-abbdd7d5c11e"
      },
      "id": "Yp1M4Y0Pe5eY",
      "execution_count": 226,
      "outputs": [
        {
          "output_type": "stream",
          "name": "stdout",
          "text": [
            "R2 scores: [-57.82888733  -0.5322766   -0.75337599  -1.02190173 -55.77829043]\n",
            "Mean R2 score: -23.18294641683509\n"
          ]
        }
      ]
    },
    {
      "cell_type": "markdown",
      "source": [
        "##RandomForest Regressor"
      ],
      "metadata": {
        "id": "57E_ufaGeLEz"
      },
      "id": "57E_ufaGeLEz"
    },
    {
      "cell_type": "code",
      "source": [
        "# Create and train the model\n",
        "rf = RandomForestRegressor(n_estimators=100, random_state=42)\n",
        "rf.fit(X, Y)\n",
        "\n",
        "print(rf.score(X,Y))"
      ],
      "metadata": {
        "colab": {
          "base_uri": "https://localhost:8080/"
        },
        "id": "UcfsvRbZe3Xa",
        "outputId": "5461de1e-6fbd-4259-c55d-31a788e02a21"
      },
      "id": "UcfsvRbZe3Xa",
      "execution_count": 227,
      "outputs": [
        {
          "output_type": "stream",
          "name": "stdout",
          "text": [
            "0.8472825465652762\n"
          ]
        }
      ]
    },
    {
      "cell_type": "code",
      "source": [
        "\n",
        "# Create a Random Forest Regressor with 100 trees\n",
        "rf = RandomForestRegressor(n_estimators=100, random_state=42)\n",
        "\n",
        "# Perform 5-fold cross-validation\n",
        "scores = cross_val_score(rf, X, Y, cv=5, scoring='r2')\n",
        "\n",
        "# Print the R2 scores for each fold\n",
        "print(\"R2 scores:\", scores)\n",
        "\n",
        "# Print the mean and standard deviation of the scores\n",
        "print(\"Mean R2 score:\", scores.mean())"
      ],
      "metadata": {
        "colab": {
          "base_uri": "https://localhost:8080/"
        },
        "id": "IYtZVJeWfLdp",
        "outputId": "6d55f75b-17f6-4256-f007-d7c916ba8247"
      },
      "id": "IYtZVJeWfLdp",
      "execution_count": 228,
      "outputs": [
        {
          "output_type": "stream",
          "name": "stdout",
          "text": [
            "R2 scores: [-23.61231073  -0.43867737  -0.27100805  -0.75756724  -5.04753521]\n",
            "Mean R2 score: -6.025419720970426\n"
          ]
        }
      ]
    }
  ],
  "metadata": {
    "kernelspec": {
      "display_name": "Python 3 (ipykernel)",
      "language": "python",
      "name": "python3"
    },
    "language_info": {
      "codemirror_mode": {
        "name": "ipython",
        "version": 3
      },
      "file_extension": ".py",
      "mimetype": "text/x-python",
      "name": "python",
      "nbconvert_exporter": "python",
      "pygments_lexer": "ipython3",
      "version": "3.9.7"
    },
    "colab": {
      "provenance": []
    }
  },
  "nbformat": 4,
  "nbformat_minor": 5
}